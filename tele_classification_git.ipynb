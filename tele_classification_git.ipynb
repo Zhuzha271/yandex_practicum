{
 "cells": [
  {
   "cell_type": "markdown",
   "metadata": {},
   "source": [
    "**название проекта:**\n",
    "\n",
    "<font color='blue'>Определение вероятности оттока клиентов оператора сотовой связи с использованием моделей машинного обучения</font>\n",
    "\n",
    "**цель проекта:**\n",
    "\n",
    "Провести анализ имеющихся данных о клиентах и услугах, предоставляемых компанией, сделать выводы о влиянии этих показателей на возможный отказ пользователей от услуг заказчика. Создать модель машинного обучения, которая по средствам классификации достигнет показателя метрики AUC-ROC не ниже 0.85"
   ]
  },
  {
   "cell_type": "markdown",
   "metadata": {},
   "source": [
    "**План проекта:**\n",
    "<ol>\n",
    "<li>Предварительный осмотр имеющихся данных:</li>\n",
    "<ul>\n",
    "<li>Импорт необходимых библиотек</li>\n",
    "<li>Загрузка имеющихся датасетов</li>\n",
    "<li>Рассмотрение предоставленных данных</li>\n",
    "<li>Первичный анализ имеющихся данных</li>\n",
    "</ul>\n",
    "<li>Предообработка и исследовательский анализ данных:</li>\n",
    "<ul>\n",
    "<li>Рассмотрение данных во всех загруженных датасетах, по необходимости преобразование типов данных</li>\n",
    "<li>Выявление целевого признака</li>\n",
    "<li>Визуализация и анализ распределения численных данных</li>\n",
    "<li>По необходимости формирование новых характеристик, которые в дальнейшем помогут в достижении цели проекта</li>\n",
    "<li>Объединение данных в общий датасет</li>\n",
    "<li>Определение степени корреляции внутри признаков</li>\n",
    "<li>Анализ и выявление степени влияния имеющихся данных на целевой признак</li>\n",
    "<li>Отбор признаков и его обоснование</li>\n",
    "</ul>\n",
    "<li>Подготовка данных к обучению модели машинного обучения:</li>\n",
    "<ul>\n",
    "<li>Разделение выборки на тренировочную и тестовую части</li>\n",
    "<li>Выполнение кодирования категориальных данных</li>\n",
    "</ul>\n",
    "<li>Выбор модели МЛ:</li>\n",
    "<ul>\n",
    "<li>Валидация</li>\n",
    "<li>Анализ получившихся метрик качества</li>\n",
    "<li>Выбор лучшей модели для тестирования</li>\n",
    "</ul>\n",
    "<li>Тестирование:</li>\n",
    "<ul>\n",
    "<li>Тестирование выбранной модели</li>\n",
    "<li>Анализ полученных метрик качества</li>\n",
    "</ul>\n",
    "<li>Отчет о работе над проектом:</li>\n",
    "<ul>\n",
    "<li>Описание всех ключевых шагов по выполнению данного проекта</li>\n",
    "<li>Описание выбранной модели МЛ</li>\n",
    "<li>Описание полученных метрик</li>\n",
    "<li>Составление вывода о достижении конечной цели проекта</li>\n",
    "</ul>\n",
    "</ol>"
   ]
  },
  {
   "cell_type": "code",
   "execution_count": 82,
   "metadata": {},
   "outputs": [],
   "source": [
    "!pip install -q phik"
   ]
  },
  {
   "cell_type": "code",
   "execution_count": null,
   "metadata": {},
   "outputs": [],
   "source": [
    "import warnings\n",
    "\n",
    "import numpy as np\n",
    "import pandas as pd\n",
    "import matplotlib.pyplot as plt\n",
    "import seaborn as sns\n",
    "import phik\n",
    "\n",
    "from sklearn.dummy import DummyClassifier\n",
    "from sklearn.ensemble import RandomForestClassifier\n",
    "from sklearn.linear_model import LogisticRegression\n",
    "from sklearn.metrics import accuracy_score, make_scorer, roc_auc_score\n",
    "from sklearn.model_selection import cross_validate, train_test_split, GridSearchCV, TimeSeriesSplit\n",
    "from sklearn.preprocessing import OneHotEncoder, StandardScaler\n",
    "\n",
    "from lightgbm import LGBMClassifier\n",
    "\n",
    "warnings.simplefilter(action='ignore')"
   ]
  },
  {
   "cell_type": "code",
   "execution_count": null,
   "metadata": {},
   "outputs": [],
   "source": [
    "random_state = 50623\n",
    "test_size = 0.25"
   ]
  },
  {
   "cell_type": "code",
   "execution_count": null,
   "metadata": {},
   "outputs": [],
   "source": [
    "!pip install -U -q scikit-learn\n",
    "!pip install -U -q matplotlib\n",
    "!pip install -U -q seaborn"
   ]
  },
  {
   "cell_type": "markdown",
   "metadata": {},
   "source": [
    "Я буду поочередно загружать имеющиеся датасеты и делать краткие выводы по каждому из них."
   ]
  },
  {
   "cell_type": "code",
   "execution_count": null,
   "metadata": {},
   "outputs": [
    {
     "name": "stdout",
     "output_type": "stream",
     "text": [
      "<class 'pandas.core.frame.DataFrame'>\n",
      "RangeIndex: 7043 entries, 0 to 7042\n",
      "Data columns (total 8 columns):\n",
      " #   Column            Non-Null Count  Dtype  \n",
      "---  ------            --------------  -----  \n",
      " 0   customerID        7043 non-null   object \n",
      " 1   BeginDate         7043 non-null   object \n",
      " 2   EndDate           7043 non-null   object \n",
      " 3   Type              7043 non-null   object \n",
      " 4   PaperlessBilling  7043 non-null   object \n",
      " 5   PaymentMethod     7043 non-null   object \n",
      " 6   MonthlyCharges    7043 non-null   float64\n",
      " 7   TotalCharges      7043 non-null   object \n",
      "dtypes: float64(1), object(7)\n",
      "memory usage: 440.3+ KB\n"
     ]
    }
   ],
   "source": [
    "contract.info()"
   ]
  },
  {
   "cell_type": "code",
   "execution_count": null,
   "metadata": {},
   "outputs": [
    {
     "data": {
      "text/plain": [
       "0"
      ]
     },
     "execution_count": 7,
     "metadata": {},
     "output_type": "execute_result"
    }
   ],
   "source": [
    "contract.duplicated().sum()"
   ]
  },
  {
   "cell_type": "code",
   "execution_count": null,
   "metadata": {},
   "outputs": [
    {
     "data": {
      "text/html": [
       "<div>\n",
       "<style scoped>\n",
       "    .dataframe tbody tr th:only-of-type {\n",
       "        vertical-align: middle;\n",
       "    }\n",
       "\n",
       "    .dataframe tbody tr th {\n",
       "        vertical-align: top;\n",
       "    }\n",
       "\n",
       "    .dataframe thead th {\n",
       "        text-align: right;\n",
       "    }\n",
       "</style>\n",
       "<table border=\"1\" class=\"dataframe\">\n",
       "  <thead>\n",
       "    <tr style=\"text-align: right;\">\n",
       "      <th></th>\n",
       "      <th>customerID</th>\n",
       "      <th>BeginDate</th>\n",
       "      <th>EndDate</th>\n",
       "      <th>Type</th>\n",
       "      <th>PaperlessBilling</th>\n",
       "      <th>PaymentMethod</th>\n",
       "      <th>MonthlyCharges</th>\n",
       "      <th>TotalCharges</th>\n",
       "    </tr>\n",
       "  </thead>\n",
       "  <tbody>\n",
       "    <tr>\n",
       "      <th>452</th>\n",
       "      <td>8847-GEOOQ</td>\n",
       "      <td>2015-02-01</td>\n",
       "      <td>2016-10-01</td>\n",
       "      <td>Month-to-month</td>\n",
       "      <td>Yes</td>\n",
       "      <td>Bank transfer (automatic)</td>\n",
       "      <td>60.20</td>\n",
       "      <td>1264.2</td>\n",
       "    </tr>\n",
       "    <tr>\n",
       "      <th>3038</th>\n",
       "      <td>5897-ZYEKH</td>\n",
       "      <td>2014-07-01</td>\n",
       "      <td>No</td>\n",
       "      <td>One year</td>\n",
       "      <td>Yes</td>\n",
       "      <td>Electronic check</td>\n",
       "      <td>105.60</td>\n",
       "      <td>7075.2</td>\n",
       "    </tr>\n",
       "    <tr>\n",
       "      <th>4022</th>\n",
       "      <td>5863-OOKCL</td>\n",
       "      <td>2019-04-01</td>\n",
       "      <td>No</td>\n",
       "      <td>Month-to-month</td>\n",
       "      <td>No</td>\n",
       "      <td>Mailed check</td>\n",
       "      <td>18.85</td>\n",
       "      <td>188.5</td>\n",
       "    </tr>\n",
       "  </tbody>\n",
       "</table>\n",
       "</div>"
      ],
      "text/plain": [
       "      customerID   BeginDate     EndDate            Type PaperlessBilling  \\\n",
       "452   8847-GEOOQ  2015-02-01  2016-10-01  Month-to-month              Yes   \n",
       "3038  5897-ZYEKH  2014-07-01          No        One year              Yes   \n",
       "4022  5863-OOKCL  2019-04-01          No  Month-to-month               No   \n",
       "\n",
       "                  PaymentMethod  MonthlyCharges TotalCharges  \n",
       "452   Bank transfer (automatic)           60.20       1264.2  \n",
       "3038           Electronic check          105.60       7075.2  \n",
       "4022               Mailed check           18.85        188.5  "
      ]
     },
     "execution_count": 8,
     "metadata": {},
     "output_type": "execute_result"
    }
   ],
   "source": [
    "contract.sample(3)"
   ]
  },
  {
   "cell_type": "markdown",
   "metadata": {},
   "source": [
    "**Датасет Договор:**\n",
    "Мы имеем датасет, состоящий из 7043 строк и 8 столбцов данных, пропуски и дубликаты в данных отсутствуют. Тип всех колонок строковый, кроме одного столбца, представленного числом с плавающей точкой. Все данные сгруппированны по идентификационному номеру клиента компании. Это: даты начала и конца пользования услугами компании(где данные в последнем столбце отсутствуют-клиент пользуется данными на период загрузки датасета - 01.02.2020), тип оплаты договора, способ оплаты, ежемесячные траты на услуги, итоговые траты на услуги компании."
   ]
  },
  {
   "cell_type": "markdown",
   "metadata": {},
   "source": [
    "Пока некоторые интересующие нас признаки не приведены к нужному типу данных, нормально визуализировать мы можем только единственный численный признак - Ежемесячные траты на услуги компании. На распределение остальных признаков пока можем посмотреть весьма поверхностно."
   ]
  },
  {
   "cell_type": "code",
   "execution_count": null,
   "metadata": {},
   "outputs": [
    {
     "data": {
      "image/png": "[encoded data removed]",
      "text/plain": [
       "<Figure size 500x300 with 1 Axes>"
      ]
     },
     "metadata": {},
     "output_type": "display_data"
    }
   ],
   "source": [
    "plt.figure(figsize=(5, 3))\n",
    "sns.boxplot(data=contract.MonthlyCharges).set_title('Месячные траты');"
   ]
  },
  {
   "cell_type": "markdown",
   "metadata": {},
   "source": [
    "Мы видим, что в среднем ежемесячные траты составляют около 70, основная масса содержится в интервале от 38 ло 97. Распределение признака с ассиметрией в левую(меньшую) сторону."
   ]
  },
  {
   "cell_type": "code",
   "execution_count": null,
   "metadata": {},
   "outputs": [
    {
     "data": {
      "text/html": [
       "<div>\n",
       "<style scoped>\n",
       "    .dataframe tbody tr th:only-of-type {\n",
       "        vertical-align: middle;\n",
       "    }\n",
       "\n",
       "    .dataframe tbody tr th {\n",
       "        vertical-align: top;\n",
       "    }\n",
       "\n",
       "    .dataframe thead th {\n",
       "        text-align: right;\n",
       "    }\n",
       "</style>\n",
       "<table border=\"1\" class=\"dataframe\">\n",
       "  <thead>\n",
       "    <tr style=\"text-align: right;\">\n",
       "      <th></th>\n",
       "      <th>count</th>\n",
       "    </tr>\n",
       "    <tr>\n",
       "      <th>BeginDate</th>\n",
       "      <th></th>\n",
       "    </tr>\n",
       "  </thead>\n",
       "  <tbody>\n",
       "    <tr>\n",
       "      <th>2014-02-01</th>\n",
       "      <td>366</td>\n",
       "    </tr>\n",
       "    <tr>\n",
       "      <th>2019-10-01</th>\n",
       "      <td>237</td>\n",
       "    </tr>\n",
       "    <tr>\n",
       "      <th>2019-11-01</th>\n",
       "      <td>237</td>\n",
       "    </tr>\n",
       "    <tr>\n",
       "      <th>2019-09-01</th>\n",
       "      <td>237</td>\n",
       "    </tr>\n",
       "    <tr>\n",
       "      <th>2020-01-01</th>\n",
       "      <td>233</td>\n",
       "    </tr>\n",
       "    <tr>\n",
       "      <th>...</th>\n",
       "      <td>...</td>\n",
       "    </tr>\n",
       "    <tr>\n",
       "      <th>2020-02-01</th>\n",
       "      <td>11</td>\n",
       "    </tr>\n",
       "    <tr>\n",
       "      <th>2014-01-01</th>\n",
       "      <td>7</td>\n",
       "    </tr>\n",
       "    <tr>\n",
       "      <th>2013-10-01</th>\n",
       "      <td>3</td>\n",
       "    </tr>\n",
       "    <tr>\n",
       "      <th>2013-12-01</th>\n",
       "      <td>3</td>\n",
       "    </tr>\n",
       "    <tr>\n",
       "      <th>2013-11-01</th>\n",
       "      <td>2</td>\n",
       "    </tr>\n",
       "  </tbody>\n",
       "</table>\n",
       "<p>77 rows × 1 columns</p>\n",
       "</div>"
      ],
      "text/plain": [
       "            count\n",
       "BeginDate        \n",
       "2014-02-01    366\n",
       "2019-10-01    237\n",
       "2019-11-01    237\n",
       "2019-09-01    237\n",
       "2020-01-01    233\n",
       "...           ...\n",
       "2020-02-01     11\n",
       "2014-01-01      7\n",
       "2013-10-01      3\n",
       "2013-12-01      3\n",
       "2013-11-01      2\n",
       "\n",
       "[77 rows x 1 columns]"
      ]
     },
     "execution_count": 10,
     "metadata": {},
     "output_type": "execute_result"
    }
   ],
   "source": [
    "contract.BeginDate.value_counts().to_frame()"
   ]
  },
  {
   "cell_type": "code",
   "execution_count": null,
   "metadata": {},
   "outputs": [
    {
     "data": {
      "text/html": [
       "<div>\n",
       "<style scoped>\n",
       "    .dataframe tbody tr th:only-of-type {\n",
       "        vertical-align: middle;\n",
       "    }\n",
       "\n",
       "    .dataframe tbody tr th {\n",
       "        vertical-align: top;\n",
       "    }\n",
       "\n",
       "    .dataframe thead th {\n",
       "        text-align: right;\n",
       "    }\n",
       "</style>\n",
       "<table border=\"1\" class=\"dataframe\">\n",
       "  <thead>\n",
       "    <tr style=\"text-align: right;\">\n",
       "      <th></th>\n",
       "      <th>count</th>\n",
       "    </tr>\n",
       "    <tr>\n",
       "      <th>EndDate</th>\n",
       "      <th></th>\n",
       "    </tr>\n",
       "  </thead>\n",
       "  <tbody>\n",
       "    <tr>\n",
       "      <th>No</th>\n",
       "      <td>5942</td>\n",
       "    </tr>\n",
       "    <tr>\n",
       "      <th>2020-01-01</th>\n",
       "      <td>39</td>\n",
       "    </tr>\n",
       "    <tr>\n",
       "      <th>2019-12-01</th>\n",
       "      <td>38</td>\n",
       "    </tr>\n",
       "    <tr>\n",
       "      <th>2018-11-01</th>\n",
       "      <td>35</td>\n",
       "    </tr>\n",
       "    <tr>\n",
       "      <th>2019-09-01</th>\n",
       "      <td>32</td>\n",
       "    </tr>\n",
       "    <tr>\n",
       "      <th>...</th>\n",
       "      <td>...</td>\n",
       "    </tr>\n",
       "    <tr>\n",
       "      <th>2014-09-01</th>\n",
       "      <td>2</td>\n",
       "    </tr>\n",
       "    <tr>\n",
       "      <th>2014-12-01</th>\n",
       "      <td>2</td>\n",
       "    </tr>\n",
       "    <tr>\n",
       "      <th>2014-06-01</th>\n",
       "      <td>1</td>\n",
       "    </tr>\n",
       "    <tr>\n",
       "      <th>2014-10-01</th>\n",
       "      <td>1</td>\n",
       "    </tr>\n",
       "    <tr>\n",
       "      <th>2014-11-01</th>\n",
       "      <td>1</td>\n",
       "    </tr>\n",
       "  </tbody>\n",
       "</table>\n",
       "<p>67 rows × 1 columns</p>\n",
       "</div>"
      ],
      "text/plain": [
       "            count\n",
       "EndDate          \n",
       "No           5942\n",
       "2020-01-01     39\n",
       "2019-12-01     38\n",
       "2018-11-01     35\n",
       "2019-09-01     32\n",
       "...           ...\n",
       "2014-09-01      2\n",
       "2014-12-01      2\n",
       "2014-06-01      1\n",
       "2014-10-01      1\n",
       "2014-11-01      1\n",
       "\n",
       "[67 rows x 1 columns]"
      ]
     },
     "execution_count": 11,
     "metadata": {},
     "output_type": "execute_result"
    }
   ],
   "source": [
    "contract.EndDate.value_counts().to_frame()"
   ]
  },
  {
   "cell_type": "markdown",
   "metadata": {},
   "source": [
    "Значимо большее количество (5942) клиентов компании не имеют срока окончания обслуживания, значит продолжают пользоваться услугами компании."
   ]
  },
  {
   "cell_type": "code",
   "execution_count": null,
   "metadata": {},
   "outputs": [
    {
     "data": {
      "text/plain": [
       "array(['Month-to-month', 'One year', 'Two year'], dtype=object)"
      ]
     },
     "execution_count": 12,
     "metadata": {},
     "output_type": "execute_result"
    }
   ],
   "source": [
    "contract.Type.unique()"
   ]
  },
  {
   "cell_type": "code",
   "execution_count": null,
   "metadata": {},
   "outputs": [
    {
     "data": {
      "text/plain": [
       "array(['Electronic check', 'Mailed check', 'Bank transfer (automatic)',\n",
       "       'Credit card (automatic)'], dtype=object)"
      ]
     },
     "execution_count": 13,
     "metadata": {},
     "output_type": "execute_result"
    }
   ],
   "source": [
    "contract.PaymentMethod.unique()"
   ]
  },
  {
   "cell_type": "markdown",
   "metadata": {},
   "source": [
    "Мы видим, что столбцы Тип оплаты и Метод оплаты имеют по 3 и 4 уникальных значения соотвественно, а столбец Безналичный расчет представлен как бинарный идентификатор."
   ]
  },
  {
   "cell_type": "code",
   "execution_count": null,
   "metadata": {},
   "outputs": [
    {
     "name": "stdout",
     "output_type": "stream",
     "text": [
      "<class 'pandas.core.frame.DataFrame'>\n",
      "RangeIndex: 7043 entries, 0 to 7042\n",
      "Data columns (total 5 columns):\n",
      " #   Column         Non-Null Count  Dtype \n",
      "---  ------         --------------  ----- \n",
      " 0   customerID     7043 non-null   object\n",
      " 1   gender         7043 non-null   object\n",
      " 2   SeniorCitizen  7043 non-null   int64 \n",
      " 3   Partner        7043 non-null   object\n",
      " 4   Dependents     7043 non-null   object\n",
      "dtypes: int64(1), object(4)\n",
      "memory usage: 275.2+ KB\n"
     ]
    }
   ],
   "source": [
    "personal.info()"
   ]
  },
  {
   "cell_type": "code",
   "execution_count": null,
   "metadata": {},
   "outputs": [
    {
     "data": {
      "text/plain": [
       "0"
      ]
     },
     "execution_count": 16,
     "metadata": {},
     "output_type": "execute_result"
    }
   ],
   "source": [
    "personal.duplicated().sum()"
   ]
  },
  {
   "cell_type": "code",
   "execution_count": null,
   "metadata": {},
   "outputs": [
    {
     "data": {
      "text/html": [
       "<div>\n",
       "<style scoped>\n",
       "    .dataframe tbody tr th:only-of-type {\n",
       "        vertical-align: middle;\n",
       "    }\n",
       "\n",
       "    .dataframe tbody tr th {\n",
       "        vertical-align: top;\n",
       "    }\n",
       "\n",
       "    .dataframe thead th {\n",
       "        text-align: right;\n",
       "    }\n",
       "</style>\n",
       "<table border=\"1\" class=\"dataframe\">\n",
       "  <thead>\n",
       "    <tr style=\"text-align: right;\">\n",
       "      <th></th>\n",
       "      <th>customerID</th>\n",
       "      <th>gender</th>\n",
       "      <th>SeniorCitizen</th>\n",
       "      <th>Partner</th>\n",
       "      <th>Dependents</th>\n",
       "    </tr>\n",
       "  </thead>\n",
       "  <tbody>\n",
       "    <tr>\n",
       "      <th>2220</th>\n",
       "      <td>2234-EOFPT</td>\n",
       "      <td>Male</td>\n",
       "      <td>0</td>\n",
       "      <td>Yes</td>\n",
       "      <td>No</td>\n",
       "    </tr>\n",
       "    <tr>\n",
       "      <th>2881</th>\n",
       "      <td>4003-OCTMP</td>\n",
       "      <td>Female</td>\n",
       "      <td>0</td>\n",
       "      <td>Yes</td>\n",
       "      <td>No</td>\n",
       "    </tr>\n",
       "    <tr>\n",
       "      <th>5301</th>\n",
       "      <td>2082-OJVTK</td>\n",
       "      <td>Male</td>\n",
       "      <td>0</td>\n",
       "      <td>Yes</td>\n",
       "      <td>Yes</td>\n",
       "    </tr>\n",
       "  </tbody>\n",
       "</table>\n",
       "</div>"
      ],
      "text/plain": [
       "      customerID  gender  SeniorCitizen Partner Dependents\n",
       "2220  2234-EOFPT    Male              0     Yes         No\n",
       "2881  4003-OCTMP  Female              0     Yes         No\n",
       "5301  2082-OJVTK    Male              0     Yes        Yes"
      ]
     },
     "execution_count": 17,
     "metadata": {},
     "output_type": "execute_result"
    }
   ],
   "source": [
    "personal.sample(3)"
   ]
  },
  {
   "cell_type": "markdown",
   "metadata": {},
   "source": [
    "**Датасет Личные данные:**\n",
    "Включает в себя 7043 строки и 5 столбцов с данными, пропуски и дубликаты отсутствуют. Тип данных строковый, кроме столбца Пенсионный статус - целое число. Данные также сгруппированны по идентификационному номеру клиента. Все данные кроме ID предствалены в виде бинарных идентификаторов."
   ]
  },
  {
   "cell_type": "code",
   "execution_count": null,
   "metadata": {},
   "outputs": [
    {
     "data": {
      "text/html": [
       "<div>\n",
       "<style scoped>\n",
       "    .dataframe tbody tr th:only-of-type {\n",
       "        vertical-align: middle;\n",
       "    }\n",
       "\n",
       "    .dataframe tbody tr th {\n",
       "        vertical-align: top;\n",
       "    }\n",
       "\n",
       "    .dataframe thead th {\n",
       "        text-align: right;\n",
       "    }\n",
       "</style>\n",
       "<table border=\"1\" class=\"dataframe\">\n",
       "  <thead>\n",
       "    <tr style=\"text-align: right;\">\n",
       "      <th></th>\n",
       "      <th></th>\n",
       "      <th></th>\n",
       "      <th></th>\n",
       "      <th>Итого:</th>\n",
       "    </tr>\n",
       "    <tr>\n",
       "      <th>gender</th>\n",
       "      <th>SeniorCitizen</th>\n",
       "      <th>Partner</th>\n",
       "      <th>Dependents</th>\n",
       "      <th></th>\n",
       "    </tr>\n",
       "  </thead>\n",
       "  <tbody>\n",
       "    <tr>\n",
       "      <th>Male</th>\n",
       "      <th>0</th>\n",
       "      <th>No</th>\n",
       "      <th>No</th>\n",
       "      <td>1381</td>\n",
       "    </tr>\n",
       "    <tr>\n",
       "      <th rowspan=\"2\" valign=\"top\">Female</th>\n",
       "      <th rowspan=\"2\" valign=\"top\">0</th>\n",
       "      <th>No</th>\n",
       "      <th>No</th>\n",
       "      <td>1338</td>\n",
       "    </tr>\n",
       "    <tr>\n",
       "      <th>Yes</th>\n",
       "      <th>Yes</th>\n",
       "      <td>844</td>\n",
       "    </tr>\n",
       "    <tr>\n",
       "      <th>Male</th>\n",
       "      <th>0</th>\n",
       "      <th>Yes</th>\n",
       "      <th>Yes</th>\n",
       "      <td>822</td>\n",
       "    </tr>\n",
       "    <tr>\n",
       "      <th>Female</th>\n",
       "      <th>0</th>\n",
       "      <th>Yes</th>\n",
       "      <th>No</th>\n",
       "      <td>596</td>\n",
       "    </tr>\n",
       "    <tr>\n",
       "      <th>Male</th>\n",
       "      <th>0</th>\n",
       "      <th>Yes</th>\n",
       "      <th>No</th>\n",
       "      <td>567</td>\n",
       "    </tr>\n",
       "    <tr>\n",
       "      <th>Female</th>\n",
       "      <th>1</th>\n",
       "      <th>No</th>\n",
       "      <th>No</th>\n",
       "      <td>317</td>\n",
       "    </tr>\n",
       "    <tr>\n",
       "      <th rowspan=\"3\" valign=\"top\">Male</th>\n",
       "      <th rowspan=\"2\" valign=\"top\">1</th>\n",
       "      <th>Yes</th>\n",
       "      <th>No</th>\n",
       "      <td>281</td>\n",
       "    </tr>\n",
       "    <tr>\n",
       "      <th>No</th>\n",
       "      <th>No</th>\n",
       "      <td>244</td>\n",
       "    </tr>\n",
       "    <tr>\n",
       "      <th>0</th>\n",
       "      <th>No</th>\n",
       "      <th>Yes</th>\n",
       "      <td>211</td>\n",
       "    </tr>\n",
       "    <tr>\n",
       "      <th rowspan=\"2\" valign=\"top\">Female</th>\n",
       "      <th>1</th>\n",
       "      <th>Yes</th>\n",
       "      <th>No</th>\n",
       "      <td>209</td>\n",
       "    </tr>\n",
       "    <tr>\n",
       "      <th>0</th>\n",
       "      <th>No</th>\n",
       "      <th>Yes</th>\n",
       "      <td>142</td>\n",
       "    </tr>\n",
       "    <tr>\n",
       "      <th>Male</th>\n",
       "      <th>1</th>\n",
       "      <th>Yes</th>\n",
       "      <th>Yes</th>\n",
       "      <td>44</td>\n",
       "    </tr>\n",
       "    <tr>\n",
       "      <th>Female</th>\n",
       "      <th>1</th>\n",
       "      <th>Yes</th>\n",
       "      <th>Yes</th>\n",
       "      <td>39</td>\n",
       "    </tr>\n",
       "    <tr>\n",
       "      <th>Male</th>\n",
       "      <th>1</th>\n",
       "      <th>No</th>\n",
       "      <th>Yes</th>\n",
       "      <td>5</td>\n",
       "    </tr>\n",
       "    <tr>\n",
       "      <th>Female</th>\n",
       "      <th>1</th>\n",
       "      <th>No</th>\n",
       "      <th>Yes</th>\n",
       "      <td>3</td>\n",
       "    </tr>\n",
       "  </tbody>\n",
       "</table>\n",
       "</div>"
      ],
      "text/plain": [
       "                                         Итого:\n",
       "gender SeniorCitizen Partner Dependents        \n",
       "Male   0             No      No            1381\n",
       "Female 0             No      No            1338\n",
       "                     Yes     Yes            844\n",
       "Male   0             Yes     Yes            822\n",
       "Female 0             Yes     No             596\n",
       "Male   0             Yes     No             567\n",
       "Female 1             No      No             317\n",
       "Male   1             Yes     No             281\n",
       "                     No      No             244\n",
       "       0             No      Yes            211\n",
       "Female 1             Yes     No             209\n",
       "       0             No      Yes            142\n",
       "Male   1             Yes     Yes             44\n",
       "Female 1             Yes     Yes             39\n",
       "Male   1             No      Yes              5\n",
       "Female 1             No      Yes              3"
      ]
     },
     "execution_count": 18,
     "metadata": {},
     "output_type": "execute_result"
    }
   ],
   "source": [
    "personal[['gender', 'SeniorCitizen', 'Partner', 'Dependents']].value_counts().to_frame(name='Итого:')"
   ]
  },
  {
   "cell_type": "markdown",
   "metadata": {},
   "source": [
    "В представленной таблице мы видим распределение признаков из датасета с личными данными, например больше всего услугами компании пользуются молодые одинокие мужчины без иждивенцев, более основательные выводы в том числе и по этим данным будут сделаны в исследовательском анализу данных."
   ]
  },
  {
   "cell_type": "code",
   "execution_count": null,
   "metadata": {},
   "outputs": [
    {
     "name": "stdout",
     "output_type": "stream",
     "text": [
      "<class 'pandas.core.frame.DataFrame'>\n",
      "RangeIndex: 5517 entries, 0 to 5516\n",
      "Data columns (total 8 columns):\n",
      " #   Column            Non-Null Count  Dtype \n",
      "---  ------            --------------  ----- \n",
      " 0   customerID        5517 non-null   object\n",
      " 1   InternetService   5517 non-null   object\n",
      " 2   OnlineSecurity    5517 non-null   object\n",
      " 3   OnlineBackup      5517 non-null   object\n",
      " 4   DeviceProtection  5517 non-null   object\n",
      " 5   TechSupport       5517 non-null   object\n",
      " 6   StreamingTV       5517 non-null   object\n",
      " 7   StreamingMovies   5517 non-null   object\n",
      "dtypes: object(8)\n",
      "memory usage: 344.9+ KB\n"
     ]
    }
   ],
   "source": [
    "internet.info()"
   ]
  },
  {
   "cell_type": "code",
   "execution_count": null,
   "metadata": {},
   "outputs": [
    {
     "data": {
      "text/plain": [
       "0"
      ]
     },
     "execution_count": 21,
     "metadata": {},
     "output_type": "execute_result"
    }
   ],
   "source": [
    "internet.duplicated().sum()"
   ]
  },
  {
   "cell_type": "code",
   "execution_count": null,
   "metadata": {},
   "outputs": [
    {
     "data": {
      "text/html": [
       "<div>\n",
       "<style scoped>\n",
       "    .dataframe tbody tr th:only-of-type {\n",
       "        vertical-align: middle;\n",
       "    }\n",
       "\n",
       "    .dataframe tbody tr th {\n",
       "        vertical-align: top;\n",
       "    }\n",
       "\n",
       "    .dataframe thead th {\n",
       "        text-align: right;\n",
       "    }\n",
       "</style>\n",
       "<table border=\"1\" class=\"dataframe\">\n",
       "  <thead>\n",
       "    <tr style=\"text-align: right;\">\n",
       "      <th></th>\n",
       "      <th>customerID</th>\n",
       "      <th>InternetService</th>\n",
       "      <th>OnlineSecurity</th>\n",
       "      <th>OnlineBackup</th>\n",
       "      <th>DeviceProtection</th>\n",
       "      <th>TechSupport</th>\n",
       "      <th>StreamingTV</th>\n",
       "      <th>StreamingMovies</th>\n",
       "    </tr>\n",
       "  </thead>\n",
       "  <tbody>\n",
       "    <tr>\n",
       "      <th>926</th>\n",
       "      <td>0135-NMXAP</td>\n",
       "      <td>Fiber optic</td>\n",
       "      <td>No</td>\n",
       "      <td>Yes</td>\n",
       "      <td>No</td>\n",
       "      <td>No</td>\n",
       "      <td>Yes</td>\n",
       "      <td>No</td>\n",
       "    </tr>\n",
       "    <tr>\n",
       "      <th>1491</th>\n",
       "      <td>9281-PKKZE</td>\n",
       "      <td>DSL</td>\n",
       "      <td>No</td>\n",
       "      <td>No</td>\n",
       "      <td>No</td>\n",
       "      <td>No</td>\n",
       "      <td>Yes</td>\n",
       "      <td>Yes</td>\n",
       "    </tr>\n",
       "    <tr>\n",
       "      <th>5310</th>\n",
       "      <td>1113-IUJYX</td>\n",
       "      <td>Fiber optic</td>\n",
       "      <td>Yes</td>\n",
       "      <td>Yes</td>\n",
       "      <td>No</td>\n",
       "      <td>Yes</td>\n",
       "      <td>Yes</td>\n",
       "      <td>Yes</td>\n",
       "    </tr>\n",
       "  </tbody>\n",
       "</table>\n",
       "</div>"
      ],
      "text/plain": [
       "      customerID InternetService OnlineSecurity OnlineBackup DeviceProtection  \\\n",
       "926   0135-NMXAP     Fiber optic             No          Yes               No   \n",
       "1491  9281-PKKZE             DSL             No           No               No   \n",
       "5310  1113-IUJYX     Fiber optic            Yes          Yes               No   \n",
       "\n",
       "     TechSupport StreamingTV StreamingMovies  \n",
       "926           No         Yes              No  \n",
       "1491          No         Yes             Yes  \n",
       "5310         Yes         Yes             Yes  "
      ]
     },
     "execution_count": 22,
     "metadata": {},
     "output_type": "execute_result"
    }
   ],
   "source": [
    "internet.sample(3)"
   ]
  },
  {
   "cell_type": "code",
   "execution_count": null,
   "metadata": {},
   "outputs": [
    {
     "data": {
      "text/plain": [
       "array(['DSL', 'Fiber optic'], dtype=object)"
      ]
     },
     "execution_count": 23,
     "metadata": {},
     "output_type": "execute_result"
    }
   ],
   "source": [
    "internet.InternetService.unique()\t"
   ]
  },
  {
   "cell_type": "markdown",
   "metadata": {},
   "source": [
    "**Датасет Интернет:**\n",
    "Включает 5517 строк и 8 столбцов с данными, пропуски и дубликаты в датасете отсутствуют. Тип данный - строковый. Все данные сгруппированы по идентификационному номеру клиента компании. Каждый столбец с данными представлен только двумя категориями."
   ]
  },
  {
   "cell_type": "code",
   "execution_count": null,
   "metadata": {},
   "outputs": [
    {
     "data": {
      "text/html": [
       "<div>\n",
       "<style scoped>\n",
       "    .dataframe tbody tr th:only-of-type {\n",
       "        vertical-align: middle;\n",
       "    }\n",
       "\n",
       "    .dataframe tbody tr th {\n",
       "        vertical-align: top;\n",
       "    }\n",
       "\n",
       "    .dataframe thead th {\n",
       "        text-align: right;\n",
       "    }\n",
       "</style>\n",
       "<table border=\"1\" class=\"dataframe\">\n",
       "  <thead>\n",
       "    <tr style=\"text-align: right;\">\n",
       "      <th></th>\n",
       "      <th></th>\n",
       "      <th></th>\n",
       "      <th></th>\n",
       "      <th></th>\n",
       "      <th></th>\n",
       "      <th>Итого:</th>\n",
       "    </tr>\n",
       "    <tr>\n",
       "      <th>InternetService</th>\n",
       "      <th>OnlineSecurity</th>\n",
       "      <th>DeviceProtection</th>\n",
       "      <th>TechSupport</th>\n",
       "      <th>StreamingTV</th>\n",
       "      <th>StreamingMovies</th>\n",
       "      <th></th>\n",
       "    </tr>\n",
       "  </thead>\n",
       "  <tbody>\n",
       "    <tr>\n",
       "      <th>Fiber optic</th>\n",
       "      <th>No</th>\n",
       "      <th>No</th>\n",
       "      <th>No</th>\n",
       "      <th>No</th>\n",
       "      <th>No</th>\n",
       "      <td>511</td>\n",
       "    </tr>\n",
       "    <tr>\n",
       "      <th>DSL</th>\n",
       "      <th>No</th>\n",
       "      <th>No</th>\n",
       "      <th>No</th>\n",
       "      <th>No</th>\n",
       "      <th>No</th>\n",
       "      <td>391</td>\n",
       "    </tr>\n",
       "    <tr>\n",
       "      <th rowspan=\"2\" valign=\"top\">Fiber optic</th>\n",
       "      <th rowspan=\"2\" valign=\"top\">No</th>\n",
       "      <th>Yes</th>\n",
       "      <th>No</th>\n",
       "      <th>Yes</th>\n",
       "      <th>Yes</th>\n",
       "      <td>313</td>\n",
       "    </tr>\n",
       "    <tr>\n",
       "      <th>No</th>\n",
       "      <th>No</th>\n",
       "      <th>Yes</th>\n",
       "      <th>Yes</th>\n",
       "      <td>284</td>\n",
       "    </tr>\n",
       "    <tr>\n",
       "      <th>DSL</th>\n",
       "      <th>Yes</th>\n",
       "      <th>Yes</th>\n",
       "      <th>Yes</th>\n",
       "      <th>Yes</th>\n",
       "      <th>Yes</th>\n",
       "      <td>222</td>\n",
       "    </tr>\n",
       "    <tr>\n",
       "      <th>...</th>\n",
       "      <th>...</th>\n",
       "      <th>...</th>\n",
       "      <th>...</th>\n",
       "      <th>...</th>\n",
       "      <th>...</th>\n",
       "      <td>...</td>\n",
       "    </tr>\n",
       "    <tr>\n",
       "      <th>Fiber optic</th>\n",
       "      <th>Yes</th>\n",
       "      <th>Yes</th>\n",
       "      <th>No</th>\n",
       "      <th>No</th>\n",
       "      <th>Yes</th>\n",
       "      <td>24</td>\n",
       "    </tr>\n",
       "    <tr>\n",
       "      <th>DSL</th>\n",
       "      <th>Yes</th>\n",
       "      <th>Yes</th>\n",
       "      <th>No</th>\n",
       "      <th>Yes</th>\n",
       "      <th>No</th>\n",
       "      <td>22</td>\n",
       "    </tr>\n",
       "    <tr>\n",
       "      <th rowspan=\"3\" valign=\"top\">Fiber optic</th>\n",
       "      <th rowspan=\"3\" valign=\"top\">Yes</th>\n",
       "      <th>Yes</th>\n",
       "      <th>Yes</th>\n",
       "      <th>Yes</th>\n",
       "      <th>No</th>\n",
       "      <td>18</td>\n",
       "    </tr>\n",
       "    <tr>\n",
       "      <th rowspan=\"2\" valign=\"top\">No</th>\n",
       "      <th rowspan=\"2\" valign=\"top\">Yes</th>\n",
       "      <th>Yes</th>\n",
       "      <th>No</th>\n",
       "      <td>17</td>\n",
       "    </tr>\n",
       "    <tr>\n",
       "      <th>No</th>\n",
       "      <th>Yes</th>\n",
       "      <td>17</td>\n",
       "    </tr>\n",
       "  </tbody>\n",
       "</table>\n",
       "<p>64 rows × 1 columns</p>\n",
       "</div>"
      ],
      "text/plain": [
       "                                                                                         Итого:\n",
       "InternetService OnlineSecurity DeviceProtection TechSupport StreamingTV StreamingMovies        \n",
       "Fiber optic     No             No               No          No          No                  511\n",
       "DSL             No             No               No          No          No                  391\n",
       "Fiber optic     No             Yes              No          Yes         Yes                 313\n",
       "                               No               No          Yes         Yes                 284\n",
       "DSL             Yes            Yes              Yes         Yes         Yes                 222\n",
       "...                                                                                         ...\n",
       "Fiber optic     Yes            Yes              No          No          Yes                  24\n",
       "DSL             Yes            Yes              No          Yes         No                   22\n",
       "Fiber optic     Yes            Yes              Yes         Yes         No                   18\n",
       "                               No               Yes         Yes         No                   17\n",
       "                                                            No          Yes                  17\n",
       "\n",
       "[64 rows x 1 columns]"
      ]
     },
     "execution_count": 24,
     "metadata": {},
     "output_type": "execute_result"
    }
   ],
   "source": [
    "internet[['InternetService', 'OnlineSecurity', 'DeviceProtection', 'TechSupport',\n",
    "    'StreamingTV', 'StreamingMovies']].value_counts().to_frame(name='Итого:')"
   ]
  },
  {
   "cell_type": "markdown",
   "metadata": {},
   "source": [
    "Благодаря вышепредставленной таблице мы можем сделать вывод о приоритетах клиентов в использовании интернета, например основной пользователь имеет Интернет сервис - Fiber optic, без подключения каких-либо дополнительных опций. Более подробный анализ будет проведен в исследовательском анализе данных."
   ]
  },
  {
   "cell_type": "code",
   "execution_count": null,
   "metadata": {},
   "outputs": [
    {
     "name": "stdout",
     "output_type": "stream",
     "text": [
      "<class 'pandas.core.frame.DataFrame'>\n",
      "RangeIndex: 6361 entries, 0 to 6360\n",
      "Data columns (total 2 columns):\n",
      " #   Column         Non-Null Count  Dtype \n",
      "---  ------         --------------  ----- \n",
      " 0   customerID     6361 non-null   object\n",
      " 1   MultipleLines  6361 non-null   object\n",
      "dtypes: object(2)\n",
      "memory usage: 99.5+ KB\n"
     ]
    }
   ],
   "source": [
    "phone.info()"
   ]
  },
  {
   "cell_type": "code",
   "execution_count": null,
   "metadata": {},
   "outputs": [
    {
     "data": {
      "text/plain": [
       "0"
      ]
     },
     "execution_count": 27,
     "metadata": {},
     "output_type": "execute_result"
    }
   ],
   "source": [
    "phone.duplicated().sum()"
   ]
  },
  {
   "cell_type": "code",
   "execution_count": null,
   "metadata": {},
   "outputs": [
    {
     "data": {
      "text/html": [
       "<div>\n",
       "<style scoped>\n",
       "    .dataframe tbody tr th:only-of-type {\n",
       "        vertical-align: middle;\n",
       "    }\n",
       "\n",
       "    .dataframe tbody tr th {\n",
       "        vertical-align: top;\n",
       "    }\n",
       "\n",
       "    .dataframe thead th {\n",
       "        text-align: right;\n",
       "    }\n",
       "</style>\n",
       "<table border=\"1\" class=\"dataframe\">\n",
       "  <thead>\n",
       "    <tr style=\"text-align: right;\">\n",
       "      <th></th>\n",
       "      <th>customerID</th>\n",
       "      <th>MultipleLines</th>\n",
       "    </tr>\n",
       "  </thead>\n",
       "  <tbody>\n",
       "    <tr>\n",
       "      <th>4434</th>\n",
       "      <td>4973-RLZVI</td>\n",
       "      <td>No</td>\n",
       "    </tr>\n",
       "    <tr>\n",
       "      <th>2390</th>\n",
       "      <td>9297-EONCV</td>\n",
       "      <td>Yes</td>\n",
       "    </tr>\n",
       "    <tr>\n",
       "      <th>5923</th>\n",
       "      <td>5012-YSPJJ</td>\n",
       "      <td>No</td>\n",
       "    </tr>\n",
       "  </tbody>\n",
       "</table>\n",
       "</div>"
      ],
      "text/plain": [
       "      customerID MultipleLines\n",
       "4434  4973-RLZVI            No\n",
       "2390  9297-EONCV           Yes\n",
       "5923  5012-YSPJJ            No"
      ]
     },
     "execution_count": 28,
     "metadata": {},
     "output_type": "execute_result"
    }
   ],
   "source": [
    "phone.sample(3)"
   ]
  },
  {
   "cell_type": "code",
   "execution_count": null,
   "metadata": {},
   "outputs": [
    {
     "data": {
      "text/html": [
       "<div>\n",
       "<style scoped>\n",
       "    .dataframe tbody tr th:only-of-type {\n",
       "        vertical-align: middle;\n",
       "    }\n",
       "\n",
       "    .dataframe tbody tr th {\n",
       "        vertical-align: top;\n",
       "    }\n",
       "\n",
       "    .dataframe thead th {\n",
       "        text-align: right;\n",
       "    }\n",
       "</style>\n",
       "<table border=\"1\" class=\"dataframe\">\n",
       "  <thead>\n",
       "    <tr style=\"text-align: right;\">\n",
       "      <th></th>\n",
       "      <th>count</th>\n",
       "    </tr>\n",
       "    <tr>\n",
       "      <th>MultipleLines</th>\n",
       "      <th></th>\n",
       "    </tr>\n",
       "  </thead>\n",
       "  <tbody>\n",
       "    <tr>\n",
       "      <th>No</th>\n",
       "      <td>3390</td>\n",
       "    </tr>\n",
       "    <tr>\n",
       "      <th>Yes</th>\n",
       "      <td>2971</td>\n",
       "    </tr>\n",
       "  </tbody>\n",
       "</table>\n",
       "</div>"
      ],
      "text/plain": [
       "               count\n",
       "MultipleLines       \n",
       "No              3390\n",
       "Yes             2971"
      ]
     },
     "execution_count": 29,
     "metadata": {},
     "output_type": "execute_result"
    }
   ],
   "source": [
    "phone.MultipleLines.value_counts().to_frame()"
   ]
  },
  {
   "cell_type": "markdown",
   "metadata": {},
   "source": [
    "**Датасет Телефон:**\n",
    "Включает в себя 6361 строку и 2 столбца с данными, пропуски и дубликаты в данных отсутствуют. Тип данных строковый. Данные сгруппированы по идентификационному номеру клиента. Второй столбец, говорящий о возможности введения параллельных подключений во время звонка представлен бинарным идентификатором(большая часть клиентов не имеет такой возможности)."
   ]
  },
  {
   "cell_type": "markdown",
   "metadata": {},
   "source": [
    "**Выводы по подразделу:**\n",
    "Мы имеем 4 датасета с размеченными данными без пропусков и дубликатов. Два датасета(Договор, Личные данные) включают в себя полный набор данных по всем Id клиентов, два остальных только тех, которые пользуются интернетом и телефоном соответственно. Тип данных в основном строковый, в некоторых случаях будет изменен. Уже при предварительном просмотре были выделены некоторые закономерности в признаках, которые будут далее исследованы. "
   ]
  },
  {
   "cell_type": "markdown",
   "metadata": {},
   "source": [
    "<font color='province'>***Предобработка и исследовательский анализ данных***</font>"
   ]
  },
  {
   "cell_type": "markdown",
   "metadata": {},
   "source": [
    "Сначала я проведу предобработку каждого датасета, приведу тип данных к нужному, посмотрю на взаимосвязи данных внутри каждого датасета, сделаю промежуточные выводы, затем проведу объединение в общий датасет. И уже в нем посмотрю на корреляцию признаков, степень этой взаимосвязи и отберу признаки для финального датасета."
   ]
  },
  {
   "cell_type": "markdown",
   "metadata": {},
   "source": [
    "**Датасет Договор:**\n",
    "1. Целевой признак содержится именно в этом датасете и содержиться в колонке EndDate, которая указывает на то, что  клиент продолжает пользоваться услугами сотовой компании в случае отсутствия срока окончания договора(значение No в столбце).\n",
    "2. Сначала я заменю значение No столбца EndDate на дату выгрузки датасета 01.02.2020, затем приведу этот столбец и столбец BeginDate к типу timedate.\n",
    "3. Создам новый признак - timedelta - это интервал времени пользования услугами компании для каждого клиента. Приведу его к численному типу. Визуализирую три колонки, характеризующие временные показатели, сделаю промежуточные выводы.\n",
    "4. Приведу тип данных столбца TotalCharges в численный, визуализирую данные о месячных и годовых тратах клиентов, сделаю промежуточные выводы.\n",
    "5. Посмотрю на корреляцию численных признаков данного датасета"
   ]
  },
  {
   "cell_type": "code",
   "execution_count": null,
   "metadata": {},
   "outputs": [],
   "source": [
    "contract.BeginDate = pd.to_datetime(contract.BeginDate)\n",
    "contract.EndDate = contract.EndDate.replace({'No': '2020-02-01'})\n",
    "contract.EndDate = pd.to_datetime(contract.EndDate)"
   ]
  },
  {
   "cell_type": "code",
   "execution_count": null,
   "metadata": {},
   "outputs": [],
   "source": [
    "contract['Interval'] = (contract.EndDate - contract.BeginDate).astype(str)\n",
    "contract['Interval'] = contract.Interval.str.replace('days', '').astype(int)"
   ]
  },
  {
   "cell_type": "code",
   "execution_count": null,
   "metadata": {
    "scrolled": true
   },
   "outputs": [
    {
     "data": {
      "image/png": "[encoded data removed]",
      "text/plain": [
       "<Figure size 1000x300 with 3 Axes>"
      ]
     },
     "metadata": {},
     "output_type": "display_data"
    }
   ],
   "source": [
    "fig, axs = plt.subplots(ncols=3, figsize=(10, 3))\n",
    "sns.histplot(data=contract.BeginDate, ax=axs[0]).set_title('Начало обслуживания');\n",
    "sns.histplot(data=contract.EndDate, ax=axs[1]).set_title('Конец обслуживания');\n",
    "sns.histplot(data=contract.Interval, ax=axs[2]).set_title('Интервал обслуживания');\n",
    "fig.tight_layout()"
   ]
  },
  {
   "cell_type": "markdown",
   "metadata": {},
   "source": [
    "Самую важную информацию здесь нам дает столбец с целевым признаком, мы видим, что подавляющее число клиентов до сих пор остается с компанией, что для компании конечно хорошо, но в нашем случае дает дисбаланс таргетных классов. Столбец о начале обслуживания показывает небольшой скачок спроса в 2014г., потом относительно ровный приток клиентов и заметный прирост пользователей в течение 2019 года. А вот интервал показывает большее количество пользователей с меньшим стажем, но есть и доля пользователей с максимальным стажем, но в данном случае эти показатели нужно рассматривать во взаимосвязи с данными о том, когда прекратилось и прекратилось ли вообще обслуживание, что я сейчас и сделаю."
   ]
  },
  {
   "cell_type": "code",
   "execution_count": null,
   "metadata": {},
   "outputs": [
    {
     "data": {
      "text/html": [
       "<div>\n",
       "<style scoped>\n",
       "    .dataframe tbody tr th:only-of-type {\n",
       "        vertical-align: middle;\n",
       "    }\n",
       "\n",
       "    .dataframe tbody tr th {\n",
       "        vertical-align: top;\n",
       "    }\n",
       "\n",
       "    .dataframe thead th {\n",
       "        text-align: right;\n",
       "    }\n",
       "</style>\n",
       "<table border=\"1\" class=\"dataframe\">\n",
       "  <thead>\n",
       "    <tr style=\"text-align: right;\">\n",
       "      <th></th>\n",
       "      <th></th>\n",
       "      <th>Итого:</th>\n",
       "    </tr>\n",
       "    <tr>\n",
       "      <th>EndDate</th>\n",
       "      <th>Interval</th>\n",
       "      <th></th>\n",
       "    </tr>\n",
       "  </thead>\n",
       "  <tbody>\n",
       "    <tr>\n",
       "      <th rowspan=\"5\" valign=\"top\">2020-02-01</th>\n",
       "      <th>2191</th>\n",
       "      <td>265</td>\n",
       "    </tr>\n",
       "    <tr>\n",
       "      <th>92</th>\n",
       "      <td>237</td>\n",
       "    </tr>\n",
       "    <tr>\n",
       "      <th>123</th>\n",
       "      <td>236</td>\n",
       "    </tr>\n",
       "    <tr>\n",
       "      <th>153</th>\n",
       "      <td>236</td>\n",
       "    </tr>\n",
       "    <tr>\n",
       "      <th>31</th>\n",
       "      <td>233</td>\n",
       "    </tr>\n",
       "    <tr>\n",
       "      <th>...</th>\n",
       "      <th>...</th>\n",
       "      <td>...</td>\n",
       "    </tr>\n",
       "    <tr>\n",
       "      <th rowspan=\"4\" valign=\"top\">2018-02-01</th>\n",
       "      <th>215</th>\n",
       "      <td>1</td>\n",
       "    </tr>\n",
       "    <tr>\n",
       "      <th>337</th>\n",
       "      <td>1</td>\n",
       "    </tr>\n",
       "    <tr>\n",
       "      <th>488</th>\n",
       "      <td>1</td>\n",
       "    </tr>\n",
       "    <tr>\n",
       "      <th>549</th>\n",
       "      <td>1</td>\n",
       "    </tr>\n",
       "    <tr>\n",
       "      <th>2018-08-01</th>\n",
       "      <th>761</th>\n",
       "      <td>1</td>\n",
       "    </tr>\n",
       "  </tbody>\n",
       "</table>\n",
       "<p>918 rows × 1 columns</p>\n",
       "</div>"
      ],
      "text/plain": [
       "                     Итого:\n",
       "EndDate    Interval        \n",
       "2020-02-01 2191         265\n",
       "           92           237\n",
       "           123          236\n",
       "           153          236\n",
       "           31           233\n",
       "...                     ...\n",
       "2018-02-01 215            1\n",
       "           337            1\n",
       "           488            1\n",
       "           549            1\n",
       "2018-08-01 761            1\n",
       "\n",
       "[918 rows x 1 columns]"
      ]
     },
     "execution_count": 33,
     "metadata": {},
     "output_type": "execute_result"
    }
   ],
   "source": [
    "contract[['EndDate', 'Interval']].value_counts().to_frame(name='Итого:')"
   ]
  },
  {
   "cell_type": "markdown",
   "metadata": {},
   "source": [
    "Здесь мы видим, что большая часть пользователей, имеющих максимальный стаж, продолжают оставаться с компанией. Сейчас посмотрим на интервал пользователей, которые все-таки прервали договор обслуживания."
   ]
  },
  {
   "cell_type": "code",
   "execution_count": null,
   "metadata": {},
   "outputs": [
    {
     "data": {
      "text/html": [
       "<div>\n",
       "<style scoped>\n",
       "    .dataframe tbody tr th:only-of-type {\n",
       "        vertical-align: middle;\n",
       "    }\n",
       "\n",
       "    .dataframe tbody tr th {\n",
       "        vertical-align: top;\n",
       "    }\n",
       "\n",
       "    .dataframe thead th {\n",
       "        text-align: right;\n",
       "    }\n",
       "</style>\n",
       "<table border=\"1\" class=\"dataframe\">\n",
       "  <thead>\n",
       "    <tr style=\"text-align: right;\">\n",
       "      <th></th>\n",
       "      <th>Итого:</th>\n",
       "    </tr>\n",
       "    <tr>\n",
       "      <th>Interval</th>\n",
       "      <th></th>\n",
       "    </tr>\n",
       "  </thead>\n",
       "  <tbody>\n",
       "    <tr>\n",
       "      <th>1461</th>\n",
       "      <td>18</td>\n",
       "    </tr>\n",
       "    <tr>\n",
       "      <th>1035</th>\n",
       "      <td>14</td>\n",
       "    </tr>\n",
       "    <tr>\n",
       "      <th>822</th>\n",
       "      <td>13</td>\n",
       "    </tr>\n",
       "    <tr>\n",
       "      <th>153</th>\n",
       "      <td>13</td>\n",
       "    </tr>\n",
       "    <tr>\n",
       "      <th>1096</th>\n",
       "      <td>13</td>\n",
       "    </tr>\n",
       "    <tr>\n",
       "      <th>...</th>\n",
       "      <td>...</td>\n",
       "    </tr>\n",
       "    <tr>\n",
       "      <th>1311</th>\n",
       "      <td>1</td>\n",
       "    </tr>\n",
       "    <tr>\n",
       "      <th>2068</th>\n",
       "      <td>1</td>\n",
       "    </tr>\n",
       "    <tr>\n",
       "      <th>672</th>\n",
       "      <td>1</td>\n",
       "    </tr>\n",
       "    <tr>\n",
       "      <th>121</th>\n",
       "      <td>1</td>\n",
       "    </tr>\n",
       "    <tr>\n",
       "      <th>793</th>\n",
       "      <td>1</td>\n",
       "    </tr>\n",
       "  </tbody>\n",
       "</table>\n",
       "<p>231 rows × 1 columns</p>\n",
       "</div>"
      ],
      "text/plain": [
       "          Итого:\n",
       "Interval        \n",
       "1461          18\n",
       "1035          14\n",
       "822           13\n",
       "153           13\n",
       "1096          13\n",
       "...          ...\n",
       "1311           1\n",
       "2068           1\n",
       "672            1\n",
       "121            1\n",
       "793            1\n",
       "\n",
       "[231 rows x 1 columns]"
      ]
     },
     "execution_count": 34,
     "metadata": {},
     "output_type": "execute_result"
    }
   ],
   "source": [
    "contract[contract.EndDate!='2020-02-01'].Interval.value_counts().to_frame(name='Итого:')"
   ]
  },
  {
   "cell_type": "code",
   "execution_count": null,
   "metadata": {
    "scrolled": true
   },
   "outputs": [
    {
     "data": {
      "image/png": "[encoded data removed]",
      "text/plain": [
       "<Figure size 500x300 with 1 Axes>"
      ]
     },
     "metadata": {},
     "output_type": "display_data"
    }
   ],
   "source": [
    "plt.figure(figsize=(5, 3))\n",
    "sns.histplot(data=contract[contract.EndDate!='2020-02-01'].Interval).set_title('Интервал пользователей\\nзавершивших обслуживание');"
   ]
  },
  {
   "cell_type": "markdown",
   "metadata": {},
   "source": [
    "Мы видим, что распределение этого признака выглядит нормальным,  большее количество пользователей, разорвавших договор, обслуживалось около 1000 дней."
   ]
  },
  {
   "cell_type": "code",
   "execution_count": null,
   "metadata": {},
   "outputs": [],
   "source": [
    "for x in contract.TotalCharges:\n",
    "    try:\n",
    "        contract.TotalCharges.astype('float')\n",
    "    except:\n",
    "        contract.TotalCharges.astype('object')"
   ]
  },
  {
   "cell_type": "code",
   "execution_count": null,
   "metadata": {},
   "outputs": [],
   "source": [
    "contract.TotalCharges = contract.TotalCharges.replace(' ', 0)\n",
    "contract.TotalCharges = contract.TotalCharges.astype(float)"
   ]
  },
  {
   "cell_type": "code",
   "execution_count": null,
   "metadata": {
    "scrolled": false
   },
   "outputs": [
    {
     "data": {
      "image/png": "[encoded data removed]",
      "text/plain": [
       "<Figure size 1000x500 with 2 Axes>"
      ]
     },
     "metadata": {},
     "output_type": "display_data"
    }
   ],
   "source": [
    "fig, axs = plt.subplots(ncols=2, figsize=(10, 5))\n",
    "sns.boxplot(data=contract[contract.EndDate!='2020-02-01'].drop('MonthlyCharges', axis=1),\n",
    "            ax=axs[0]).set_title('Ушедшие пользователи')\n",
    "sns.boxplot(data=contract[contract.EndDate=='2020-02-01'].drop('MonthlyCharges', axis=1),\n",
    "            ax=axs[1]).set_title('Оставшиеся пользователи')\n",
    "fig.tight_layout()"
   ]
  },
  {
   "cell_type": "code",
   "execution_count": null,
   "metadata": {
    "scrolled": false
   },
   "outputs": [
    {
     "data": {
      "image/png": "[encoded data removed]",
      "text/plain": [
       "<Figure size 1000x500 with 2 Axes>"
      ]
     },
     "metadata": {},
     "output_type": "display_data"
    }
   ],
   "source": [
    "fig, axs = plt.subplots(ncols=2, figsize=(10, 5))\n",
    "sns.boxplot(data=contract[contract.EndDate!='2020-02-01'].drop(['TotalCharges', 'Interval'], axis=1),\n",
    "            ax=axs[0]).set_title('Месячные траты \\n ушедших пользователей')\n",
    "sns.boxplot(data=contract[contract.EndDate=='2020-02-01'].drop(['TotalCharges', 'Interval'], axis=1),\n",
    "            ax=axs[1]).set_title('Месячные траты \\n оставшихся пользователей')\n",
    "fig.tight_layout()"
   ]
  },
  {
   "cell_type": "markdown",
   "metadata": {},
   "source": [
    "Общие и месячные траты распределяются у ушедших и оставшихся пользователей по-разному: медианные значения значительно ниже(в случае итоговых трат практически в два раза)."
   ]
  },
  {
   "cell_type": "code",
   "execution_count": null,
   "metadata": {
    "scrolled": true
   },
   "outputs": [
    {
     "data": {
      "image/png": "[encoded data removed]",
      "text/plain": [
       "<Figure size 1500x400 with 2 Axes>"
      ]
     },
     "metadata": {},
     "output_type": "display_data"
    }
   ],
   "source": [
    "sns.set(font_scale=1.15)\n",
    "plt.figure(figsize=(15,4))\n",
    "sns.heatmap(\n",
    "    contract[['BeginDate', 'EndDate', 'MonthlyCharges',\n",
    "    'TotalCharges', 'Interval']].corr(),        \n",
    "    cmap='RdBu_r', \n",
    "    annot=True,\n",
    "    vmin=-1, vmax=1);"
   ]
  },
  {
   "cell_type": "markdown",
   "metadata": {},
   "source": [
    "***Выводы по корелляции признаков:***\n",
    "- наибольшей положительной взаимосвязью обладают признаки Интервал и Итоговые траты, что вполне логично(чем больше пользуешься, тем больше заплатил), как и максимальная отрицательная связь между Началом договора и Интервалом и Началом договора и Итоговыми тратами. \n",
    "- есть положительная корелляция между Месячными тратами и Интервалом, это может быть обосновано как повышением цен так и возрастанием вовлеченности пользователя в услуги, на это мы посмотрим в общей таблице."
   ]
  },
  {
   "cell_type": "markdown",
   "metadata": {},
   "source": [
    "***Датасет Личные данные:***\n",
    "- на основании имеющихся данных проанализируем портрет пользователя услуг компании."
   ]
  },
  {
   "cell_type": "code",
   "execution_count": null,
   "metadata": {},
   "outputs": [
    {
     "data": {
      "text/html": [
       "<div>\n",
       "<style scoped>\n",
       "    .dataframe tbody tr th:only-of-type {\n",
       "        vertical-align: middle;\n",
       "    }\n",
       "\n",
       "    .dataframe tbody tr th {\n",
       "        vertical-align: top;\n",
       "    }\n",
       "\n",
       "    .dataframe thead th {\n",
       "        text-align: right;\n",
       "    }\n",
       "</style>\n",
       "<table border=\"1\" class=\"dataframe\">\n",
       "  <thead>\n",
       "    <tr style=\"text-align: right;\">\n",
       "      <th></th>\n",
       "      <th></th>\n",
       "      <th></th>\n",
       "      <th></th>\n",
       "      <th>Итого:</th>\n",
       "    </tr>\n",
       "    <tr>\n",
       "      <th>gender</th>\n",
       "      <th>SeniorCitizen</th>\n",
       "      <th>Partner</th>\n",
       "      <th>Dependents</th>\n",
       "      <th></th>\n",
       "    </tr>\n",
       "  </thead>\n",
       "  <tbody>\n",
       "    <tr>\n",
       "      <th>Male</th>\n",
       "      <th>0</th>\n",
       "      <th>No</th>\n",
       "      <th>No</th>\n",
       "      <td>1381</td>\n",
       "    </tr>\n",
       "    <tr>\n",
       "      <th rowspan=\"2\" valign=\"top\">Female</th>\n",
       "      <th rowspan=\"2\" valign=\"top\">0</th>\n",
       "      <th>No</th>\n",
       "      <th>No</th>\n",
       "      <td>1338</td>\n",
       "    </tr>\n",
       "    <tr>\n",
       "      <th>Yes</th>\n",
       "      <th>Yes</th>\n",
       "      <td>844</td>\n",
       "    </tr>\n",
       "    <tr>\n",
       "      <th>Male</th>\n",
       "      <th>0</th>\n",
       "      <th>Yes</th>\n",
       "      <th>Yes</th>\n",
       "      <td>822</td>\n",
       "    </tr>\n",
       "    <tr>\n",
       "      <th>Female</th>\n",
       "      <th>0</th>\n",
       "      <th>Yes</th>\n",
       "      <th>No</th>\n",
       "      <td>596</td>\n",
       "    </tr>\n",
       "    <tr>\n",
       "      <th>Male</th>\n",
       "      <th>0</th>\n",
       "      <th>Yes</th>\n",
       "      <th>No</th>\n",
       "      <td>567</td>\n",
       "    </tr>\n",
       "    <tr>\n",
       "      <th>Female</th>\n",
       "      <th>1</th>\n",
       "      <th>No</th>\n",
       "      <th>No</th>\n",
       "      <td>317</td>\n",
       "    </tr>\n",
       "    <tr>\n",
       "      <th rowspan=\"3\" valign=\"top\">Male</th>\n",
       "      <th rowspan=\"2\" valign=\"top\">1</th>\n",
       "      <th>Yes</th>\n",
       "      <th>No</th>\n",
       "      <td>281</td>\n",
       "    </tr>\n",
       "    <tr>\n",
       "      <th>No</th>\n",
       "      <th>No</th>\n",
       "      <td>244</td>\n",
       "    </tr>\n",
       "    <tr>\n",
       "      <th>0</th>\n",
       "      <th>No</th>\n",
       "      <th>Yes</th>\n",
       "      <td>211</td>\n",
       "    </tr>\n",
       "    <tr>\n",
       "      <th rowspan=\"2\" valign=\"top\">Female</th>\n",
       "      <th>1</th>\n",
       "      <th>Yes</th>\n",
       "      <th>No</th>\n",
       "      <td>209</td>\n",
       "    </tr>\n",
       "    <tr>\n",
       "      <th>0</th>\n",
       "      <th>No</th>\n",
       "      <th>Yes</th>\n",
       "      <td>142</td>\n",
       "    </tr>\n",
       "    <tr>\n",
       "      <th>Male</th>\n",
       "      <th>1</th>\n",
       "      <th>Yes</th>\n",
       "      <th>Yes</th>\n",
       "      <td>44</td>\n",
       "    </tr>\n",
       "    <tr>\n",
       "      <th>Female</th>\n",
       "      <th>1</th>\n",
       "      <th>Yes</th>\n",
       "      <th>Yes</th>\n",
       "      <td>39</td>\n",
       "    </tr>\n",
       "    <tr>\n",
       "      <th>Male</th>\n",
       "      <th>1</th>\n",
       "      <th>No</th>\n",
       "      <th>Yes</th>\n",
       "      <td>5</td>\n",
       "    </tr>\n",
       "    <tr>\n",
       "      <th>Female</th>\n",
       "      <th>1</th>\n",
       "      <th>No</th>\n",
       "      <th>Yes</th>\n",
       "      <td>3</td>\n",
       "    </tr>\n",
       "  </tbody>\n",
       "</table>\n",
       "</div>"
      ],
      "text/plain": [
       "                                         Итого:\n",
       "gender SeniorCitizen Partner Dependents        \n",
       "Male   0             No      No            1381\n",
       "Female 0             No      No            1338\n",
       "                     Yes     Yes            844\n",
       "Male   0             Yes     Yes            822\n",
       "Female 0             Yes     No             596\n",
       "Male   0             Yes     No             567\n",
       "Female 1             No      No             317\n",
       "Male   1             Yes     No             281\n",
       "                     No      No             244\n",
       "       0             No      Yes            211\n",
       "Female 1             Yes     No             209\n",
       "       0             No      Yes            142\n",
       "Male   1             Yes     Yes             44\n",
       "Female 1             Yes     Yes             39\n",
       "Male   1             No      Yes              5\n",
       "Female 1             No      Yes              3"
      ]
     },
     "execution_count": 41,
     "metadata": {},
     "output_type": "execute_result"
    }
   ],
   "source": [
    "personal[['gender',\t'SeniorCitizen', 'Partner',\t'Dependents']].value_counts().to_frame(name='Итого:')"
   ]
  },
  {
   "cell_type": "markdown",
   "metadata": {},
   "source": [
    "По визуализации становится понятным, что основными пользователями услуг являются молодые, холостые люди обоих гендеров без иждивенцев, значительно ниже доля клиентов пенсионного возраста, минимально услугами пользуюся пенсионеры обоих гендеров, с наличием иждивенцев."
   ]
  },
  {
   "cell_type": "code",
   "execution_count": null,
   "metadata": {},
   "outputs": [
    {
     "data": {
      "text/html": [
       "<div>\n",
       "<style scoped>\n",
       "    .dataframe tbody tr th:only-of-type {\n",
       "        vertical-align: middle;\n",
       "    }\n",
       "\n",
       "    .dataframe tbody tr th {\n",
       "        vertical-align: top;\n",
       "    }\n",
       "\n",
       "    .dataframe thead th {\n",
       "        text-align: right;\n",
       "    }\n",
       "</style>\n",
       "<table border=\"1\" class=\"dataframe\">\n",
       "  <thead>\n",
       "    <tr style=\"text-align: right;\">\n",
       "      <th></th>\n",
       "      <th>customerID</th>\n",
       "      <th>InternetService</th>\n",
       "      <th>OnlineSecurity</th>\n",
       "      <th>OnlineBackup</th>\n",
       "      <th>DeviceProtection</th>\n",
       "      <th>TechSupport</th>\n",
       "      <th>StreamingTV</th>\n",
       "      <th>StreamingMovies</th>\n",
       "    </tr>\n",
       "  </thead>\n",
       "  <tbody>\n",
       "    <tr>\n",
       "      <th>679</th>\n",
       "      <td>9778-OGKQZ</td>\n",
       "      <td>DSL</td>\n",
       "      <td>Yes</td>\n",
       "      <td>Yes</td>\n",
       "      <td>Yes</td>\n",
       "      <td>Yes</td>\n",
       "      <td>Yes</td>\n",
       "      <td>Yes</td>\n",
       "    </tr>\n",
       "  </tbody>\n",
       "</table>\n",
       "</div>"
      ],
      "text/plain": [
       "     customerID InternetService OnlineSecurity OnlineBackup DeviceProtection  \\\n",
       "679  9778-OGKQZ             DSL            Yes          Yes              Yes   \n",
       "\n",
       "    TechSupport StreamingTV StreamingMovies  \n",
       "679         Yes         Yes             Yes  "
      ]
     },
     "execution_count": 42,
     "metadata": {},
     "output_type": "execute_result"
    }
   ],
   "source": [
    "internet.sample()"
   ]
  },
  {
   "cell_type": "markdown",
   "metadata": {},
   "source": [
    "***Датасет Интернет:***\n",
    "Более подробно проанализируем количество пользователей определенных услуг компании."
   ]
  },
  {
   "cell_type": "code",
   "execution_count": null,
   "metadata": {},
   "outputs": [
    {
     "data": {
      "text/html": [
       "<div>\n",
       "<style scoped>\n",
       "    .dataframe tbody tr th:only-of-type {\n",
       "        vertical-align: middle;\n",
       "    }\n",
       "\n",
       "    .dataframe tbody tr th {\n",
       "        vertical-align: top;\n",
       "    }\n",
       "\n",
       "    .dataframe thead th {\n",
       "        text-align: right;\n",
       "    }\n",
       "</style>\n",
       "<table border=\"1\" class=\"dataframe\">\n",
       "  <thead>\n",
       "    <tr style=\"text-align: right;\">\n",
       "      <th></th>\n",
       "      <th></th>\n",
       "      <th></th>\n",
       "      <th></th>\n",
       "      <th></th>\n",
       "      <th></th>\n",
       "      <th>Итого:</th>\n",
       "    </tr>\n",
       "    <tr>\n",
       "      <th>InternetService</th>\n",
       "      <th>OnlineSecurity</th>\n",
       "      <th>DeviceProtection</th>\n",
       "      <th>TechSupport</th>\n",
       "      <th>StreamingTV</th>\n",
       "      <th>StreamingMovies</th>\n",
       "      <th></th>\n",
       "    </tr>\n",
       "  </thead>\n",
       "  <tbody>\n",
       "    <tr>\n",
       "      <th>Fiber optic</th>\n",
       "      <th>No</th>\n",
       "      <th>No</th>\n",
       "      <th>No</th>\n",
       "      <th>No</th>\n",
       "      <th>No</th>\n",
       "      <td>511</td>\n",
       "    </tr>\n",
       "    <tr>\n",
       "      <th>DSL</th>\n",
       "      <th>No</th>\n",
       "      <th>No</th>\n",
       "      <th>No</th>\n",
       "      <th>No</th>\n",
       "      <th>No</th>\n",
       "      <td>391</td>\n",
       "    </tr>\n",
       "    <tr>\n",
       "      <th rowspan=\"2\" valign=\"top\">Fiber optic</th>\n",
       "      <th rowspan=\"2\" valign=\"top\">No</th>\n",
       "      <th>Yes</th>\n",
       "      <th>No</th>\n",
       "      <th>Yes</th>\n",
       "      <th>Yes</th>\n",
       "      <td>313</td>\n",
       "    </tr>\n",
       "    <tr>\n",
       "      <th>No</th>\n",
       "      <th>No</th>\n",
       "      <th>Yes</th>\n",
       "      <th>Yes</th>\n",
       "      <td>284</td>\n",
       "    </tr>\n",
       "    <tr>\n",
       "      <th>DSL</th>\n",
       "      <th>Yes</th>\n",
       "      <th>Yes</th>\n",
       "      <th>Yes</th>\n",
       "      <th>Yes</th>\n",
       "      <th>Yes</th>\n",
       "      <td>222</td>\n",
       "    </tr>\n",
       "    <tr>\n",
       "      <th>...</th>\n",
       "      <th>...</th>\n",
       "      <th>...</th>\n",
       "      <th>...</th>\n",
       "      <th>...</th>\n",
       "      <th>...</th>\n",
       "      <td>...</td>\n",
       "    </tr>\n",
       "    <tr>\n",
       "      <th>Fiber optic</th>\n",
       "      <th>Yes</th>\n",
       "      <th>Yes</th>\n",
       "      <th>No</th>\n",
       "      <th>No</th>\n",
       "      <th>Yes</th>\n",
       "      <td>24</td>\n",
       "    </tr>\n",
       "    <tr>\n",
       "      <th>DSL</th>\n",
       "      <th>Yes</th>\n",
       "      <th>Yes</th>\n",
       "      <th>No</th>\n",
       "      <th>Yes</th>\n",
       "      <th>No</th>\n",
       "      <td>22</td>\n",
       "    </tr>\n",
       "    <tr>\n",
       "      <th rowspan=\"3\" valign=\"top\">Fiber optic</th>\n",
       "      <th rowspan=\"3\" valign=\"top\">Yes</th>\n",
       "      <th>Yes</th>\n",
       "      <th>Yes</th>\n",
       "      <th>Yes</th>\n",
       "      <th>No</th>\n",
       "      <td>18</td>\n",
       "    </tr>\n",
       "    <tr>\n",
       "      <th rowspan=\"2\" valign=\"top\">No</th>\n",
       "      <th rowspan=\"2\" valign=\"top\">Yes</th>\n",
       "      <th>Yes</th>\n",
       "      <th>No</th>\n",
       "      <td>17</td>\n",
       "    </tr>\n",
       "    <tr>\n",
       "      <th>No</th>\n",
       "      <th>Yes</th>\n",
       "      <td>17</td>\n",
       "    </tr>\n",
       "  </tbody>\n",
       "</table>\n",
       "<p>64 rows × 1 columns</p>\n",
       "</div>"
      ],
      "text/plain": [
       "                                                                                         Итого:\n",
       "InternetService OnlineSecurity DeviceProtection TechSupport StreamingTV StreamingMovies        \n",
       "Fiber optic     No             No               No          No          No                  511\n",
       "DSL             No             No               No          No          No                  391\n",
       "Fiber optic     No             Yes              No          Yes         Yes                 313\n",
       "                               No               No          Yes         Yes                 284\n",
       "DSL             Yes            Yes              Yes         Yes         Yes                 222\n",
       "...                                                                                         ...\n",
       "Fiber optic     Yes            Yes              No          No          Yes                  24\n",
       "DSL             Yes            Yes              No          Yes         No                   22\n",
       "Fiber optic     Yes            Yes              Yes         Yes         No                   18\n",
       "                               No               Yes         Yes         No                   17\n",
       "                                                            No          Yes                  17\n",
       "\n",
       "[64 rows x 1 columns]"
      ]
     },
     "execution_count": 43,
     "metadata": {},
     "output_type": "execute_result"
    }
   ],
   "source": [
    "internet[['InternetService', 'OnlineSecurity', 'DeviceProtection', 'TechSupport',\n",
    "    'StreamingTV', 'StreamingMovies']].value_counts().to_frame(name='Итого:')"
   ]
  },
  {
   "cell_type": "markdown",
   "metadata": {},
   "source": [
    "В предварительном анализе я уже писала, что больше всего клиентов с Интернет сервисом - Fiber optic, без подключения любых дополнительных опций. Также мы видим, что сервис Fiber optic\tявно лидирует, а из дополнительных опций пользователи в основном пользуются StreamingTV\tи StreamingMovies. Что интересно пользователи DSL гораздо чаще пользуются услугами Тех.поддержки)"
   ]
  },
  {
   "cell_type": "markdown",
   "metadata": {},
   "source": [
    "Датасет Телефон отдельно я уже рассмотрела в предварительном анализе, и сдесь на нем останавливаться нет смысла. Теперь объединим наши датасеты в один общий. Там, где не будет хватать значений по столбцам из датасетов Интернет и Телефон, я проставлю No, так как это строковые столбцы и клиент данными услугами не пользуется."
   ]
  },
  {
   "cell_type": "code",
   "execution_count": null,
   "metadata": {},
   "outputs": [],
   "source": [
    "temp = contract.merge(personal, on='customerID')\n",
    "temp_1 = temp.merge(internet, on='customerID', how='outer')\n",
    "data = temp_1.merge(phone, on='customerID', how='outer')"
   ]
  },
  {
   "cell_type": "code",
   "execution_count": null,
   "metadata": {
    "scrolled": true
   },
   "outputs": [],
   "source": [
    "data = data.fillna('No')"
   ]
  },
  {
   "cell_type": "code",
   "execution_count": null,
   "metadata": {},
   "outputs": [
    {
     "data": {
      "image/png": "[encoded data removed]",
      "text/plain": [
       "<Figure size 300x300 with 1 Axes>"
      ]
     },
     "metadata": {},
     "output_type": "display_data"
    }
   ],
   "source": [
    "plt.figure(figsize=(3, 3))\n",
    "sns.boxplot(data=data.TotalCharges);"
   ]
  },
  {
   "cell_type": "markdown",
   "metadata": {},
   "source": [
    "Мы получили датасет с большим объемом признаков, многие из которых не нужны. \n",
    "- Сначала я сгенерирую столбец с целевым признаком на основе столбца EndDate(1 - если клиент ушел, 0 - если остался, т.е. его дата -01.02.2020), затем удалю столбец EndDate и уберу некоторые признаки, которые не имеют влияния на целевой, либо просто сильно взаимосвязаны между собой, по сути дублируя друг друга. Это будут признаки:\n",
    "- customerID(сам номер не несет никакой информации)\n",
    "- BeginDate(очень сильно коррелирует с Interval)"
   ]
  },
  {
   "cell_type": "code",
   "execution_count": null,
   "metadata": {},
   "outputs": [],
   "source": [
    "data['Target'] = np.where(data.EndDate!='2020-02-01', 1, 0)"
   ]
  },
  {
   "cell_type": "code",
   "execution_count": null,
   "metadata": {},
   "outputs": [],
   "source": [
    "data = data.drop(['customerID', 'BeginDate', 'EndDate'], axis=1)"
   ]
  },
  {
   "cell_type": "markdown",
   "metadata": {},
   "source": [
    "Теперь воспользуемся средствами библиотеки Рhik, посмотрим на коэффициенты взаимосвязей данных внутри нашего датасета."
   ]
  },
  {
   "cell_type": "code",
   "execution_count": null,
   "metadata": {
    "scrolled": true
   },
   "outputs": [
    {
     "name": "stdout",
     "output_type": "stream",
     "text": [
      "interval columns not set, guessing: ['MonthlyCharges', 'TotalCharges', 'Interval', 'SeniorCitizen', 'Target']\n"
     ]
    },
    {
     "data": {
      "text/html": [
       "<div>\n",
       "<style scoped>\n",
       "    .dataframe tbody tr th:only-of-type {\n",
       "        vertical-align: middle;\n",
       "    }\n",
       "\n",
       "    .dataframe tbody tr th {\n",
       "        vertical-align: top;\n",
       "    }\n",
       "\n",
       "    .dataframe thead th {\n",
       "        text-align: right;\n",
       "    }\n",
       "</style>\n",
       "<table border=\"1\" class=\"dataframe\">\n",
       "  <thead>\n",
       "    <tr style=\"text-align: right;\">\n",
       "      <th></th>\n",
       "      <th>Type</th>\n",
       "      <th>PaperlessBilling</th>\n",
       "      <th>PaymentMethod</th>\n",
       "      <th>MonthlyCharges</th>\n",
       "      <th>TotalCharges</th>\n",
       "      <th>Interval</th>\n",
       "      <th>gender</th>\n",
       "      <th>SeniorCitizen</th>\n",
       "      <th>Partner</th>\n",
       "      <th>Dependents</th>\n",
       "      <th>InternetService</th>\n",
       "      <th>OnlineSecurity</th>\n",
       "      <th>OnlineBackup</th>\n",
       "      <th>DeviceProtection</th>\n",
       "      <th>TechSupport</th>\n",
       "      <th>StreamingTV</th>\n",
       "      <th>StreamingMovies</th>\n",
       "      <th>MultipleLines</th>\n",
       "      <th>Target</th>\n",
       "    </tr>\n",
       "  </thead>\n",
       "  <tbody>\n",
       "    <tr>\n",
       "      <th>Type</th>\n",
       "      <td>1.000000</td>\n",
       "      <td>0.106860</td>\n",
       "      <td>0.277462</td>\n",
       "      <td>0.388444</td>\n",
       "      <td>0.470860</td>\n",
       "      <td>0.634155</td>\n",
       "      <td>0.000000</td>\n",
       "      <td>0.086231</td>\n",
       "      <td>0.179736</td>\n",
       "      <td>0.147680</td>\n",
       "      <td>0.505187</td>\n",
       "      <td>0.152145</td>\n",
       "      <td>0.098884</td>\n",
       "      <td>0.137610</td>\n",
       "      <td>0.179999</td>\n",
       "      <td>0.066961</td>\n",
       "      <td>0.069608</td>\n",
       "      <td>0.065498</td>\n",
       "      <td>0.094015</td>\n",
       "    </tr>\n",
       "    <tr>\n",
       "      <th>PaperlessBilling</th>\n",
       "      <td>0.106860</td>\n",
       "      <td>1.000000</td>\n",
       "      <td>0.370495</td>\n",
       "      <td>0.467812</td>\n",
       "      <td>0.201703</td>\n",
       "      <td>0.026799</td>\n",
       "      <td>0.000000</td>\n",
       "      <td>0.242133</td>\n",
       "      <td>0.013218</td>\n",
       "      <td>0.172593</td>\n",
       "      <td>0.231438</td>\n",
       "      <td>0.000000</td>\n",
       "      <td>0.196443</td>\n",
       "      <td>0.160796</td>\n",
       "      <td>0.055929</td>\n",
       "      <td>0.343524</td>\n",
       "      <td>0.325551</td>\n",
       "      <td>0.252972</td>\n",
       "      <td>0.083398</td>\n",
       "    </tr>\n",
       "    <tr>\n",
       "      <th>PaymentMethod</th>\n",
       "      <td>0.277462</td>\n",
       "      <td>0.370495</td>\n",
       "      <td>1.000000</td>\n",
       "      <td>0.399526</td>\n",
       "      <td>0.335666</td>\n",
       "      <td>0.350964</td>\n",
       "      <td>0.000000</td>\n",
       "      <td>0.292725</td>\n",
       "      <td>0.243008</td>\n",
       "      <td>0.224903</td>\n",
       "      <td>0.323886</td>\n",
       "      <td>0.262911</td>\n",
       "      <td>0.282475</td>\n",
       "      <td>0.306866</td>\n",
       "      <td>0.272101</td>\n",
       "      <td>0.377209</td>\n",
       "      <td>0.378907</td>\n",
       "      <td>0.339313</td>\n",
       "      <td>0.214832</td>\n",
       "    </tr>\n",
       "    <tr>\n",
       "      <th>MonthlyCharges</th>\n",
       "      <td>0.388444</td>\n",
       "      <td>0.467812</td>\n",
       "      <td>0.399526</td>\n",
       "      <td>1.000000</td>\n",
       "      <td>0.710905</td>\n",
       "      <td>0.387727</td>\n",
       "      <td>0.008175</td>\n",
       "      <td>0.304985</td>\n",
       "      <td>0.203545</td>\n",
       "      <td>0.184366</td>\n",
       "      <td>0.919002</td>\n",
       "      <td>0.551621</td>\n",
       "      <td>0.629541</td>\n",
       "      <td>0.667481</td>\n",
       "      <td>0.576525</td>\n",
       "      <td>0.835340</td>\n",
       "      <td>0.833307</td>\n",
       "      <td>0.675883</td>\n",
       "      <td>0.226280</td>\n",
       "    </tr>\n",
       "    <tr>\n",
       "      <th>TotalCharges</th>\n",
       "      <td>0.470860</td>\n",
       "      <td>0.201703</td>\n",
       "      <td>0.335666</td>\n",
       "      <td>0.710905</td>\n",
       "      <td>1.000000</td>\n",
       "      <td>0.848337</td>\n",
       "      <td>0.000000</td>\n",
       "      <td>0.135650</td>\n",
       "      <td>0.381958</td>\n",
       "      <td>0.084247</td>\n",
       "      <td>0.490081</td>\n",
       "      <td>0.522090</td>\n",
       "      <td>0.622445</td>\n",
       "      <td>0.640977</td>\n",
       "      <td>0.550065</td>\n",
       "      <td>0.641488</td>\n",
       "      <td>0.643210</td>\n",
       "      <td>0.573191</td>\n",
       "      <td>0.302890</td>\n",
       "    </tr>\n",
       "    <tr>\n",
       "      <th>Interval</th>\n",
       "      <td>0.634155</td>\n",
       "      <td>0.026799</td>\n",
       "      <td>0.350964</td>\n",
       "      <td>0.387727</td>\n",
       "      <td>0.848337</td>\n",
       "      <td>1.000000</td>\n",
       "      <td>0.000000</td>\n",
       "      <td>0.063315</td>\n",
       "      <td>0.453688</td>\n",
       "      <td>0.198729</td>\n",
       "      <td>0.060845</td>\n",
       "      <td>0.395693</td>\n",
       "      <td>0.414982</td>\n",
       "      <td>0.426931</td>\n",
       "      <td>0.404795</td>\n",
       "      <td>0.339313</td>\n",
       "      <td>0.339313</td>\n",
       "      <td>0.398222</td>\n",
       "      <td>0.374569</td>\n",
       "    </tr>\n",
       "    <tr>\n",
       "      <th>gender</th>\n",
       "      <td>0.000000</td>\n",
       "      <td>0.000000</td>\n",
       "      <td>0.000000</td>\n",
       "      <td>0.008175</td>\n",
       "      <td>0.000000</td>\n",
       "      <td>0.000000</td>\n",
       "      <td>1.000000</td>\n",
       "      <td>0.000000</td>\n",
       "      <td>0.000000</td>\n",
       "      <td>0.000000</td>\n",
       "      <td>0.000000</td>\n",
       "      <td>0.018397</td>\n",
       "      <td>0.009882</td>\n",
       "      <td>0.000000</td>\n",
       "      <td>0.000000</td>\n",
       "      <td>0.000000</td>\n",
       "      <td>0.000000</td>\n",
       "      <td>0.000000</td>\n",
       "      <td>0.008581</td>\n",
       "    </tr>\n",
       "    <tr>\n",
       "      <th>SeniorCitizen</th>\n",
       "      <td>0.086231</td>\n",
       "      <td>0.242133</td>\n",
       "      <td>0.292725</td>\n",
       "      <td>0.304985</td>\n",
       "      <td>0.135650</td>\n",
       "      <td>0.063315</td>\n",
       "      <td>0.000000</td>\n",
       "      <td>1.000000</td>\n",
       "      <td>0.016992</td>\n",
       "      <td>0.324576</td>\n",
       "      <td>0.160702</td>\n",
       "      <td>0.057028</td>\n",
       "      <td>0.102065</td>\n",
       "      <td>0.090686</td>\n",
       "      <td>0.092565</td>\n",
       "      <td>0.163120</td>\n",
       "      <td>0.186141</td>\n",
       "      <td>0.221313</td>\n",
       "      <td>0.086159</td>\n",
       "    </tr>\n",
       "    <tr>\n",
       "      <th>Partner</th>\n",
       "      <td>0.179736</td>\n",
       "      <td>0.013218</td>\n",
       "      <td>0.243008</td>\n",
       "      <td>0.203545</td>\n",
       "      <td>0.381958</td>\n",
       "      <td>0.453688</td>\n",
       "      <td>0.000000</td>\n",
       "      <td>0.016992</td>\n",
       "      <td>1.000000</td>\n",
       "      <td>0.652122</td>\n",
       "      <td>0.000000</td>\n",
       "      <td>0.221673</td>\n",
       "      <td>0.219223</td>\n",
       "      <td>0.238079</td>\n",
       "      <td>0.185993</td>\n",
       "      <td>0.193258</td>\n",
       "      <td>0.182011</td>\n",
       "      <td>0.220101</td>\n",
       "      <td>0.226688</td>\n",
       "    </tr>\n",
       "    <tr>\n",
       "      <th>Dependents</th>\n",
       "      <td>0.147680</td>\n",
       "      <td>0.172593</td>\n",
       "      <td>0.224903</td>\n",
       "      <td>0.184366</td>\n",
       "      <td>0.084247</td>\n",
       "      <td>0.198729</td>\n",
       "      <td>0.000000</td>\n",
       "      <td>0.324576</td>\n",
       "      <td>0.652122</td>\n",
       "      <td>1.000000</td>\n",
       "      <td>0.108463</td>\n",
       "      <td>0.124945</td>\n",
       "      <td>0.031533</td>\n",
       "      <td>0.010416</td>\n",
       "      <td>0.096912</td>\n",
       "      <td>0.017331</td>\n",
       "      <td>0.058999</td>\n",
       "      <td>0.033103</td>\n",
       "      <td>0.046871</td>\n",
       "    </tr>\n",
       "    <tr>\n",
       "      <th>InternetService</th>\n",
       "      <td>0.505187</td>\n",
       "      <td>0.231438</td>\n",
       "      <td>0.323886</td>\n",
       "      <td>0.919002</td>\n",
       "      <td>0.490081</td>\n",
       "      <td>0.060845</td>\n",
       "      <td>0.000000</td>\n",
       "      <td>0.160702</td>\n",
       "      <td>0.000000</td>\n",
       "      <td>0.108463</td>\n",
       "      <td>1.000000</td>\n",
       "      <td>0.241421</td>\n",
       "      <td>0.233602</td>\n",
       "      <td>0.232916</td>\n",
       "      <td>0.239663</td>\n",
       "      <td>0.272818</td>\n",
       "      <td>0.272782</td>\n",
       "      <td>0.225383</td>\n",
       "      <td>0.056621</td>\n",
       "    </tr>\n",
       "    <tr>\n",
       "      <th>OnlineSecurity</th>\n",
       "      <td>0.152145</td>\n",
       "      <td>0.000000</td>\n",
       "      <td>0.262911</td>\n",
       "      <td>0.551621</td>\n",
       "      <td>0.522090</td>\n",
       "      <td>0.395693</td>\n",
       "      <td>0.018397</td>\n",
       "      <td>0.057028</td>\n",
       "      <td>0.221673</td>\n",
       "      <td>0.124945</td>\n",
       "      <td>0.241421</td>\n",
       "      <td>1.000000</td>\n",
       "      <td>0.430425</td>\n",
       "      <td>0.418474</td>\n",
       "      <td>0.528391</td>\n",
       "      <td>0.272186</td>\n",
       "      <td>0.289097</td>\n",
       "      <td>0.151886</td>\n",
       "      <td>0.132594</td>\n",
       "    </tr>\n",
       "    <tr>\n",
       "      <th>OnlineBackup</th>\n",
       "      <td>0.098884</td>\n",
       "      <td>0.196443</td>\n",
       "      <td>0.282475</td>\n",
       "      <td>0.629541</td>\n",
       "      <td>0.622445</td>\n",
       "      <td>0.414982</td>\n",
       "      <td>0.009882</td>\n",
       "      <td>0.102065</td>\n",
       "      <td>0.219223</td>\n",
       "      <td>0.031533</td>\n",
       "      <td>0.233602</td>\n",
       "      <td>0.430425</td>\n",
       "      <td>1.000000</td>\n",
       "      <td>0.458211</td>\n",
       "      <td>0.445130</td>\n",
       "      <td>0.428007</td>\n",
       "      <td>0.417170</td>\n",
       "      <td>0.311403</td>\n",
       "      <td>0.229482</td>\n",
       "    </tr>\n",
       "    <tr>\n",
       "      <th>DeviceProtection</th>\n",
       "      <td>0.137610</td>\n",
       "      <td>0.160796</td>\n",
       "      <td>0.306866</td>\n",
       "      <td>0.667481</td>\n",
       "      <td>0.640977</td>\n",
       "      <td>0.426931</td>\n",
       "      <td>0.000000</td>\n",
       "      <td>0.090686</td>\n",
       "      <td>0.238079</td>\n",
       "      <td>0.010416</td>\n",
       "      <td>0.232916</td>\n",
       "      <td>0.418474</td>\n",
       "      <td>0.458211</td>\n",
       "      <td>1.000000</td>\n",
       "      <td>0.499267</td>\n",
       "      <td>0.575536</td>\n",
       "      <td>0.589888</td>\n",
       "      <td>0.309757</td>\n",
       "      <td>0.218380</td>\n",
       "    </tr>\n",
       "    <tr>\n",
       "      <th>TechSupport</th>\n",
       "      <td>0.179999</td>\n",
       "      <td>0.055929</td>\n",
       "      <td>0.272101</td>\n",
       "      <td>0.576525</td>\n",
       "      <td>0.550065</td>\n",
       "      <td>0.404795</td>\n",
       "      <td>0.000000</td>\n",
       "      <td>0.092565</td>\n",
       "      <td>0.185993</td>\n",
       "      <td>0.096912</td>\n",
       "      <td>0.239663</td>\n",
       "      <td>0.528391</td>\n",
       "      <td>0.445130</td>\n",
       "      <td>0.499267</td>\n",
       "      <td>1.000000</td>\n",
       "      <td>0.422242</td>\n",
       "      <td>0.424078</td>\n",
       "      <td>0.155739</td>\n",
       "      <td>0.103652</td>\n",
       "    </tr>\n",
       "    <tr>\n",
       "      <th>StreamingTV</th>\n",
       "      <td>0.066961</td>\n",
       "      <td>0.343524</td>\n",
       "      <td>0.377209</td>\n",
       "      <td>0.835340</td>\n",
       "      <td>0.641488</td>\n",
       "      <td>0.339313</td>\n",
       "      <td>0.000000</td>\n",
       "      <td>0.163120</td>\n",
       "      <td>0.193258</td>\n",
       "      <td>0.017331</td>\n",
       "      <td>0.272818</td>\n",
       "      <td>0.272186</td>\n",
       "      <td>0.428007</td>\n",
       "      <td>0.575536</td>\n",
       "      <td>0.422242</td>\n",
       "      <td>1.000000</td>\n",
       "      <td>0.742479</td>\n",
       "      <td>0.392239</td>\n",
       "      <td>0.200198</td>\n",
       "    </tr>\n",
       "    <tr>\n",
       "      <th>StreamingMovies</th>\n",
       "      <td>0.069608</td>\n",
       "      <td>0.325551</td>\n",
       "      <td>0.378907</td>\n",
       "      <td>0.833307</td>\n",
       "      <td>0.643210</td>\n",
       "      <td>0.339313</td>\n",
       "      <td>0.000000</td>\n",
       "      <td>0.186141</td>\n",
       "      <td>0.182011</td>\n",
       "      <td>0.058999</td>\n",
       "      <td>0.272782</td>\n",
       "      <td>0.289097</td>\n",
       "      <td>0.417170</td>\n",
       "      <td>0.589888</td>\n",
       "      <td>0.424078</td>\n",
       "      <td>0.742479</td>\n",
       "      <td>1.000000</td>\n",
       "      <td>0.394553</td>\n",
       "      <td>0.222232</td>\n",
       "    </tr>\n",
       "    <tr>\n",
       "      <th>MultipleLines</th>\n",
       "      <td>0.065498</td>\n",
       "      <td>0.252972</td>\n",
       "      <td>0.339313</td>\n",
       "      <td>0.675883</td>\n",
       "      <td>0.573191</td>\n",
       "      <td>0.398222</td>\n",
       "      <td>0.000000</td>\n",
       "      <td>0.221313</td>\n",
       "      <td>0.220101</td>\n",
       "      <td>0.033103</td>\n",
       "      <td>0.225383</td>\n",
       "      <td>0.151886</td>\n",
       "      <td>0.311403</td>\n",
       "      <td>0.309757</td>\n",
       "      <td>0.155739</td>\n",
       "      <td>0.392239</td>\n",
       "      <td>0.394553</td>\n",
       "      <td>1.000000</td>\n",
       "      <td>0.261237</td>\n",
       "    </tr>\n",
       "    <tr>\n",
       "      <th>Target</th>\n",
       "      <td>0.094015</td>\n",
       "      <td>0.083398</td>\n",
       "      <td>0.214832</td>\n",
       "      <td>0.226280</td>\n",
       "      <td>0.302890</td>\n",
       "      <td>0.374569</td>\n",
       "      <td>0.008581</td>\n",
       "      <td>0.086159</td>\n",
       "      <td>0.226688</td>\n",
       "      <td>0.046871</td>\n",
       "      <td>0.056621</td>\n",
       "      <td>0.132594</td>\n",
       "      <td>0.229482</td>\n",
       "      <td>0.218380</td>\n",
       "      <td>0.103652</td>\n",
       "      <td>0.200198</td>\n",
       "      <td>0.222232</td>\n",
       "      <td>0.261237</td>\n",
       "      <td>1.000000</td>\n",
       "    </tr>\n",
       "  </tbody>\n",
       "</table>\n",
       "</div>"
      ],
      "text/plain": [
       "                      Type  PaperlessBilling  PaymentMethod  MonthlyCharges  \\\n",
       "Type              1.000000          0.106860       0.277462        0.388444   \n",
       "PaperlessBilling  0.106860          1.000000       0.370495        0.467812   \n",
       "PaymentMethod     0.277462          0.370495       1.000000        0.399526   \n",
       "MonthlyCharges    0.388444          0.467812       0.399526        1.000000   \n",
       "TotalCharges      0.470860          0.201703       0.335666        0.710905   \n",
       "Interval          0.634155          0.026799       0.350964        0.387727   \n",
       "gender            0.000000          0.000000       0.000000        0.008175   \n",
       "SeniorCitizen     0.086231          0.242133       0.292725        0.304985   \n",
       "Partner           0.179736          0.013218       0.243008        0.203545   \n",
       "Dependents        0.147680          0.172593       0.224903        0.184366   \n",
       "InternetService   0.505187          0.231438       0.323886        0.919002   \n",
       "OnlineSecurity    0.152145          0.000000       0.262911        0.551621   \n",
       "OnlineBackup      0.098884          0.196443       0.282475        0.629541   \n",
       "DeviceProtection  0.137610          0.160796       0.306866        0.667481   \n",
       "TechSupport       0.179999          0.055929       0.272101        0.576525   \n",
       "StreamingTV       0.066961          0.343524       0.377209        0.835340   \n",
       "StreamingMovies   0.069608          0.325551       0.378907        0.833307   \n",
       "MultipleLines     0.065498          0.252972       0.339313        0.675883   \n",
       "Target            0.094015          0.083398       0.214832        0.226280   \n",
       "\n",
       "                  TotalCharges  Interval    gender  SeniorCitizen   Partner  \\\n",
       "Type                  0.470860  0.634155  0.000000       0.086231  0.179736   \n",
       "PaperlessBilling      0.201703  0.026799  0.000000       0.242133  0.013218   \n",
       "PaymentMethod         0.335666  0.350964  0.000000       0.292725  0.243008   \n",
       "MonthlyCharges        0.710905  0.387727  0.008175       0.304985  0.203545   \n",
       "TotalCharges          1.000000  0.848337  0.000000       0.135650  0.381958   \n",
       "Interval              0.848337  1.000000  0.000000       0.063315  0.453688   \n",
       "gender                0.000000  0.000000  1.000000       0.000000  0.000000   \n",
       "SeniorCitizen         0.135650  0.063315  0.000000       1.000000  0.016992   \n",
       "Partner               0.381958  0.453688  0.000000       0.016992  1.000000   \n",
       "Dependents            0.084247  0.198729  0.000000       0.324576  0.652122   \n",
       "InternetService       0.490081  0.060845  0.000000       0.160702  0.000000   \n",
       "OnlineSecurity        0.522090  0.395693  0.018397       0.057028  0.221673   \n",
       "OnlineBackup          0.622445  0.414982  0.009882       0.102065  0.219223   \n",
       "DeviceProtection      0.640977  0.426931  0.000000       0.090686  0.238079   \n",
       "TechSupport           0.550065  0.404795  0.000000       0.092565  0.185993   \n",
       "StreamingTV           0.641488  0.339313  0.000000       0.163120  0.193258   \n",
       "StreamingMovies       0.643210  0.339313  0.000000       0.186141  0.182011   \n",
       "MultipleLines         0.573191  0.398222  0.000000       0.221313  0.220101   \n",
       "Target                0.302890  0.374569  0.008581       0.086159  0.226688   \n",
       "\n",
       "                  Dependents  InternetService  OnlineSecurity  OnlineBackup  \\\n",
       "Type                0.147680         0.505187        0.152145      0.098884   \n",
       "PaperlessBilling    0.172593         0.231438        0.000000      0.196443   \n",
       "PaymentMethod       0.224903         0.323886        0.262911      0.282475   \n",
       "MonthlyCharges      0.184366         0.919002        0.551621      0.629541   \n",
       "TotalCharges        0.084247         0.490081        0.522090      0.622445   \n",
       "Interval            0.198729         0.060845        0.395693      0.414982   \n",
       "gender              0.000000         0.000000        0.018397      0.009882   \n",
       "SeniorCitizen       0.324576         0.160702        0.057028      0.102065   \n",
       "Partner             0.652122         0.000000        0.221673      0.219223   \n",
       "Dependents          1.000000         0.108463        0.124945      0.031533   \n",
       "InternetService     0.108463         1.000000        0.241421      0.233602   \n",
       "OnlineSecurity      0.124945         0.241421        1.000000      0.430425   \n",
       "OnlineBackup        0.031533         0.233602        0.430425      1.000000   \n",
       "DeviceProtection    0.010416         0.232916        0.418474      0.458211   \n",
       "TechSupport         0.096912         0.239663        0.528391      0.445130   \n",
       "StreamingTV         0.017331         0.272818        0.272186      0.428007   \n",
       "StreamingMovies     0.058999         0.272782        0.289097      0.417170   \n",
       "MultipleLines       0.033103         0.225383        0.151886      0.311403   \n",
       "Target              0.046871         0.056621        0.132594      0.229482   \n",
       "\n",
       "                  DeviceProtection  TechSupport  StreamingTV  StreamingMovies  \\\n",
       "Type                      0.137610     0.179999     0.066961         0.069608   \n",
       "PaperlessBilling          0.160796     0.055929     0.343524         0.325551   \n",
       "PaymentMethod             0.306866     0.272101     0.377209         0.378907   \n",
       "MonthlyCharges            0.667481     0.576525     0.835340         0.833307   \n",
       "TotalCharges              0.640977     0.550065     0.641488         0.643210   \n",
       "Interval                  0.426931     0.404795     0.339313         0.339313   \n",
       "gender                    0.000000     0.000000     0.000000         0.000000   \n",
       "SeniorCitizen             0.090686     0.092565     0.163120         0.186141   \n",
       "Partner                   0.238079     0.185993     0.193258         0.182011   \n",
       "Dependents                0.010416     0.096912     0.017331         0.058999   \n",
       "InternetService           0.232916     0.239663     0.272818         0.272782   \n",
       "OnlineSecurity            0.418474     0.528391     0.272186         0.289097   \n",
       "OnlineBackup              0.458211     0.445130     0.428007         0.417170   \n",
       "DeviceProtection          1.000000     0.499267     0.575536         0.589888   \n",
       "TechSupport               0.499267     1.000000     0.422242         0.424078   \n",
       "StreamingTV               0.575536     0.422242     1.000000         0.742479   \n",
       "StreamingMovies           0.589888     0.424078     0.742479         1.000000   \n",
       "MultipleLines             0.309757     0.155739     0.392239         0.394553   \n",
       "Target                    0.218380     0.103652     0.200198         0.222232   \n",
       "\n",
       "                  MultipleLines    Target  \n",
       "Type                   0.065498  0.094015  \n",
       "PaperlessBilling       0.252972  0.083398  \n",
       "PaymentMethod          0.339313  0.214832  \n",
       "MonthlyCharges         0.675883  0.226280  \n",
       "TotalCharges           0.573191  0.302890  \n",
       "Interval               0.398222  0.374569  \n",
       "gender                 0.000000  0.008581  \n",
       "SeniorCitizen          0.221313  0.086159  \n",
       "Partner                0.220101  0.226688  \n",
       "Dependents             0.033103  0.046871  \n",
       "InternetService        0.225383  0.056621  \n",
       "OnlineSecurity         0.151886  0.132594  \n",
       "OnlineBackup           0.311403  0.229482  \n",
       "DeviceProtection       0.309757  0.218380  \n",
       "TechSupport            0.155739  0.103652  \n",
       "StreamingTV            0.392239  0.200198  \n",
       "StreamingMovies        0.394553  0.222232  \n",
       "MultipleLines          1.000000  0.261237  \n",
       "Target                 0.261237  1.000000  "
      ]
     },
     "execution_count": 49,
     "metadata": {},
     "output_type": "execute_result"
    }
   ],
   "source": [
    "data.phik_matrix()"
   ]
  },
  {
   "cell_type": "code",
   "execution_count": null,
   "metadata": {
    "scrolled": true
   },
   "outputs": [
    {
     "name": "stdout",
     "output_type": "stream",
     "text": [
      "interval columns not set, guessing: ['MonthlyCharges', 'TotalCharges', 'Interval', 'SeniorCitizen', 'Target']\n"
     ]
    }
   ],
   "source": [
    "matrix = data.phik_matrix()"
   ]
  },
  {
   "cell_type": "code",
   "execution_count": null,
   "metadata": {},
   "outputs": [
    {
     "data": {
      "text/html": [
       "<div>\n",
       "<style scoped>\n",
       "    .dataframe tbody tr th:only-of-type {\n",
       "        vertical-align: middle;\n",
       "    }\n",
       "\n",
       "    .dataframe tbody tr th {\n",
       "        vertical-align: top;\n",
       "    }\n",
       "\n",
       "    .dataframe thead th {\n",
       "        text-align: right;\n",
       "    }\n",
       "</style>\n",
       "<table border=\"1\" class=\"dataframe\">\n",
       "  <thead>\n",
       "    <tr style=\"text-align: right;\">\n",
       "      <th></th>\n",
       "      <th>MonthlyCharges</th>\n",
       "      <th>TotalCharges</th>\n",
       "    </tr>\n",
       "  </thead>\n",
       "  <tbody>\n",
       "    <tr>\n",
       "      <th>Type</th>\n",
       "      <td>0.388444</td>\n",
       "      <td>0.470860</td>\n",
       "    </tr>\n",
       "    <tr>\n",
       "      <th>PaperlessBilling</th>\n",
       "      <td>0.467812</td>\n",
       "      <td>0.201703</td>\n",
       "    </tr>\n",
       "    <tr>\n",
       "      <th>PaymentMethod</th>\n",
       "      <td>0.399526</td>\n",
       "      <td>0.335666</td>\n",
       "    </tr>\n",
       "    <tr>\n",
       "      <th>MonthlyCharges</th>\n",
       "      <td>1.000000</td>\n",
       "      <td>0.710905</td>\n",
       "    </tr>\n",
       "    <tr>\n",
       "      <th>TotalCharges</th>\n",
       "      <td>0.710905</td>\n",
       "      <td>1.000000</td>\n",
       "    </tr>\n",
       "    <tr>\n",
       "      <th>Interval</th>\n",
       "      <td>0.387727</td>\n",
       "      <td>0.848337</td>\n",
       "    </tr>\n",
       "    <tr>\n",
       "      <th>gender</th>\n",
       "      <td>0.008175</td>\n",
       "      <td>0.000000</td>\n",
       "    </tr>\n",
       "    <tr>\n",
       "      <th>SeniorCitizen</th>\n",
       "      <td>0.304985</td>\n",
       "      <td>0.135650</td>\n",
       "    </tr>\n",
       "    <tr>\n",
       "      <th>Partner</th>\n",
       "      <td>0.203545</td>\n",
       "      <td>0.381958</td>\n",
       "    </tr>\n",
       "    <tr>\n",
       "      <th>Dependents</th>\n",
       "      <td>0.184366</td>\n",
       "      <td>0.084247</td>\n",
       "    </tr>\n",
       "    <tr>\n",
       "      <th>InternetService</th>\n",
       "      <td>0.919002</td>\n",
       "      <td>0.490081</td>\n",
       "    </tr>\n",
       "    <tr>\n",
       "      <th>OnlineSecurity</th>\n",
       "      <td>0.551621</td>\n",
       "      <td>0.522090</td>\n",
       "    </tr>\n",
       "    <tr>\n",
       "      <th>OnlineBackup</th>\n",
       "      <td>0.629541</td>\n",
       "      <td>0.622445</td>\n",
       "    </tr>\n",
       "    <tr>\n",
       "      <th>DeviceProtection</th>\n",
       "      <td>0.667481</td>\n",
       "      <td>0.640977</td>\n",
       "    </tr>\n",
       "    <tr>\n",
       "      <th>TechSupport</th>\n",
       "      <td>0.576525</td>\n",
       "      <td>0.550065</td>\n",
       "    </tr>\n",
       "    <tr>\n",
       "      <th>StreamingTV</th>\n",
       "      <td>0.835340</td>\n",
       "      <td>0.641488</td>\n",
       "    </tr>\n",
       "    <tr>\n",
       "      <th>StreamingMovies</th>\n",
       "      <td>0.833307</td>\n",
       "      <td>0.643210</td>\n",
       "    </tr>\n",
       "    <tr>\n",
       "      <th>MultipleLines</th>\n",
       "      <td>0.675883</td>\n",
       "      <td>0.573191</td>\n",
       "    </tr>\n",
       "    <tr>\n",
       "      <th>Target</th>\n",
       "      <td>0.226280</td>\n",
       "      <td>0.302890</td>\n",
       "    </tr>\n",
       "  </tbody>\n",
       "</table>\n",
       "</div>"
      ],
      "text/plain": [
       "                  MonthlyCharges  TotalCharges\n",
       "Type                    0.388444      0.470860\n",
       "PaperlessBilling        0.467812      0.201703\n",
       "PaymentMethod           0.399526      0.335666\n",
       "MonthlyCharges          1.000000      0.710905\n",
       "TotalCharges            0.710905      1.000000\n",
       "Interval                0.387727      0.848337\n",
       "gender                  0.008175      0.000000\n",
       "SeniorCitizen           0.304985      0.135650\n",
       "Partner                 0.203545      0.381958\n",
       "Dependents              0.184366      0.084247\n",
       "InternetService         0.919002      0.490081\n",
       "OnlineSecurity          0.551621      0.522090\n",
       "OnlineBackup            0.629541      0.622445\n",
       "DeviceProtection        0.667481      0.640977\n",
       "TechSupport             0.576525      0.550065\n",
       "StreamingTV             0.835340      0.641488\n",
       "StreamingMovies         0.833307      0.643210\n",
       "MultipleLines           0.675883      0.573191\n",
       "Target                  0.226280      0.302890"
      ]
     },
     "execution_count": 51,
     "metadata": {},
     "output_type": "execute_result"
    }
   ],
   "source": [
    "matrix[['MonthlyCharges', 'TotalCharges']]"
   ]
  },
  {
   "cell_type": "markdown",
   "metadata": {},
   "source": [
    "- сразу бросается в глаза столбец с полом клиента, который не показывает никакой связи ни с одним из признаков, кроме как минимальной с двумя колонками, он будет удален.\n",
    "- самая сильная корреляция показана между тратами за месяц и всеми признаками, относящимися ко всем интернет услугами, тут коэффициент взаимосвязи находится в диапазоне от 0.5 до 0.92, что указывает на мультиколинеарность, с другими признаками пакет интернет-услуг такой сильной связи не дает, поэтому я приняла решение также удалить столбец с месячными тратами."
   ]
  },
  {
   "cell_type": "code",
   "execution_count": null,
   "metadata": {},
   "outputs": [],
   "source": [
    "data = data.drop(['gender', 'MonthlyCharges'], axis=1)"
   ]
  },
  {
   "cell_type": "code",
   "execution_count": null,
   "metadata": {},
   "outputs": [
    {
     "data": {
      "text/plain": [
       "0.19"
      ]
     },
     "execution_count": 53,
     "metadata": {},
     "output_type": "execute_result"
    }
   ],
   "source": [
    "round(data.Target[data.Target==1].shape[0]/data.Target[data.Target==0].shape[0], 2)"
   ]
  },
  {
   "cell_type": "markdown",
   "metadata": {},
   "source": [
    "***Выводы:***\n",
    "- на данном этапе был выявлен целевой признак - это столбец с окончанием договора обслуживания, и на его основе сгенерирован стобец с целевым признаком - Target, по данным из этого столбца становится понятным, что мы столкнулись с проблемой дисбаланса классов - класс - 0 (когда клиенты продолжают обслуживаться) относится к классу 1(когда клиенты разорвали договор) в пропорции 4 к 1.\n",
    "- также были изменены типы данных(приведены к timedate и float)\n",
    "- добавлен новый признак Interval - стаж клиентского обслуживания\n",
    "- проведен исследовательский анализ данных, выявлены закономерности в данных(относительно временных параметров пользования услугами, частоты пользования тех или иных дополнительных услуг), составлен портрет основного пользователя и характеристики пользователей, которые меньше пользуются услугами компании\n",
    "- найдены и удалены выбросы в столбце с информацией по итоговым тратам на услуги компании\n",
    "- все датасеты объединены в общую таблицу\n",
    "- проанализированы коэффициенты взаимосвязи признаков датасета\n",
    "- удалены признаки, не имеющие корреляции, либо обладающие мультиколинеарностью, датасет подготовлен к кодированию и машинному обучению"
   ]
  },
  {
   "cell_type": "markdown",
   "metadata": {},
   "source": [
    "***<font color='province'>Подготовка данных к обучению модели машинного обучения:</font>***\n",
    "\n",
    "- В данном подразделе я разделю выборку на обучающую и тестовую части\n",
    "- Произведу кодирование переменных:\n",
    "  - где обучу кодер на тренировочной части, а трансформирую уже отдельно тренировочную и тестовую части"
   ]
  },
  {
   "cell_type": "code",
   "execution_count": null,
   "metadata": {},
   "outputs": [],
   "source": [
    "data_train, data_test = train_test_split(data, test_size=test_size, random_state=random_state)"
   ]
  },
  {
   "cell_type": "code",
   "execution_count": null,
   "metadata": {},
   "outputs": [],
   "source": [
    "X_train = data_train.drop('Target', axis=1)\n",
    "y_train = data_train.Target\n",
    "X_test = data_test.drop('Target', axis=1)\n",
    "y_test = data_test.Target"
   ]
  },
  {
   "cell_type": "code",
   "execution_count": null,
   "metadata": {},
   "outputs": [],
   "source": [
    "ohe = OneHotEncoder(drop='first', handle_unknown='error')"
   ]
  },
  {
   "cell_type": "code",
   "execution_count": null,
   "metadata": {},
   "outputs": [],
   "source": [
    "X_train_categ = X_train.drop(['TotalCharges', 'Interval'], axis=1)\n",
    "X_test_categ = X_test.drop(['TotalCharges', 'Interval'], axis=1)"
   ]
  },
  {
   "cell_type": "code",
   "execution_count": null,
   "metadata": {},
   "outputs": [],
   "source": [
    "X_train_num = X_train[['TotalCharges', 'Interval']]\n",
    "X_test_num = X_test[['TotalCharges', 'Interval']]"
   ]
  },
  {
   "cell_type": "code",
   "execution_count": null,
   "metadata": {},
   "outputs": [
    {
     "data": {
      "text/html": [
       "<style>#sk-container-id-2 {color: black;background-color: white;}#sk-container-id-2 pre{padding: 0;}#sk-container-id-2 div.sk-toggleable {background-color: white;}#sk-container-id-2 label.sk-toggleable__label {cursor: pointer;display: block;width: 100%;margin-bottom: 0;padding: 0.3em;box-sizing: border-box;text-align: center;}#sk-container-id-2 label.sk-toggleable__label-arrow:before {content: \"▸\";float: left;margin-right: 0.25em;color: #696969;}#sk-container-id-2 label.sk-toggleable__label-arrow:hover:before {color: black;}#sk-container-id-2 div.sk-estimator:hover label.sk-toggleable__label-arrow:before {color: black;}#sk-container-id-2 div.sk-toggleable__content {max-height: 0;max-width: 0;overflow: hidden;text-align: left;background-color: #f0f8ff;}#sk-container-id-2 div.sk-toggleable__content pre {margin: 0.2em;color: black;border-radius: 0.25em;background-color: #f0f8ff;}#sk-container-id-2 input.sk-toggleable__control:checked~div.sk-toggleable__content {max-height: 200px;max-width: 100%;overflow: auto;}#sk-container-id-2 input.sk-toggleable__control:checked~label.sk-toggleable__label-arrow:before {content: \"▾\";}#sk-container-id-2 div.sk-estimator input.sk-toggleable__control:checked~label.sk-toggleable__label {background-color: #d4ebff;}#sk-container-id-2 div.sk-label input.sk-toggleable__control:checked~label.sk-toggleable__label {background-color: #d4ebff;}#sk-container-id-2 input.sk-hidden--visually {border: 0;clip: rect(1px 1px 1px 1px);clip: rect(1px, 1px, 1px, 1px);height: 1px;margin: -1px;overflow: hidden;padding: 0;position: absolute;width: 1px;}#sk-container-id-2 div.sk-estimator {font-family: monospace;background-color: #f0f8ff;border: 1px dotted black;border-radius: 0.25em;box-sizing: border-box;margin-bottom: 0.5em;}#sk-container-id-2 div.sk-estimator:hover {background-color: #d4ebff;}#sk-container-id-2 div.sk-parallel-item::after {content: \"\";width: 100%;border-bottom: 1px solid gray;flex-grow: 1;}#sk-container-id-2 div.sk-label:hover label.sk-toggleable__label {background-color: #d4ebff;}#sk-container-id-2 div.sk-serial::before {content: \"\";position: absolute;border-left: 1px solid gray;box-sizing: border-box;top: 0;bottom: 0;left: 50%;z-index: 0;}#sk-container-id-2 div.sk-serial {display: flex;flex-direction: column;align-items: center;background-color: white;padding-right: 0.2em;padding-left: 0.2em;position: relative;}#sk-container-id-2 div.sk-item {position: relative;z-index: 1;}#sk-container-id-2 div.sk-parallel {display: flex;align-items: stretch;justify-content: center;background-color: white;position: relative;}#sk-container-id-2 div.sk-item::before, #sk-container-id-2 div.sk-parallel-item::before {content: \"\";position: absolute;border-left: 1px solid gray;box-sizing: border-box;top: 0;bottom: 0;left: 50%;z-index: -1;}#sk-container-id-2 div.sk-parallel-item {display: flex;flex-direction: column;z-index: 1;position: relative;background-color: white;}#sk-container-id-2 div.sk-parallel-item:first-child::after {align-self: flex-end;width: 50%;}#sk-container-id-2 div.sk-parallel-item:last-child::after {align-self: flex-start;width: 50%;}#sk-container-id-2 div.sk-parallel-item:only-child::after {width: 0;}#sk-container-id-2 div.sk-dashed-wrapped {border: 1px dashed gray;margin: 0 0.4em 0.5em 0.4em;box-sizing: border-box;padding-bottom: 0.4em;background-color: white;}#sk-container-id-2 div.sk-label label {font-family: monospace;font-weight: bold;display: inline-block;line-height: 1.2em;}#sk-container-id-2 div.sk-label-container {text-align: center;}#sk-container-id-2 div.sk-container {/* jupyter's `normalize.less` sets `[hidden] { display: none; }` but bootstrap.min.css set `[hidden] { display: none !important; }` so we also need the `!important` here to be able to override the default hidden behavior on the sphinx rendered scikit-learn.org. See: https://github.com/scikit-learn/scikit-learn/issues/21755 */display: inline-block !important;position: relative;}#sk-container-id-2 div.sk-text-repr-fallback {display: none;}</style><div id=\"sk-container-id-2\" class=\"sk-top-container\"><div class=\"sk-text-repr-fallback\"><pre>StandardScaler()</pre><b>In a Jupyter environment, please rerun this cell to show the HTML representation or trust the notebook. <br />On GitHub, the HTML representation is unable to render, please try loading this page with nbviewer.org.</b></div><div class=\"sk-container\" hidden><div class=\"sk-item\"><div class=\"sk-estimator sk-toggleable\"><input class=\"sk-toggleable__control sk-hidden--visually\" id=\"sk-estimator-id-2\" type=\"checkbox\" checked><label for=\"sk-estimator-id-2\" class=\"sk-toggleable__label sk-toggleable__label-arrow\">StandardScaler</label><div class=\"sk-toggleable__content\"><pre>StandardScaler()</pre></div></div></div></div></div>"
      ],
      "text/plain": [
       "StandardScaler()"
      ]
     },
     "execution_count": 61,
     "metadata": {},
     "output_type": "execute_result"
    }
   ],
   "source": [
    "scaler = StandardScaler()\n",
    "scaler.fit(X_train_num)"
   ]
  },
  {
   "cell_type": "code",
   "execution_count": null,
   "metadata": {},
   "outputs": [],
   "source": [
    "col = scaler.get_feature_names_out(X_train_num.columns)"
   ]
  },
  {
   "cell_type": "code",
   "execution_count": null,
   "metadata": {},
   "outputs": [],
   "source": [
    "X_train_scaled = pd.DataFrame(scaler.transform(X_train_num), columns=col,\n",
    "    index=X_train_num.index)\n",
    "X_test_scaled = pd.DataFrame(scaler.transform(X_test_num), columns=col,\n",
    "    index=X_test_num.index)"
   ]
  },
  {
   "cell_type": "code",
   "execution_count": null,
   "metadata": {
    "scrolled": true
   },
   "outputs": [
    {
     "data": {
      "text/html": [
       "<style>#sk-container-id-4 {color: black;background-color: white;}#sk-container-id-4 pre{padding: 0;}#sk-container-id-4 div.sk-toggleable {background-color: white;}#sk-container-id-4 label.sk-toggleable__label {cursor: pointer;display: block;width: 100%;margin-bottom: 0;padding: 0.3em;box-sizing: border-box;text-align: center;}#sk-container-id-4 label.sk-toggleable__label-arrow:before {content: \"▸\";float: left;margin-right: 0.25em;color: #696969;}#sk-container-id-4 label.sk-toggleable__label-arrow:hover:before {color: black;}#sk-container-id-4 div.sk-estimator:hover label.sk-toggleable__label-arrow:before {color: black;}#sk-container-id-4 div.sk-toggleable__content {max-height: 0;max-width: 0;overflow: hidden;text-align: left;background-color: #f0f8ff;}#sk-container-id-4 div.sk-toggleable__content pre {margin: 0.2em;color: black;border-radius: 0.25em;background-color: #f0f8ff;}#sk-container-id-4 input.sk-toggleable__control:checked~div.sk-toggleable__content {max-height: 200px;max-width: 100%;overflow: auto;}#sk-container-id-4 input.sk-toggleable__control:checked~label.sk-toggleable__label-arrow:before {content: \"▾\";}#sk-container-id-4 div.sk-estimator input.sk-toggleable__control:checked~label.sk-toggleable__label {background-color: #d4ebff;}#sk-container-id-4 div.sk-label input.sk-toggleable__control:checked~label.sk-toggleable__label {background-color: #d4ebff;}#sk-container-id-4 input.sk-hidden--visually {border: 0;clip: rect(1px 1px 1px 1px);clip: rect(1px, 1px, 1px, 1px);height: 1px;margin: -1px;overflow: hidden;padding: 0;position: absolute;width: 1px;}#sk-container-id-4 div.sk-estimator {font-family: monospace;background-color: #f0f8ff;border: 1px dotted black;border-radius: 0.25em;box-sizing: border-box;margin-bottom: 0.5em;}#sk-container-id-4 div.sk-estimator:hover {background-color: #d4ebff;}#sk-container-id-4 div.sk-parallel-item::after {content: \"\";width: 100%;border-bottom: 1px solid gray;flex-grow: 1;}#sk-container-id-4 div.sk-label:hover label.sk-toggleable__label {background-color: #d4ebff;}#sk-container-id-4 div.sk-serial::before {content: \"\";position: absolute;border-left: 1px solid gray;box-sizing: border-box;top: 0;bottom: 0;left: 50%;z-index: 0;}#sk-container-id-4 div.sk-serial {display: flex;flex-direction: column;align-items: center;background-color: white;padding-right: 0.2em;padding-left: 0.2em;position: relative;}#sk-container-id-4 div.sk-item {position: relative;z-index: 1;}#sk-container-id-4 div.sk-parallel {display: flex;align-items: stretch;justify-content: center;background-color: white;position: relative;}#sk-container-id-4 div.sk-item::before, #sk-container-id-4 div.sk-parallel-item::before {content: \"\";position: absolute;border-left: 1px solid gray;box-sizing: border-box;top: 0;bottom: 0;left: 50%;z-index: -1;}#sk-container-id-4 div.sk-parallel-item {display: flex;flex-direction: column;z-index: 1;position: relative;background-color: white;}#sk-container-id-4 div.sk-parallel-item:first-child::after {align-self: flex-end;width: 50%;}#sk-container-id-4 div.sk-parallel-item:last-child::after {align-self: flex-start;width: 50%;}#sk-container-id-4 div.sk-parallel-item:only-child::after {width: 0;}#sk-container-id-4 div.sk-dashed-wrapped {border: 1px dashed gray;margin: 0 0.4em 0.5em 0.4em;box-sizing: border-box;padding-bottom: 0.4em;background-color: white;}#sk-container-id-4 div.sk-label label {font-family: monospace;font-weight: bold;display: inline-block;line-height: 1.2em;}#sk-container-id-4 div.sk-label-container {text-align: center;}#sk-container-id-4 div.sk-container {/* jupyter's `normalize.less` sets `[hidden] { display: none; }` but bootstrap.min.css set `[hidden] { display: none !important; }` so we also need the `!important` here to be able to override the default hidden behavior on the sphinx rendered scikit-learn.org. See: https://github.com/scikit-learn/scikit-learn/issues/21755 */display: inline-block !important;position: relative;}#sk-container-id-4 div.sk-text-repr-fallback {display: none;}</style><div id=\"sk-container-id-4\" class=\"sk-top-container\"><div class=\"sk-text-repr-fallback\"><pre>OneHotEncoder(drop=&#x27;first&#x27;)</pre><b>In a Jupyter environment, please rerun this cell to show the HTML representation or trust the notebook. <br />On GitHub, the HTML representation is unable to render, please try loading this page with nbviewer.org.</b></div><div class=\"sk-container\" hidden><div class=\"sk-item\"><div class=\"sk-estimator sk-toggleable\"><input class=\"sk-toggleable__control sk-hidden--visually\" id=\"sk-estimator-id-4\" type=\"checkbox\" checked><label for=\"sk-estimator-id-4\" class=\"sk-toggleable__label sk-toggleable__label-arrow\">OneHotEncoder</label><div class=\"sk-toggleable__content\"><pre>OneHotEncoder(drop=&#x27;first&#x27;)</pre></div></div></div></div></div>"
      ],
      "text/plain": [
       "OneHotEncoder(drop='first')"
      ]
     },
     "execution_count": 66,
     "metadata": {},
     "output_type": "execute_result"
    }
   ],
   "source": [
    "ohe.fit(X_train_categ)"
   ]
  },
  {
   "cell_type": "code",
   "execution_count": null,
   "metadata": {},
   "outputs": [],
   "source": [
    "new_columns = ohe.get_feature_names_out(X_train_categ.columns)"
   ]
  },
  {
   "cell_type": "code",
   "execution_count": null,
   "metadata": {},
   "outputs": [],
   "source": [
    "X_train_ohe = pd.DataFrame(ohe.transform(X_train_categ).toarray(), columns=new_columns,\n",
    "    index=X_train_categ.index)\n",
    "X_test_ohe = pd.DataFrame(ohe.transform(X_test_categ).toarray(), columns=new_columns,\n",
    "    index=X_test_categ.index)"
   ]
  },
  {
   "cell_type": "code",
   "execution_count": null,
   "metadata": {},
   "outputs": [],
   "source": [
    "X_train = pd.concat([X_train_ohe, X_train_scaled], axis=1)\n",
    "X_test = pd.concat([X_test_ohe, X_test_scaled], axis=1)"
   ]
  },
  {
   "cell_type": "markdown",
   "metadata": {},
   "source": [
    "Итак, данные разделены на тренировочную и тестовую части, категориальные признаки закодированы, можно переходить к выбору модели."
   ]
  },
  {
   "cell_type": "markdown",
   "metadata": {},
   "source": [
    "***<font color='province'>Выбор модели:</font>***\n",
    "В этом подразделе посредством кросс_валидации и анализируя метрики AUC-ROC и Accuracy я буду выбирать лучшую модель для тестирования."
   ]
  },
  {
   "cell_type": "code",
   "execution_count": null,
   "metadata": {},
   "outputs": [],
   "source": [
    "index = []\n",
    "scores = {\"Accuracy\": [], \"ROC-AUC\": []}\n",
    "scoring = [\"accuracy\", \"roc_auc\"]"
   ]
  },
  {
   "cell_type": "code",
   "execution_count": null,
   "metadata": {},
   "outputs": [
    {
     "data": {
      "text/html": [
       "<div>\n",
       "<style scoped>\n",
       "    .dataframe tbody tr th:only-of-type {\n",
       "        vertical-align: middle;\n",
       "    }\n",
       "\n",
       "    .dataframe tbody tr th {\n",
       "        vertical-align: top;\n",
       "    }\n",
       "\n",
       "    .dataframe thead th {\n",
       "        text-align: right;\n",
       "    }\n",
       "</style>\n",
       "<table border=\"1\" class=\"dataframe\">\n",
       "  <thead>\n",
       "    <tr style=\"text-align: right;\">\n",
       "      <th></th>\n",
       "      <th>Accuracy</th>\n",
       "      <th>ROC-AUC</th>\n",
       "    </tr>\n",
       "  </thead>\n",
       "  <tbody>\n",
       "    <tr>\n",
       "      <th>Dummy classifier</th>\n",
       "      <td>0.84078</td>\n",
       "      <td>0.5</td>\n",
       "    </tr>\n",
       "  </tbody>\n",
       "</table>\n",
       "</div>"
      ],
      "text/plain": [
       "                  Accuracy  ROC-AUC\n",
       "Dummy classifier   0.84078      0.5"
      ]
     },
     "execution_count": 71,
     "metadata": {},
     "output_type": "execute_result"
    }
   ],
   "source": [
    "dummy_clf = DummyClassifier(strategy=\"most_frequent\")\n",
    "\n",
    "index += [\"Dummy classifier\"]\n",
    "cv_result = cross_validate(dummy_clf, X_train, y_train, scoring=scoring)\n",
    "scores[\"Accuracy\"].append(cv_result['test_accuracy'].mean())\n",
    "scores[\"ROC-AUC\"].append(cv_result['test_roc_auc'].mean())\n",
    "df_scores = pd.DataFrame(scores, index=index)\n",
    "df_scores"
   ]
  },
  {
   "cell_type": "code",
   "execution_count": null,
   "metadata": {},
   "outputs": [
    {
     "data": {
      "text/html": [
       "<div>\n",
       "<style scoped>\n",
       "    .dataframe tbody tr th:only-of-type {\n",
       "        vertical-align: middle;\n",
       "    }\n",
       "\n",
       "    .dataframe tbody tr th {\n",
       "        vertical-align: top;\n",
       "    }\n",
       "\n",
       "    .dataframe thead th {\n",
       "        text-align: right;\n",
       "    }\n",
       "</style>\n",
       "<table border=\"1\" class=\"dataframe\">\n",
       "  <thead>\n",
       "    <tr style=\"text-align: right;\">\n",
       "      <th></th>\n",
       "      <th>Accuracy</th>\n",
       "      <th>ROC-AUC</th>\n",
       "    </tr>\n",
       "  </thead>\n",
       "  <tbody>\n",
       "    <tr>\n",
       "      <th>Dummy classifier</th>\n",
       "      <td>0.84078</td>\n",
       "      <td>0.500000</td>\n",
       "    </tr>\n",
       "    <tr>\n",
       "      <th>Logistic regression</th>\n",
       "      <td>0.86009</td>\n",
       "      <td>0.773072</td>\n",
       "    </tr>\n",
       "  </tbody>\n",
       "</table>\n",
       "</div>"
      ],
      "text/plain": [
       "                     Accuracy   ROC-AUC\n",
       "Dummy classifier      0.84078  0.500000\n",
       "Logistic regression   0.86009  0.773072"
      ]
     },
     "execution_count": 72,
     "metadata": {},
     "output_type": "execute_result"
    }
   ],
   "source": [
    "lr_clf = LogisticRegression(max_iter=1000)\n",
    "index += [\"Logistic regression\"]\n",
    "cv_result = cross_validate(lr_clf, X_train, y_train, scoring=scoring)\n",
    "scores[\"Accuracy\"].append(cv_result[\"test_accuracy\"].mean())\n",
    "scores[\"ROC-AUC\"].append(cv_result['test_roc_auc'].mean())\n",
    "df_scores = pd.DataFrame(scores, index=index)\n",
    "df_scores"
   ]
  },
  {
   "cell_type": "code",
   "execution_count": null,
   "metadata": {},
   "outputs": [
    {
     "data": {
      "text/html": [
       "<div>\n",
       "<style scoped>\n",
       "    .dataframe tbody tr th:only-of-type {\n",
       "        vertical-align: middle;\n",
       "    }\n",
       "\n",
       "    .dataframe tbody tr th {\n",
       "        vertical-align: top;\n",
       "    }\n",
       "\n",
       "    .dataframe thead th {\n",
       "        text-align: right;\n",
       "    }\n",
       "</style>\n",
       "<table border=\"1\" class=\"dataframe\">\n",
       "  <thead>\n",
       "    <tr style=\"text-align: right;\">\n",
       "      <th></th>\n",
       "      <th>Accuracy</th>\n",
       "      <th>ROC-AUC</th>\n",
       "    </tr>\n",
       "  </thead>\n",
       "  <tbody>\n",
       "    <tr>\n",
       "      <th>Dummy classifier</th>\n",
       "      <td>0.840780</td>\n",
       "      <td>0.500000</td>\n",
       "    </tr>\n",
       "    <tr>\n",
       "      <th>Logistic regression</th>\n",
       "      <td>0.860090</td>\n",
       "      <td>0.773072</td>\n",
       "    </tr>\n",
       "    <tr>\n",
       "      <th>Logistic regression with balanced class weights</th>\n",
       "      <td>0.699355</td>\n",
       "      <td>0.772789</td>\n",
       "    </tr>\n",
       "  </tbody>\n",
       "</table>\n",
       "</div>"
      ],
      "text/plain": [
       "                                                 Accuracy   ROC-AUC\n",
       "Dummy classifier                                 0.840780  0.500000\n",
       "Logistic regression                              0.860090  0.773072\n",
       "Logistic regression with balanced class weights  0.699355  0.772789"
      ]
     },
     "execution_count": 73,
     "metadata": {},
     "output_type": "execute_result"
    }
   ],
   "source": [
    "lr_clf.set_params(class_weight=\"balanced\")\n",
    "index += [\"Logistic regression with balanced class weights\"]\n",
    "cv_result = cross_validate(lr_clf, X_train, y_train, scoring=scoring)\n",
    "scores[\"Accuracy\"].append(cv_result[\"test_accuracy\"].mean())\n",
    "scores[\"ROC-AUC\"].append(cv_result['test_roc_auc'].mean())\n",
    "df_scores = pd.DataFrame(scores, index=index)\n",
    "df_scores"
   ]
  },
  {
   "cell_type": "code",
   "execution_count": null,
   "metadata": {
    "scrolled": true
   },
   "outputs": [
    {
     "data": {
      "text/html": [
       "<div>\n",
       "<style scoped>\n",
       "    .dataframe tbody tr th:only-of-type {\n",
       "        vertical-align: middle;\n",
       "    }\n",
       "\n",
       "    .dataframe tbody tr th {\n",
       "        vertical-align: top;\n",
       "    }\n",
       "\n",
       "    .dataframe thead th {\n",
       "        text-align: right;\n",
       "    }\n",
       "</style>\n",
       "<table border=\"1\" class=\"dataframe\">\n",
       "  <thead>\n",
       "    <tr style=\"text-align: right;\">\n",
       "      <th></th>\n",
       "      <th>Accuracy</th>\n",
       "      <th>ROC-AUC</th>\n",
       "    </tr>\n",
       "  </thead>\n",
       "  <tbody>\n",
       "    <tr>\n",
       "      <th>Dummy classifier</th>\n",
       "      <td>0.840780</td>\n",
       "      <td>0.500000</td>\n",
       "    </tr>\n",
       "    <tr>\n",
       "      <th>Logistic regression</th>\n",
       "      <td>0.860090</td>\n",
       "      <td>0.773072</td>\n",
       "    </tr>\n",
       "    <tr>\n",
       "      <th>Logistic regression with balanced class weights</th>\n",
       "      <td>0.699355</td>\n",
       "      <td>0.772789</td>\n",
       "    </tr>\n",
       "    <tr>\n",
       "      <th>Random forest</th>\n",
       "      <td>0.855356</td>\n",
       "      <td>0.811791</td>\n",
       "    </tr>\n",
       "  </tbody>\n",
       "</table>\n",
       "</div>"
      ],
      "text/plain": [
       "                                                 Accuracy   ROC-AUC\n",
       "Dummy classifier                                 0.840780  0.500000\n",
       "Logistic regression                              0.860090  0.773072\n",
       "Logistic regression with balanced class weights  0.699355  0.772789\n",
       "Random forest                                    0.855356  0.811791"
      ]
     },
     "execution_count": 74,
     "metadata": {},
     "output_type": "execute_result"
    }
   ],
   "source": [
    "rf_clf = RandomForestClassifier(random_state=random_state, n_jobs=2)\n",
    "index += [\"Random forest\"]\n",
    "cv_result = cross_validate(rf_clf, X_train, y_train, scoring=scoring)\n",
    "scores[\"Accuracy\"].append(cv_result[\"test_accuracy\"].mean())\n",
    "scores[\"ROC-AUC\"].append(cv_result['test_roc_auc'].mean())\n",
    "df_scores = pd.DataFrame(scores, index=index)\n",
    "df_scores"
   ]
  },
  {
   "cell_type": "code",
   "execution_count": null,
   "metadata": {},
   "outputs": [
    {
     "data": {
      "text/html": [
       "<div>\n",
       "<style scoped>\n",
       "    .dataframe tbody tr th:only-of-type {\n",
       "        vertical-align: middle;\n",
       "    }\n",
       "\n",
       "    .dataframe tbody tr th {\n",
       "        vertical-align: top;\n",
       "    }\n",
       "\n",
       "    .dataframe thead th {\n",
       "        text-align: right;\n",
       "    }\n",
       "</style>\n",
       "<table border=\"1\" class=\"dataframe\">\n",
       "  <thead>\n",
       "    <tr style=\"text-align: right;\">\n",
       "      <th></th>\n",
       "      <th>Accuracy</th>\n",
       "      <th>ROC-AUC</th>\n",
       "    </tr>\n",
       "  </thead>\n",
       "  <tbody>\n",
       "    <tr>\n",
       "      <th>Dummy classifier</th>\n",
       "      <td>0.840780</td>\n",
       "      <td>0.500000</td>\n",
       "    </tr>\n",
       "    <tr>\n",
       "      <th>Logistic regression</th>\n",
       "      <td>0.860090</td>\n",
       "      <td>0.773072</td>\n",
       "    </tr>\n",
       "    <tr>\n",
       "      <th>Logistic regression with balanced class weights</th>\n",
       "      <td>0.699355</td>\n",
       "      <td>0.772789</td>\n",
       "    </tr>\n",
       "    <tr>\n",
       "      <th>Random forest</th>\n",
       "      <td>0.855356</td>\n",
       "      <td>0.811791</td>\n",
       "    </tr>\n",
       "    <tr>\n",
       "      <th>Random forest with balanced class weights</th>\n",
       "      <td>0.853841</td>\n",
       "      <td>0.810456</td>\n",
       "    </tr>\n",
       "  </tbody>\n",
       "</table>\n",
       "</div>"
      ],
      "text/plain": [
       "                                                 Accuracy   ROC-AUC\n",
       "Dummy classifier                                 0.840780  0.500000\n",
       "Logistic regression                              0.860090  0.773072\n",
       "Logistic regression with balanced class weights  0.699355  0.772789\n",
       "Random forest                                    0.855356  0.811791\n",
       "Random forest with balanced class weights        0.853841  0.810456"
      ]
     },
     "execution_count": 75,
     "metadata": {},
     "output_type": "execute_result"
    }
   ],
   "source": [
    "rf_clf.set_params(class_weight=\"balanced\")\n",
    "index += [\"Random forest with balanced class weights\"]\n",
    "cv_result = cross_validate(rf_clf, X_train, y_train, scoring=scoring)\n",
    "scores[\"Accuracy\"].append(cv_result[\"test_accuracy\"].mean())\n",
    "scores[\"ROC-AUC\"].append(cv_result['test_roc_auc'].mean())\n",
    "df_scores = pd.DataFrame(scores, index=index)\n",
    "df_scores"
   ]
  },
  {
   "cell_type": "code",
   "execution_count": null,
   "metadata": {},
   "outputs": [
    {
     "data": {
      "text/html": [
       "<div>\n",
       "<style scoped>\n",
       "    .dataframe tbody tr th:only-of-type {\n",
       "        vertical-align: middle;\n",
       "    }\n",
       "\n",
       "    .dataframe tbody tr th {\n",
       "        vertical-align: top;\n",
       "    }\n",
       "\n",
       "    .dataframe thead th {\n",
       "        text-align: right;\n",
       "    }\n",
       "</style>\n",
       "<table border=\"1\" class=\"dataframe\">\n",
       "  <thead>\n",
       "    <tr style=\"text-align: right;\">\n",
       "      <th></th>\n",
       "      <th>Accuracy</th>\n",
       "      <th>ROC-AUC</th>\n",
       "    </tr>\n",
       "  </thead>\n",
       "  <tbody>\n",
       "    <tr>\n",
       "      <th>Dummy classifier</th>\n",
       "      <td>0.840780</td>\n",
       "      <td>0.500000</td>\n",
       "    </tr>\n",
       "    <tr>\n",
       "      <th>Logistic regression</th>\n",
       "      <td>0.860090</td>\n",
       "      <td>0.773072</td>\n",
       "    </tr>\n",
       "    <tr>\n",
       "      <th>Logistic regression with balanced class weights</th>\n",
       "      <td>0.699355</td>\n",
       "      <td>0.772789</td>\n",
       "    </tr>\n",
       "    <tr>\n",
       "      <th>Random forest</th>\n",
       "      <td>0.855356</td>\n",
       "      <td>0.811791</td>\n",
       "    </tr>\n",
       "    <tr>\n",
       "      <th>Random forest with balanced class weights</th>\n",
       "      <td>0.853841</td>\n",
       "      <td>0.810456</td>\n",
       "    </tr>\n",
       "    <tr>\n",
       "      <th>LGBM</th>\n",
       "      <td>0.886406</td>\n",
       "      <td>0.884160</td>\n",
       "    </tr>\n",
       "  </tbody>\n",
       "</table>\n",
       "</div>"
      ],
      "text/plain": [
       "                                                 Accuracy   ROC-AUC\n",
       "Dummy classifier                                 0.840780  0.500000\n",
       "Logistic regression                              0.860090  0.773072\n",
       "Logistic regression with balanced class weights  0.699355  0.772789\n",
       "Random forest                                    0.855356  0.811791\n",
       "Random forest with balanced class weights        0.853841  0.810456\n",
       "LGBM                                             0.886406  0.884160"
      ]
     },
     "execution_count": 76,
     "metadata": {},
     "output_type": "execute_result"
    }
   ],
   "source": [
    "lgbm_clf = LGBMClassifier(random_state=random_state, n_jobs=2)\n",
    "index += [\"LGBM\"]\n",
    "cv_result = cross_validate(lgbm_clf, X_train, y_train, scoring=scoring)\n",
    "scores[\"Accuracy\"].append(cv_result[\"test_accuracy\"].mean())\n",
    "scores[\"ROC-AUC\"].append(cv_result['test_roc_auc'].mean())\n",
    "df_scores = pd.DataFrame(scores, index=index)\n",
    "df_scores"
   ]
  },
  {
   "cell_type": "markdown",
   "metadata": {},
   "source": [
    "Итак проверено четыре модели (наивная, логистическая регрессия, случайный лес и LGBM), две из них были представлены со сбалансированными весами и без них. Лушие результаты по обоим метрикам дала модель LGBM, ее я и буду тестировать."
   ]
  },
  {
   "cell_type": "markdown",
   "metadata": {},
   "source": [
    "***<font color='province'>Тестирование модели:</font>***\n",
    "В этом подразделе я протестирую выбранную модель на тестовой выборке, используя GridSearchCV для подбора гиперпараметров. Затем опишу получившиеся метрики."
   ]
  },
  {
   "cell_type": "code",
   "execution_count": null,
   "metadata": {},
   "outputs": [],
   "source": [
    "score = make_scorer(roc_auc_score, greater_is_better=True)"
   ]
  },
  {
   "cell_type": "code",
   "execution_count": null,
   "metadata": {
    "scrolled": true
   },
   "outputs": [],
   "source": [
    "model = LGBMClassifier(random_state=random_state, n_jobs=2)\n",
    "parametrs = {'boosting_type': ['gbdt', 'dart', 'rf'],\n",
    "            'max_depth': range(5, 51, 5),\n",
    "            'n_estimators': range (10, 401, 10)}\n",
    "grid = GridSearchCV(model, parametrs, scoring=score)\n",
    "grid.fit(X_train, y_train)"
   ]
  },
  {
   "cell_type": "code",
   "execution_count": null,
   "metadata": {},
   "outputs": [
    {
     "data": {
      "text/plain": [
       "{'boosting_type': 'gbdt', 'max_depth': 5, 'n_estimators': 390}"
      ]
     },
     "execution_count": 79,
     "metadata": {},
     "output_type": "execute_result"
    }
   ],
   "source": [
    "grid.best_params_"
   ]
  },
  {
   "cell_type": "code",
   "execution_count": null,
   "metadata": {
    "scrolled": false
   },
   "outputs": [
    {
     "name": "stdout",
     "output_type": "stream",
     "text": [
      "AUC-ROC:  0.9\n",
      "Accuracy:  0.92\n"
     ]
    }
   ],
   "source": [
    "probs = grid.best_estimator_.predict_proba(X_test)[:, 1]\n",
    "preds = grid.best_estimator_.predict(X_test)\n",
    "print('AUC-ROC: ', roc_auc_score(y_test, probs).round(2))\n",
    "print('Accuracy: ', accuracy_score(y_test, preds).round(2))"
   ]
  },
  {
   "cell_type": "code",
   "execution_count": null,
   "metadata": {
    "scrolled": false
   },
   "outputs": [
    {
     "data": {
      "image/png": "[encoded data removed]",
      "text/plain": [
       "<Figure size 600x600 with 1 Axes>"
      ]
     },
     "metadata": {},
     "output_type": "display_data"
    }
   ],
   "source": [
    "pd.DataFrame(data={'score': grid.best_estimator_.feature_importances_}, \n",
    "                      index=X_train.columns).sort_values(by='score').plot(kind='barh', grid=True,\n",
    "                                               figsize=(6,6), legend=False);"
   ]
  },
  {
   "cell_type": "markdown",
   "metadata": {},
   "source": [
    "Для модели с большим отрывом от остальных по важности лидируют два признака: Interval и TotalCharges."
   ]
  },
  {
   "cell_type": "markdown",
   "metadata": {},
   "source": [
    "**Выводы:**\n",
    "При помощи GridSearchCV были подобраны гиперпараметры 'boosting_type': 'gbdt', 'max_depth': 10, 'n_estimators': 390.\n",
    "После проведения тестирования отобранной модели были получены метрики AUC-ROC и Accuracy равные 0.91, что удовлетворяет поставленной задаче."
   ]
  },
  {
   "cell_type": "markdown",
   "metadata": {},
   "source": [
    "<font color='province'>***Отчет по работе:***</font>\n",
    "\n",
    "  Целью данного проекта было изучение возможности предсказания оттока клиентов телекоммуникационной компании по средством использования моделей машинного обучения.\n",
    "  Random_state был зафиксирован как 50623, test_size - 0.25.\n",
    "  В ходе выполнения данного задания были выполнены все пункты, ранее описаные в плане работ(отличий нет).\n",
    "\n",
    "  Этапы работы:\n",
    "  - <font color='purple'>предварительный осмотр имеющихся данных:</font>\n",
    "    - были открыты и осмотрены четыре предоставленных датасета, данные проверены на остутствие пропусков и дубликатов. Проведен первичный анализ пока необработатнных данных(я посмотрела не распределение имеющихся численных признаков, сделала некоторые предварительные выводы о закономерностях в данных(группировка всех датасетов по идентификационному номеру пользователя, набросок портрета основного пользователя услуг компании, набросок проиритетов пользователей в пользовании интернет услуг, предлагаемых компанией), обратила внимание на столбец с окончанием срока действия договора, в котором в большинстве строк этот срок отсутствует).\n",
    "  - <font color='purple'>предобработка и исследовательский анализ данных:</font>\n",
    "    мною сначала были изучены данные, в необходимых случаях изменены типы данных каждого отдельного датасета, затем все датасеты были объединены в один общий датасет(по имеющимуся общему признаку - идентификационному номеру клиента) и уже в нем был проведен анализ взаимосвязей между всеми признаками и были отобраны признаки для обучения модели МО:\n",
    "      - датасет Contract:\n",
    "        - Был выявлен целевой признак, содержащийся в графе EndDate(окончание срока действия договора обслуживания),  т.е. клиенты, имеющие дату в этой колонке, являются отказавшимися от услуг компании и также являются основным предметом данного исследования. В свою очередь клиенты, не имеющие даты в этом столбце, продолжают пользоваться услугами компании и, значение 'No' в их данных было изменено на дату выгрузки датасета 01.02.2020.\n",
    "        - Тип данных столбцов с началом и концом срока обслуживания был приведен к timedate.\n",
    "        - На основе этих двух колонок был создан новый признак - Interval(timedelta) - это интервал времени пользования услугами компании для каждого клиента и приведен к численному типу.\n",
    "        - Были визуализированы все три признака, характеризующие временные данные, был выявлен явный дисбаланс целевого признака(большинство(отношение 4 к 1) клиентов продолжают пользоваться услугами компании).\n",
    "        - Были найдены пустые строки в строковой колонке с итоговыми тратами клиента(TotalCharges), они были заполнены нулями и тип данных приведен к численному.\n",
    "        - Было выявлено, что итоговые и месячные траты распределяются у ушедших и оставшихся пользователей по-разному: медианные значения у оставшихся пользователей значительно ниже(в случае итоговых трат практически в два раза), возможно это повлияло на уход целевой группы.\n",
    "      - датасет Personal:\n",
    "        - был составлен портрет типичного пользователя услуг компании(молодые, холостые люди обоих гендеров без иждивенцев). Меньше всего пользуются услугами - пенсионеры обоих гендеров, с наличием иждивенцев.\n",
    "      - датасет Internet:\n",
    "        - были выявлены предпочтения клиентов в пользовании интернет услуг, предоставляемых компанией - большинство пользуется интернет сервисом - Fiber optic, без подключения любых дополнительных опций. Было также замечено, что сервис Fiber optic\tявно лидирует, а из дополнительных опций пользователи в основном пользуются StreamingTV\tи StreamingMovies. Что интересно пользователи DSL гораздо чаще пользуются услугами Тех.поддержки.\n",
    "    - Было произведено объединение все датасетов в итоговый(так как не все клиенты пользуются интернетом или телефоном, пропуски в их строковых данных были заполнены как 'No').\n",
    "    - Сгенерирован  бинарный столбец с целевым признаком Target на основе столбца EndDate(где 1 - если клиент ушел и его дата окончания договора не равна дате выгрузки датасета и 0 - в другом случае).\n",
    "    - Удалены признаки не несущие информации(Id) и обладающие мультиколинеарностью с целевым (BeginDate, EndDate).\n",
    "    - При помощи библиотеки phik были изучены коэффициенты взаимосвязей признаков внутри итогового датасета, после этого удален столбец Gender(практически не имеющий корреляции ни с одним из признаков) и столбец MonthlyCharges(обладающий мультиколинеарностью со всеми признаками, относящимися к интернет услугам).\n",
    "  - <font color='purple'>Подготовка данных к обучению модели МО:</font>\n",
    "    - Выборка данных была разделена на обучающую и тестовую части.\n",
    "    - Категориальные признаки были закодированы при помощи OHE, а количественные масштабированы при помощи StandartScaler(обучение производилось на только обучающей выборке, трансформация на обеих).\n",
    "  - <font color='purple'>Выбор модели МО:</font>\n",
    "    - Признаки, участвующие в обучении и отборе моделей: 'Type_One year', 'Type_Two year', 'PaperlessBilling_Yes',\n",
    "       'PaymentMethod_Credit card (automatic)',\n",
    "       'PaymentMethod_Electronic check', 'PaymentMethod_Mailed check',\n",
    "       'SeniorCitizen_1', 'Partner_Yes', 'Dependents_Yes',\n",
    "       'InternetService_Fiber optic', 'InternetService_No',\n",
    "       'OnlineSecurity_Yes', 'OnlineBackup_Yes', 'DeviceProtection_Yes',\n",
    "       'TechSupport_Yes', 'StreamingTV_Yes', 'StreamingMovies_Yes',\n",
    "       'MultipleLines_Yes', 'TotalCharges', 'Interval'\n",
    "        и целевой признак - 'Target'\n",
    "    - посредством кросс_валидации и анализируя метрики AUC-ROC и Accuracy была отобраны лучшая модель для тестирования.\n",
    "    - в процессе проверялись такие модели как: наивная, логистическая регрессия, случайный лес и LGBM, две из них (логистическая регрессия и случайный лес)были представлены со сбалансированными весами и без них.\n",
    "    - лучшие показатели метрик(а именно AUC-ROC - 0.88, Accuracy - 0.88) показала модель LGBM, которая и была отобрана для финального тестирования.\n",
    "  - <font color='purple'>Тестирование модели:</font>\n",
    "    - Используя GridSearchCV были перебраны гиперпараметры, scoring при помощи функции make-scorer был установлен на максимизацию искомой метрики AUC-ROC.\n",
    "    - Лучшими гиперпараметрами для данной модели стали: 'boosting_type': 'gbdt', 'max_depth': 5, 'n_estimators': 390.\n",
    "    - После проведения тестирования отобранная модель показала следующие результаты:\n",
    "      - AUC-ROC - 0.9\n",
    "      - Accuracy - 0.92\n",
    "    - Была визуализирована важность признаков для работы данной модели МО: важнейшими признаками(причем со значительным отрывом от остальных) стали Interval и TotalCharges(то есть большим влиянием на отток клиентов обладают продолжительность пользования услугами компании(или клиентская лояльность) и сумма итоговых трат клиента(что подтверждает выводы, сделанные в исследовательском анализе.))"
   ]
  },
  {
   "cell_type": "code",
   "execution_count": null,
   "metadata": {},
   "outputs": [],
   "source": []
  }
 ],
 "metadata": {
  "ExecuteTimeLog": [
   {
    "duration": 1307,
    "start_time": "2023-06-06T12:18:06.154Z"
   },
   {
    "duration": 49972,
    "start_time": "2023-06-06T12:18:07.463Z"
   },
   {
    "duration": 93,
    "start_time": "2023-06-06T12:18:57.437Z"
   },
   {
    "duration": 14,
    "start_time": "2023-06-06T12:18:57.532Z"
   },
   {
    "duration": 15,
    "start_time": "2023-06-06T12:18:57.548Z"
   },
   {
    "duration": 13,
    "start_time": "2023-06-06T12:18:57.565Z"
   },
   {
    "duration": 117,
    "start_time": "2023-06-06T12:18:57.580Z"
   },
   {
    "duration": 10,
    "start_time": "2023-06-06T12:18:57.698Z"
   },
   {
    "duration": 12,
    "start_time": "2023-06-06T12:18:57.710Z"
   },
   {
    "duration": 5,
    "start_time": "2023-06-06T12:18:57.723Z"
   },
   {
    "duration": 5,
    "start_time": "2023-06-06T12:18:57.731Z"
   },
   {
    "duration": 121,
    "start_time": "2023-06-06T12:18:57.737Z"
   },
   {
    "duration": 12,
    "start_time": "2023-06-06T12:18:57.860Z"
   },
   {
    "duration": 10,
    "start_time": "2023-06-06T12:18:57.874Z"
   },
   {
    "duration": 9,
    "start_time": "2023-06-06T12:18:57.885Z"
   },
   {
    "duration": 18,
    "start_time": "2023-06-06T12:18:57.895Z"
   },
   {
    "duration": 50,
    "start_time": "2023-06-06T12:18:57.914Z"
   },
   {
    "duration": 13,
    "start_time": "2023-06-06T12:18:57.965Z"
   },
   {
    "duration": 11,
    "start_time": "2023-06-06T12:18:57.980Z"
   },
   {
    "duration": 10,
    "start_time": "2023-06-06T12:18:57.993Z"
   },
   {
    "duration": 8,
    "start_time": "2023-06-06T12:18:58.005Z"
   },
   {
    "duration": 26,
    "start_time": "2023-06-06T12:18:58.015Z"
   },
   {
    "duration": 100,
    "start_time": "2023-06-06T12:18:58.043Z"
   },
   {
    "duration": 9,
    "start_time": "2023-06-06T12:18:58.145Z"
   },
   {
    "duration": 10,
    "start_time": "2023-06-06T12:18:58.156Z"
   },
   {
    "duration": 10,
    "start_time": "2023-06-06T12:18:58.168Z"
   },
   {
    "duration": 13,
    "start_time": "2023-06-06T12:18:58.180Z"
   },
   {
    "duration": 3485,
    "start_time": "2023-06-08T18:50:22.661Z"
   },
   {
    "duration": 2604,
    "start_time": "2023-06-08T18:50:26.149Z"
   },
   {
    "duration": 3,
    "start_time": "2023-06-08T18:50:28.755Z"
   },
   {
    "duration": 84507,
    "start_time": "2023-06-08T18:50:28.760Z"
   },
   {
    "duration": 215,
    "start_time": "2023-06-08T18:51:53.270Z"
   },
   {
    "duration": 16,
    "start_time": "2023-06-08T18:51:53.486Z"
   },
   {
    "duration": 23,
    "start_time": "2023-06-08T18:51:53.504Z"
   },
   {
    "duration": 19,
    "start_time": "2023-06-08T18:51:53.529Z"
   },
   {
    "duration": 116,
    "start_time": "2023-06-08T18:51:53.550Z"
   },
   {
    "duration": 10,
    "start_time": "2023-06-08T18:51:53.677Z"
   },
   {
    "duration": 12,
    "start_time": "2023-06-08T18:51:53.689Z"
   },
   {
    "duration": 7,
    "start_time": "2023-06-08T18:51:53.703Z"
   },
   {
    "duration": 6,
    "start_time": "2023-06-08T18:51:53.717Z"
   },
   {
    "duration": 175,
    "start_time": "2023-06-08T18:51:53.725Z"
   },
   {
    "duration": 16,
    "start_time": "2023-06-08T18:51:53.902Z"
   },
   {
    "duration": 17,
    "start_time": "2023-06-08T18:51:53.920Z"
   },
   {
    "duration": 11,
    "start_time": "2023-06-08T18:51:53.940Z"
   },
   {
    "duration": 26,
    "start_time": "2023-06-08T18:51:53.953Z"
   },
   {
    "duration": 141,
    "start_time": "2023-06-08T18:51:53.981Z"
   },
   {
    "duration": 17,
    "start_time": "2023-06-08T18:51:54.124Z"
   },
   {
    "duration": 15,
    "start_time": "2023-06-08T18:51:54.143Z"
   },
   {
    "duration": 10,
    "start_time": "2023-06-08T18:51:54.160Z"
   },
   {
    "duration": 7,
    "start_time": "2023-06-08T18:51:54.171Z"
   },
   {
    "duration": 33,
    "start_time": "2023-06-08T18:51:54.180Z"
   },
   {
    "duration": 187,
    "start_time": "2023-06-08T18:51:54.215Z"
   },
   {
    "duration": 13,
    "start_time": "2023-06-08T18:51:54.404Z"
   },
   {
    "duration": 25,
    "start_time": "2023-06-08T18:51:54.419Z"
   },
   {
    "duration": 16,
    "start_time": "2023-06-08T18:51:54.449Z"
   },
   {
    "duration": 12,
    "start_time": "2023-06-08T18:51:54.468Z"
   },
   {
    "duration": 23,
    "start_time": "2023-06-08T18:51:54.482Z"
   },
   {
    "duration": 77,
    "start_time": "2023-06-08T18:51:54.506Z"
   },
   {
    "duration": 657,
    "start_time": "2023-06-08T18:51:54.585Z"
   },
   {
    "duration": 0,
    "start_time": "2023-06-08T18:51:55.244Z"
   },
   {
    "duration": 0,
    "start_time": "2023-06-08T18:51:55.246Z"
   },
   {
    "duration": 0,
    "start_time": "2023-06-08T18:51:55.248Z"
   },
   {
    "duration": 0,
    "start_time": "2023-06-08T18:51:55.249Z"
   },
   {
    "duration": 0,
    "start_time": "2023-06-08T18:51:55.251Z"
   },
   {
    "duration": 0,
    "start_time": "2023-06-08T18:51:55.252Z"
   },
   {
    "duration": 0,
    "start_time": "2023-06-08T18:51:55.254Z"
   },
   {
    "duration": 0,
    "start_time": "2023-06-08T18:51:55.255Z"
   },
   {
    "duration": 0,
    "start_time": "2023-06-08T18:51:55.277Z"
   },
   {
    "duration": 0,
    "start_time": "2023-06-08T18:51:55.278Z"
   },
   {
    "duration": 0,
    "start_time": "2023-06-08T18:51:55.279Z"
   },
   {
    "duration": 0,
    "start_time": "2023-06-08T18:51:55.281Z"
   },
   {
    "duration": 0,
    "start_time": "2023-06-08T18:51:55.282Z"
   },
   {
    "duration": 0,
    "start_time": "2023-06-08T18:51:55.284Z"
   },
   {
    "duration": 0,
    "start_time": "2023-06-08T18:51:55.285Z"
   },
   {
    "duration": 0,
    "start_time": "2023-06-08T18:51:55.286Z"
   },
   {
    "duration": 0,
    "start_time": "2023-06-08T18:51:55.288Z"
   },
   {
    "duration": 0,
    "start_time": "2023-06-08T18:51:55.289Z"
   },
   {
    "duration": 0,
    "start_time": "2023-06-08T18:51:55.290Z"
   },
   {
    "duration": 0,
    "start_time": "2023-06-08T18:51:55.291Z"
   },
   {
    "duration": 0,
    "start_time": "2023-06-08T18:51:55.292Z"
   },
   {
    "duration": 0,
    "start_time": "2023-06-08T18:51:55.293Z"
   },
   {
    "duration": 0,
    "start_time": "2023-06-08T18:51:55.295Z"
   },
   {
    "duration": 0,
    "start_time": "2023-06-08T18:51:55.296Z"
   },
   {
    "duration": 0,
    "start_time": "2023-06-08T18:51:55.298Z"
   },
   {
    "duration": 0,
    "start_time": "2023-06-08T18:51:55.299Z"
   },
   {
    "duration": 0,
    "start_time": "2023-06-08T18:51:55.300Z"
   },
   {
    "duration": 0,
    "start_time": "2023-06-08T18:51:55.302Z"
   },
   {
    "duration": 0,
    "start_time": "2023-06-08T18:51:55.303Z"
   },
   {
    "duration": 0,
    "start_time": "2023-06-08T18:51:55.304Z"
   },
   {
    "duration": 0,
    "start_time": "2023-06-08T18:51:55.305Z"
   },
   {
    "duration": 0,
    "start_time": "2023-06-08T18:51:55.307Z"
   },
   {
    "duration": 0,
    "start_time": "2023-06-08T18:51:55.308Z"
   },
   {
    "duration": 0,
    "start_time": "2023-06-08T18:51:55.310Z"
   },
   {
    "duration": 0,
    "start_time": "2023-06-08T18:51:55.310Z"
   },
   {
    "duration": 0,
    "start_time": "2023-06-08T18:51:55.311Z"
   },
   {
    "duration": 0,
    "start_time": "2023-06-08T18:51:55.376Z"
   },
   {
    "duration": 0,
    "start_time": "2023-06-08T18:51:55.378Z"
   },
   {
    "duration": 0,
    "start_time": "2023-06-08T18:51:55.380Z"
   },
   {
    "duration": 23,
    "start_time": "2023-06-08T18:55:02.434Z"
   },
   {
    "duration": 10,
    "start_time": "2023-06-08T18:55:03.538Z"
   },
   {
    "duration": 121,
    "start_time": "2023-06-08T18:55:04.113Z"
   },
   {
    "duration": 1711,
    "start_time": "2023-06-08T18:55:15.059Z"
   },
   {
    "duration": 6,
    "start_time": "2023-06-08T18:55:18.051Z"
   },
   {
    "duration": 379,
    "start_time": "2023-06-08T18:55:18.818Z"
   },
   {
    "duration": 12,
    "start_time": "2023-06-08T18:55:21.182Z"
   },
   {
    "duration": 375,
    "start_time": "2023-06-08T18:55:22.043Z"
   },
   {
    "duration": 14,
    "start_time": "2023-06-08T18:55:24.417Z"
   },
   {
    "duration": 10,
    "start_time": "2023-06-08T18:55:25.097Z"
   },
   {
    "duration": 20,
    "start_time": "2023-06-08T18:55:25.506Z"
   },
   {
    "duration": 26,
    "start_time": "2023-06-08T18:55:26.046Z"
   },
   {
    "duration": 34,
    "start_time": "2023-06-08T18:55:26.362Z"
   },
   {
    "duration": 5,
    "start_time": "2023-06-08T18:55:26.505Z"
   },
   {
    "duration": 90,
    "start_time": "2023-06-08T18:55:26.857Z"
   },
   {
    "duration": 5,
    "start_time": "2023-06-08T18:59:31.928Z"
   },
   {
    "duration": 8,
    "start_time": "2023-06-08T18:59:32.566Z"
   },
   {
    "duration": 1123,
    "start_time": "2023-06-08T18:59:52.814Z"
   },
   {
    "duration": 1195,
    "start_time": "2023-06-08T19:00:01.663Z"
   },
   {
    "duration": 9,
    "start_time": "2023-06-08T19:00:06.921Z"
   },
   {
    "duration": 9,
    "start_time": "2023-06-08T19:00:54.596Z"
   },
   {
    "duration": 3,
    "start_time": "2023-06-08T19:00:55.805Z"
   },
   {
    "duration": 9,
    "start_time": "2023-06-08T19:01:03.271Z"
   },
   {
    "duration": 13,
    "start_time": "2023-06-08T19:01:44.620Z"
   },
   {
    "duration": 3160,
    "start_time": "2023-06-08T19:02:12.708Z"
   },
   {
    "duration": 10,
    "start_time": "2023-06-08T19:02:32.905Z"
   },
   {
    "duration": 3,
    "start_time": "2023-06-08T19:02:33.205Z"
   },
   {
    "duration": 6,
    "start_time": "2023-06-08T19:02:33.925Z"
   },
   {
    "duration": 18,
    "start_time": "2023-06-08T19:02:34.235Z"
   },
   {
    "duration": 9,
    "start_time": "2023-06-08T19:02:35.252Z"
   },
   {
    "duration": 3258,
    "start_time": "2023-06-08T19:18:51.347Z"
   },
   {
    "duration": 1799,
    "start_time": "2023-06-08T19:18:54.608Z"
   },
   {
    "duration": 2,
    "start_time": "2023-06-08T19:18:56.409Z"
   },
   {
    "duration": 18934,
    "start_time": "2023-06-08T19:18:56.413Z"
   },
   {
    "duration": 60,
    "start_time": "2023-06-08T19:19:15.349Z"
   },
   {
    "duration": 34,
    "start_time": "2023-06-08T19:19:15.410Z"
   },
   {
    "duration": 32,
    "start_time": "2023-06-08T19:19:15.446Z"
   },
   {
    "duration": 28,
    "start_time": "2023-06-08T19:19:15.479Z"
   },
   {
    "duration": 134,
    "start_time": "2023-06-08T19:19:15.509Z"
   },
   {
    "duration": 14,
    "start_time": "2023-06-08T19:19:15.651Z"
   },
   {
    "duration": 26,
    "start_time": "2023-06-08T19:19:15.667Z"
   },
   {
    "duration": 58,
    "start_time": "2023-06-08T19:19:15.695Z"
   },
   {
    "duration": 19,
    "start_time": "2023-06-08T19:19:15.754Z"
   },
   {
    "duration": 132,
    "start_time": "2023-06-08T19:19:15.775Z"
   },
   {
    "duration": 22,
    "start_time": "2023-06-08T19:19:15.909Z"
   },
   {
    "duration": 36,
    "start_time": "2023-06-08T19:19:15.944Z"
   },
   {
    "duration": 43,
    "start_time": "2023-06-08T19:19:15.982Z"
   },
   {
    "duration": 40,
    "start_time": "2023-06-08T19:19:16.026Z"
   },
   {
    "duration": 114,
    "start_time": "2023-06-08T19:19:16.068Z"
   },
   {
    "duration": 10,
    "start_time": "2023-06-08T19:19:16.184Z"
   },
   {
    "duration": 25,
    "start_time": "2023-06-08T19:19:16.196Z"
   },
   {
    "duration": 25,
    "start_time": "2023-06-08T19:19:16.228Z"
   },
   {
    "duration": 11,
    "start_time": "2023-06-08T19:19:16.254Z"
   },
   {
    "duration": 39,
    "start_time": "2023-06-08T19:19:16.266Z"
   },
   {
    "duration": 74,
    "start_time": "2023-06-08T19:19:16.308Z"
   },
   {
    "duration": 10,
    "start_time": "2023-06-08T19:19:16.384Z"
   },
   {
    "duration": 53,
    "start_time": "2023-06-08T19:19:16.396Z"
   },
   {
    "duration": 20,
    "start_time": "2023-06-08T19:19:16.453Z"
   },
   {
    "duration": 66,
    "start_time": "2023-06-08T19:19:16.475Z"
   },
   {
    "duration": 29,
    "start_time": "2023-06-08T19:19:16.542Z"
   },
   {
    "duration": 76,
    "start_time": "2023-06-08T19:19:16.573Z"
   },
   {
    "duration": 827,
    "start_time": "2023-06-08T19:19:16.651Z"
   },
   {
    "duration": 14,
    "start_time": "2023-06-08T19:19:17.482Z"
   },
   {
    "duration": 27,
    "start_time": "2023-06-08T19:19:17.497Z"
   },
   {
    "duration": 135,
    "start_time": "2023-06-08T19:19:17.525Z"
   },
   {
    "duration": 1550,
    "start_time": "2023-06-08T19:19:17.662Z"
   },
   {
    "duration": 21,
    "start_time": "2023-06-08T19:19:19.214Z"
   },
   {
    "duration": 734,
    "start_time": "2023-06-08T19:19:19.236Z"
   },
   {
    "duration": 9,
    "start_time": "2023-06-08T19:19:19.972Z"
   },
   {
    "duration": 367,
    "start_time": "2023-06-08T19:19:19.983Z"
   },
   {
    "duration": 20,
    "start_time": "2023-06-08T19:19:20.351Z"
   },
   {
    "duration": 16,
    "start_time": "2023-06-08T19:19:20.374Z"
   },
   {
    "duration": 96,
    "start_time": "2023-06-08T19:19:20.391Z"
   },
   {
    "duration": 52,
    "start_time": "2023-06-08T19:19:20.489Z"
   },
   {
    "duration": 18,
    "start_time": "2023-06-08T19:19:20.544Z"
   },
   {
    "duration": 4,
    "start_time": "2023-06-08T19:19:20.563Z"
   },
   {
    "duration": 105,
    "start_time": "2023-06-08T19:19:20.568Z"
   },
   {
    "duration": 5,
    "start_time": "2023-06-08T19:19:20.675Z"
   },
   {
    "duration": 52,
    "start_time": "2023-06-08T19:19:20.681Z"
   },
   {
    "duration": 1049,
    "start_time": "2023-06-08T19:19:20.738Z"
   },
   {
    "duration": 1068,
    "start_time": "2023-06-08T19:19:21.789Z"
   },
   {
    "duration": 10,
    "start_time": "2023-06-08T19:19:22.859Z"
   },
   {
    "duration": 16,
    "start_time": "2023-06-08T19:19:22.871Z"
   },
   {
    "duration": 8,
    "start_time": "2023-06-08T19:19:22.889Z"
   },
   {
    "duration": 64,
    "start_time": "2023-06-08T19:19:22.899Z"
   },
   {
    "duration": 9,
    "start_time": "2023-06-08T19:19:22.965Z"
   },
   {
    "duration": 7,
    "start_time": "2023-06-08T19:19:22.976Z"
   },
   {
    "duration": 164,
    "start_time": "2023-06-08T19:19:22.985Z"
   },
   {
    "duration": 0,
    "start_time": "2023-06-08T19:19:23.151Z"
   },
   {
    "duration": 0,
    "start_time": "2023-06-08T19:19:23.151Z"
   },
   {
    "duration": 0,
    "start_time": "2023-06-08T19:19:23.152Z"
   },
   {
    "duration": 0,
    "start_time": "2023-06-08T19:19:23.152Z"
   },
   {
    "duration": 0,
    "start_time": "2023-06-08T19:19:23.154Z"
   },
   {
    "duration": 0,
    "start_time": "2023-06-08T19:19:23.157Z"
   },
   {
    "duration": 0,
    "start_time": "2023-06-08T19:19:23.158Z"
   },
   {
    "duration": 0,
    "start_time": "2023-06-08T19:19:23.159Z"
   },
   {
    "duration": 0,
    "start_time": "2023-06-08T19:19:23.161Z"
   },
   {
    "duration": 0,
    "start_time": "2023-06-08T19:19:23.162Z"
   },
   {
    "duration": 0,
    "start_time": "2023-06-08T19:19:23.164Z"
   },
   {
    "duration": 0,
    "start_time": "2023-06-08T19:19:23.165Z"
   },
   {
    "duration": 0,
    "start_time": "2023-06-08T19:19:23.167Z"
   },
   {
    "duration": 0,
    "start_time": "2023-06-08T19:19:23.168Z"
   },
   {
    "duration": 0,
    "start_time": "2023-06-08T19:19:23.169Z"
   },
   {
    "duration": 6,
    "start_time": "2023-06-08T19:21:04.538Z"
   },
   {
    "duration": 10,
    "start_time": "2023-06-08T19:21:09.441Z"
   },
   {
    "duration": 7,
    "start_time": "2023-06-08T19:21:46.614Z"
   },
   {
    "duration": 5,
    "start_time": "2023-06-08T19:21:49.263Z"
   },
   {
    "duration": 7,
    "start_time": "2023-06-08T19:21:50.969Z"
   },
   {
    "duration": 10,
    "start_time": "2023-06-08T19:21:53.267Z"
   },
   {
    "duration": 13,
    "start_time": "2023-06-08T19:22:08.352Z"
   },
   {
    "duration": 3,
    "start_time": "2023-06-08T19:22:14.407Z"
   },
   {
    "duration": 47,
    "start_time": "2023-06-08T19:22:18.612Z"
   },
   {
    "duration": 53,
    "start_time": "2023-06-08T19:22:37.196Z"
   },
   {
    "duration": 11,
    "start_time": "2023-06-08T19:22:48.195Z"
   },
   {
    "duration": 6,
    "start_time": "2023-06-08T19:22:48.897Z"
   },
   {
    "duration": 7,
    "start_time": "2023-06-08T19:22:49.656Z"
   },
   {
    "duration": 2,
    "start_time": "2023-06-08T19:22:53.196Z"
   },
   {
    "duration": 45,
    "start_time": "2023-06-08T19:22:54.497Z"
   },
   {
    "duration": 37590,
    "start_time": "2023-06-08T19:22:55.550Z"
   },
   {
    "duration": 21987,
    "start_time": "2023-06-08T19:23:33.147Z"
   },
   {
    "duration": 6241,
    "start_time": "2023-06-08T19:23:55.140Z"
   },
   {
    "duration": 5493,
    "start_time": "2023-06-08T19:24:01.384Z"
   },
   {
    "duration": 1378,
    "start_time": "2023-06-08T19:24:06.879Z"
   },
   {
    "duration": 3,
    "start_time": "2023-06-08T19:24:08.263Z"
   },
   {
    "duration": 2487,
    "start_time": "2023-06-08T19:34:25.393Z"
   },
   {
    "duration": 1506,
    "start_time": "2023-06-08T19:34:27.885Z"
   },
   {
    "duration": 2,
    "start_time": "2023-06-08T19:34:29.393Z"
   },
   {
    "duration": 7905,
    "start_time": "2023-06-08T19:34:29.397Z"
   },
   {
    "duration": 169,
    "start_time": "2023-06-08T19:34:37.303Z"
   },
   {
    "duration": 13,
    "start_time": "2023-06-08T19:34:37.474Z"
   },
   {
    "duration": 17,
    "start_time": "2023-06-08T19:34:37.488Z"
   },
   {
    "duration": 31,
    "start_time": "2023-06-08T19:34:37.507Z"
   },
   {
    "duration": 316,
    "start_time": "2023-06-08T19:34:37.539Z"
   },
   {
    "duration": 13,
    "start_time": "2023-06-08T19:34:37.859Z"
   },
   {
    "duration": 31,
    "start_time": "2023-06-08T19:34:37.874Z"
   },
   {
    "duration": 49,
    "start_time": "2023-06-08T19:34:37.907Z"
   },
   {
    "duration": 17,
    "start_time": "2023-06-08T19:34:37.958Z"
   },
   {
    "duration": 129,
    "start_time": "2023-06-08T19:34:37.977Z"
   },
   {
    "duration": 25,
    "start_time": "2023-06-08T19:34:38.108Z"
   },
   {
    "duration": 45,
    "start_time": "2023-06-08T19:34:38.134Z"
   },
   {
    "duration": 10,
    "start_time": "2023-06-08T19:34:38.181Z"
   },
   {
    "duration": 19,
    "start_time": "2023-06-08T19:34:38.193Z"
   },
   {
    "duration": 74,
    "start_time": "2023-06-08T19:34:38.214Z"
   },
   {
    "duration": 9,
    "start_time": "2023-06-08T19:34:38.290Z"
   },
   {
    "duration": 11,
    "start_time": "2023-06-08T19:34:38.301Z"
   },
   {
    "duration": 53,
    "start_time": "2023-06-08T19:34:38.314Z"
   },
   {
    "duration": 6,
    "start_time": "2023-06-08T19:34:38.370Z"
   },
   {
    "duration": 23,
    "start_time": "2023-06-08T19:34:38.377Z"
   },
   {
    "duration": 68,
    "start_time": "2023-06-08T19:34:38.401Z"
   },
   {
    "duration": 13,
    "start_time": "2023-06-08T19:34:38.470Z"
   },
   {
    "duration": 14,
    "start_time": "2023-06-08T19:34:38.485Z"
   },
   {
    "duration": 8,
    "start_time": "2023-06-08T19:34:38.505Z"
   },
   {
    "duration": 34,
    "start_time": "2023-06-08T19:34:38.525Z"
   },
   {
    "duration": 14,
    "start_time": "2023-06-08T19:34:38.560Z"
   },
   {
    "duration": 62,
    "start_time": "2023-06-08T19:34:38.575Z"
   },
   {
    "duration": 1091,
    "start_time": "2023-06-08T19:34:38.638Z"
   },
   {
    "duration": 22,
    "start_time": "2023-06-08T19:34:39.730Z"
   },
   {
    "duration": 22,
    "start_time": "2023-06-08T19:34:39.753Z"
   },
   {
    "duration": 306,
    "start_time": "2023-06-08T19:34:39.776Z"
   },
   {
    "duration": 1389,
    "start_time": "2023-06-08T19:34:40.083Z"
   },
   {
    "duration": 6,
    "start_time": "2023-06-08T19:34:41.474Z"
   },
   {
    "duration": 389,
    "start_time": "2023-06-08T19:34:41.481Z"
   },
   {
    "duration": 10,
    "start_time": "2023-06-08T19:34:41.872Z"
   },
   {
    "duration": 394,
    "start_time": "2023-06-08T19:34:41.884Z"
   },
   {
    "duration": 16,
    "start_time": "2023-06-08T19:34:42.280Z"
   },
   {
    "duration": 36,
    "start_time": "2023-06-08T19:34:42.297Z"
   },
   {
    "duration": 46,
    "start_time": "2023-06-08T19:34:42.334Z"
   },
   {
    "duration": 25,
    "start_time": "2023-06-08T19:34:42.381Z"
   },
   {
    "duration": 38,
    "start_time": "2023-06-08T19:34:42.407Z"
   },
   {
    "duration": 8,
    "start_time": "2023-06-08T19:34:42.448Z"
   },
   {
    "duration": 212,
    "start_time": "2023-06-08T19:34:42.458Z"
   },
   {
    "duration": 5,
    "start_time": "2023-06-08T19:34:42.671Z"
   },
   {
    "duration": 8,
    "start_time": "2023-06-08T19:34:42.677Z"
   },
   {
    "duration": 989,
    "start_time": "2023-06-08T19:34:42.687Z"
   },
   {
    "duration": 948,
    "start_time": "2023-06-08T19:34:43.677Z"
   },
   {
    "duration": 13,
    "start_time": "2023-06-08T19:34:44.626Z"
   },
   {
    "duration": 17,
    "start_time": "2023-06-08T19:34:44.640Z"
   },
   {
    "duration": 6,
    "start_time": "2023-06-08T19:34:44.658Z"
   },
   {
    "duration": 6,
    "start_time": "2023-06-08T19:34:44.666Z"
   },
   {
    "duration": 5,
    "start_time": "2023-06-08T19:34:44.673Z"
   },
   {
    "duration": 9,
    "start_time": "2023-06-08T19:34:44.679Z"
   },
   {
    "duration": 12,
    "start_time": "2023-06-08T19:34:44.690Z"
   },
   {
    "duration": 151,
    "start_time": "2023-06-08T19:34:44.703Z"
   },
   {
    "duration": 0,
    "start_time": "2023-06-08T19:34:44.855Z"
   },
   {
    "duration": 0,
    "start_time": "2023-06-08T19:34:44.856Z"
   },
   {
    "duration": 0,
    "start_time": "2023-06-08T19:34:44.857Z"
   },
   {
    "duration": 0,
    "start_time": "2023-06-08T19:34:44.858Z"
   },
   {
    "duration": 0,
    "start_time": "2023-06-08T19:34:44.859Z"
   },
   {
    "duration": 0,
    "start_time": "2023-06-08T19:34:44.861Z"
   },
   {
    "duration": 0,
    "start_time": "2023-06-08T19:34:44.862Z"
   },
   {
    "duration": 0,
    "start_time": "2023-06-08T19:34:44.864Z"
   },
   {
    "duration": 0,
    "start_time": "2023-06-08T19:34:44.865Z"
   },
   {
    "duration": 0,
    "start_time": "2023-06-08T19:34:44.866Z"
   },
   {
    "duration": 0,
    "start_time": "2023-06-08T19:34:44.867Z"
   },
   {
    "duration": 0,
    "start_time": "2023-06-08T19:34:44.868Z"
   },
   {
    "duration": 0,
    "start_time": "2023-06-08T19:34:44.869Z"
   },
   {
    "duration": 0,
    "start_time": "2023-06-08T19:34:44.870Z"
   },
   {
    "duration": 20,
    "start_time": "2023-06-08T19:35:07.217Z"
   },
   {
    "duration": 3,
    "start_time": "2023-06-08T19:36:06.770Z"
   },
   {
    "duration": 24,
    "start_time": "2023-06-08T19:36:08.649Z"
   },
   {
    "duration": 13,
    "start_time": "2023-06-08T19:36:09.262Z"
   },
   {
    "duration": 6,
    "start_time": "2023-06-08T19:36:10.160Z"
   },
   {
    "duration": 7,
    "start_time": "2023-06-08T19:36:12.859Z"
   },
   {
    "duration": 7,
    "start_time": "2023-06-08T19:36:15.646Z"
   },
   {
    "duration": 49,
    "start_time": "2023-06-08T19:36:16.388Z"
   },
   {
    "duration": 21801,
    "start_time": "2023-06-08T19:36:18.162Z"
   },
   {
    "duration": 21389,
    "start_time": "2023-06-08T19:36:39.964Z"
   },
   {
    "duration": 4933,
    "start_time": "2023-06-08T19:37:01.366Z"
   },
   {
    "duration": 3175,
    "start_time": "2023-06-08T19:37:13.314Z"
   },
   {
    "duration": 1174,
    "start_time": "2023-06-08T19:37:16.491Z"
   },
   {
    "duration": 13,
    "start_time": "2023-06-08T19:37:21.615Z"
   },
   {
    "duration": 3363085,
    "start_time": "2023-06-08T19:37:25.453Z"
   },
   {
    "duration": 107,
    "start_time": "2023-06-08T20:33:28.540Z"
   },
   {
    "duration": 556,
    "start_time": "2023-06-08T20:36:39.606Z"
   },
   {
    "duration": 577,
    "start_time": "2023-06-08T20:38:07.293Z"
   },
   {
    "duration": 561,
    "start_time": "2023-06-08T20:41:17.057Z"
   },
   {
    "duration": 105,
    "start_time": "2023-06-08T20:43:33.175Z"
   },
   {
    "duration": 2314,
    "start_time": "2023-06-08T20:43:43.593Z"
   },
   {
    "duration": 664,
    "start_time": "2023-06-08T20:45:50.811Z"
   },
   {
    "duration": 2243,
    "start_time": "2023-06-08T20:46:19.959Z"
   },
   {
    "duration": 5,
    "start_time": "2023-06-08T20:46:22.204Z"
   },
   {
    "duration": 2,
    "start_time": "2023-06-08T20:46:23.177Z"
   },
   {
    "duration": 8264,
    "start_time": "2023-06-08T20:46:26.659Z"
   },
   {
    "duration": 144,
    "start_time": "2023-06-08T20:46:34.925Z"
   },
   {
    "duration": 13,
    "start_time": "2023-06-08T20:46:35.071Z"
   },
   {
    "duration": 18,
    "start_time": "2023-06-08T20:46:35.142Z"
   },
   {
    "duration": 12,
    "start_time": "2023-06-08T20:46:37.539Z"
   },
   {
    "duration": 314,
    "start_time": "2023-06-08T20:46:43.643Z"
   },
   {
    "duration": 9,
    "start_time": "2023-06-08T20:46:47.677Z"
   },
   {
    "duration": 19,
    "start_time": "2023-06-08T20:46:50.010Z"
   },
   {
    "duration": 2309,
    "start_time": "2023-06-08T20:47:05.362Z"
   },
   {
    "duration": 5,
    "start_time": "2023-06-08T20:47:07.674Z"
   },
   {
    "duration": 9,
    "start_time": "2023-06-08T20:47:07.681Z"
   },
   {
    "duration": 8267,
    "start_time": "2023-06-08T20:47:07.692Z"
   },
   {
    "duration": 104,
    "start_time": "2023-06-08T20:47:15.961Z"
   },
   {
    "duration": 16,
    "start_time": "2023-06-08T20:47:16.067Z"
   },
   {
    "duration": 18,
    "start_time": "2023-06-08T20:47:16.085Z"
   },
   {
    "duration": 28,
    "start_time": "2023-06-08T20:47:16.105Z"
   },
   {
    "duration": 305,
    "start_time": "2023-06-08T20:47:16.145Z"
   },
   {
    "duration": 13,
    "start_time": "2023-06-08T20:47:16.452Z"
   },
   {
    "duration": 18,
    "start_time": "2023-06-08T20:47:16.467Z"
   },
   {
    "duration": 10,
    "start_time": "2023-06-08T20:47:16.487Z"
   },
   {
    "duration": 7,
    "start_time": "2023-06-08T20:47:16.499Z"
   },
   {
    "duration": 98,
    "start_time": "2023-06-08T20:47:16.510Z"
   },
   {
    "duration": 29,
    "start_time": "2023-06-08T20:47:16.610Z"
   },
   {
    "duration": 10,
    "start_time": "2023-06-08T20:47:16.650Z"
   },
   {
    "duration": 8,
    "start_time": "2023-06-08T20:47:16.662Z"
   },
   {
    "duration": 21,
    "start_time": "2023-06-08T20:47:16.671Z"
   },
   {
    "duration": 78,
    "start_time": "2023-06-08T20:47:16.694Z"
   },
   {
    "duration": 12,
    "start_time": "2023-06-08T20:47:16.774Z"
   },
   {
    "duration": 19,
    "start_time": "2023-06-08T20:47:16.788Z"
   },
   {
    "duration": 20,
    "start_time": "2023-06-08T20:47:16.809Z"
   },
   {
    "duration": 3,
    "start_time": "2023-06-08T20:47:16.831Z"
   },
   {
    "duration": 42,
    "start_time": "2023-06-08T20:47:16.837Z"
   },
   {
    "duration": 84,
    "start_time": "2023-06-08T20:47:16.880Z"
   },
   {
    "duration": 10,
    "start_time": "2023-06-08T20:47:16.966Z"
   },
   {
    "duration": 11,
    "start_time": "2023-06-08T20:47:16.977Z"
   },
   {
    "duration": 7,
    "start_time": "2023-06-08T20:47:16.990Z"
   },
   {
    "duration": 14,
    "start_time": "2023-06-08T20:47:16.998Z"
   },
   {
    "duration": 41,
    "start_time": "2023-06-08T20:47:17.013Z"
   },
   {
    "duration": 55,
    "start_time": "2023-06-08T20:47:17.056Z"
   },
   {
    "duration": 1478,
    "start_time": "2023-06-08T20:47:17.113Z"
   },
   {
    "duration": 15,
    "start_time": "2023-06-08T20:47:18.592Z"
   },
   {
    "duration": 14,
    "start_time": "2023-06-08T20:47:18.619Z"
   },
   {
    "duration": 345,
    "start_time": "2023-06-08T20:47:18.634Z"
   },
   {
    "duration": 508,
    "start_time": "2023-06-08T20:47:18.980Z"
   },
   {
    "duration": 1484,
    "start_time": "2023-06-08T20:47:19.490Z"
   },
   {
    "duration": 6,
    "start_time": "2023-06-08T20:47:20.976Z"
   },
   {
    "duration": 598,
    "start_time": "2023-06-08T20:47:20.983Z"
   },
   {
    "duration": 10,
    "start_time": "2023-06-08T20:47:21.583Z"
   },
   {
    "duration": 381,
    "start_time": "2023-06-08T20:47:21.598Z"
   },
   {
    "duration": 12,
    "start_time": "2023-06-08T20:47:21.981Z"
   },
   {
    "duration": 39,
    "start_time": "2023-06-08T20:47:21.994Z"
   },
   {
    "duration": 32,
    "start_time": "2023-06-08T20:47:22.034Z"
   },
   {
    "duration": 22,
    "start_time": "2023-06-08T20:47:22.068Z"
   },
   {
    "duration": 8,
    "start_time": "2023-06-08T20:47:22.092Z"
   },
   {
    "duration": 2,
    "start_time": "2023-06-08T20:47:22.102Z"
   },
   {
    "duration": 235,
    "start_time": "2023-06-08T20:47:22.106Z"
   },
   {
    "duration": 7,
    "start_time": "2023-06-08T20:47:22.342Z"
   },
   {
    "duration": 14,
    "start_time": "2023-06-08T20:47:22.350Z"
   },
   {
    "duration": 984,
    "start_time": "2023-06-08T20:47:22.366Z"
   },
   {
    "duration": 962,
    "start_time": "2023-06-08T20:47:23.352Z"
   },
   {
    "duration": 26,
    "start_time": "2023-06-08T20:47:24.315Z"
   },
   {
    "duration": 11,
    "start_time": "2023-06-08T20:47:24.344Z"
   },
   {
    "duration": 7,
    "start_time": "2023-06-08T20:47:24.356Z"
   },
   {
    "duration": 6,
    "start_time": "2023-06-08T20:47:24.364Z"
   },
   {
    "duration": 12,
    "start_time": "2023-06-08T20:47:24.372Z"
   },
   {
    "duration": 9,
    "start_time": "2023-06-08T20:47:24.385Z"
   },
   {
    "duration": 16,
    "start_time": "2023-06-08T20:47:24.395Z"
   },
   {
    "duration": 44,
    "start_time": "2023-06-08T20:47:24.412Z"
   },
   {
    "duration": 31,
    "start_time": "2023-06-08T20:47:24.457Z"
   },
   {
    "duration": 12,
    "start_time": "2023-06-08T20:47:24.490Z"
   },
   {
    "duration": 8,
    "start_time": "2023-06-08T20:47:24.503Z"
   },
   {
    "duration": 22,
    "start_time": "2023-06-08T20:47:24.512Z"
   },
   {
    "duration": 15,
    "start_time": "2023-06-08T20:47:24.543Z"
   },
   {
    "duration": 30,
    "start_time": "2023-06-08T20:47:24.559Z"
   },
   {
    "duration": 25560,
    "start_time": "2023-06-08T20:47:24.590Z"
   },
   {
    "duration": 24040,
    "start_time": "2023-06-08T20:47:50.215Z"
   },
   {
    "duration": 4837,
    "start_time": "2023-06-08T20:48:14.316Z"
   },
   {
    "duration": 3437,
    "start_time": "2023-06-08T20:48:19.155Z"
   },
   {
    "duration": 1161,
    "start_time": "2023-06-08T20:48:22.593Z"
   },
   {
    "duration": 3,
    "start_time": "2023-06-08T20:48:23.756Z"
   },
   {
    "duration": 2174,
    "start_time": "2023-06-08T20:49:11.938Z"
   },
   {
    "duration": 1455,
    "start_time": "2023-06-08T20:49:14.117Z"
   },
   {
    "duration": 3,
    "start_time": "2023-06-08T20:49:15.574Z"
   },
   {
    "duration": 7694,
    "start_time": "2023-06-08T20:49:15.579Z"
   },
   {
    "duration": 84,
    "start_time": "2023-06-08T20:49:23.277Z"
   },
   {
    "duration": 13,
    "start_time": "2023-06-08T20:49:23.362Z"
   },
   {
    "duration": 21,
    "start_time": "2023-06-08T20:49:23.377Z"
   },
   {
    "duration": 13,
    "start_time": "2023-06-08T20:49:23.400Z"
   },
   {
    "duration": 301,
    "start_time": "2023-06-08T20:49:23.414Z"
   },
   {
    "duration": 16,
    "start_time": "2023-06-08T20:49:23.729Z"
   },
   {
    "duration": 12,
    "start_time": "2023-06-08T20:49:23.746Z"
   },
   {
    "duration": 7,
    "start_time": "2023-06-08T20:49:23.759Z"
   },
   {
    "duration": 9,
    "start_time": "2023-06-08T20:49:23.767Z"
   },
   {
    "duration": 97,
    "start_time": "2023-06-08T20:49:23.779Z"
   },
   {
    "duration": 9,
    "start_time": "2023-06-08T20:49:23.877Z"
   },
   {
    "duration": 8,
    "start_time": "2023-06-08T20:49:23.888Z"
   },
   {
    "duration": 7,
    "start_time": "2023-06-08T20:49:23.897Z"
   },
   {
    "duration": 40,
    "start_time": "2023-06-08T20:49:23.905Z"
   },
   {
    "duration": 53,
    "start_time": "2023-06-08T20:49:23.947Z"
   },
   {
    "duration": 10,
    "start_time": "2023-06-08T20:49:24.002Z"
   },
   {
    "duration": 40,
    "start_time": "2023-06-08T20:49:24.013Z"
   },
   {
    "duration": 10,
    "start_time": "2023-06-08T20:49:24.055Z"
   },
   {
    "duration": 4,
    "start_time": "2023-06-08T20:49:24.067Z"
   },
   {
    "duration": 19,
    "start_time": "2023-06-08T20:49:24.072Z"
   },
   {
    "duration": 59,
    "start_time": "2023-06-08T20:49:24.092Z"
   },
   {
    "duration": 8,
    "start_time": "2023-06-08T20:49:24.153Z"
   },
   {
    "duration": 14,
    "start_time": "2023-06-08T20:49:24.162Z"
   },
   {
    "duration": 6,
    "start_time": "2023-06-08T20:49:24.177Z"
   },
   {
    "duration": 12,
    "start_time": "2023-06-08T20:49:24.184Z"
   },
   {
    "duration": 13,
    "start_time": "2023-06-08T20:49:24.197Z"
   },
   {
    "duration": 64,
    "start_time": "2023-06-08T20:49:24.211Z"
   },
   {
    "duration": 1111,
    "start_time": "2023-06-08T20:49:24.277Z"
   },
   {
    "duration": 58,
    "start_time": "2023-06-08T20:49:25.391Z"
   },
   {
    "duration": 10,
    "start_time": "2023-06-08T20:49:25.454Z"
   },
   {
    "duration": 318,
    "start_time": "2023-06-08T20:49:25.466Z"
   },
   {
    "duration": 1412,
    "start_time": "2023-06-08T20:49:25.786Z"
   },
   {
    "duration": 5,
    "start_time": "2023-06-08T20:49:27.199Z"
   },
   {
    "duration": 540,
    "start_time": "2023-06-08T20:49:27.205Z"
   },
   {
    "duration": 443,
    "start_time": "2023-06-08T20:49:27.747Z"
   },
   {
    "duration": 10,
    "start_time": "2023-06-08T20:49:28.191Z"
   },
   {
    "duration": 393,
    "start_time": "2023-06-08T20:49:28.205Z"
   },
   {
    "duration": 20,
    "start_time": "2023-06-08T20:49:28.600Z"
   },
   {
    "duration": 16,
    "start_time": "2023-06-08T20:49:28.621Z"
   },
   {
    "duration": 40,
    "start_time": "2023-06-08T20:49:28.638Z"
   },
   {
    "duration": 23,
    "start_time": "2023-06-08T20:49:28.680Z"
   },
   {
    "duration": 36,
    "start_time": "2023-06-08T20:49:28.705Z"
   },
   {
    "duration": 3,
    "start_time": "2023-06-08T20:49:28.744Z"
   },
   {
    "duration": 207,
    "start_time": "2023-06-08T20:49:28.749Z"
   },
   {
    "duration": 5,
    "start_time": "2023-06-08T20:49:28.957Z"
   },
   {
    "duration": 11,
    "start_time": "2023-06-08T20:49:28.963Z"
   },
   {
    "duration": 1071,
    "start_time": "2023-06-08T20:49:28.976Z"
   },
   {
    "duration": 964,
    "start_time": "2023-06-08T20:49:30.049Z"
   },
   {
    "duration": 11,
    "start_time": "2023-06-08T20:49:31.015Z"
   },
   {
    "duration": 3,
    "start_time": "2023-06-08T20:49:31.028Z"
   },
   {
    "duration": 5,
    "start_time": "2023-06-08T20:49:31.033Z"
   },
   {
    "duration": 44,
    "start_time": "2023-06-08T20:49:31.040Z"
   },
   {
    "duration": 57,
    "start_time": "2023-06-08T20:49:31.086Z"
   },
   {
    "duration": 39,
    "start_time": "2023-06-08T20:49:31.144Z"
   },
   {
    "duration": 60,
    "start_time": "2023-06-08T20:49:31.184Z"
   },
   {
    "duration": 23,
    "start_time": "2023-06-08T20:49:31.245Z"
   },
   {
    "duration": 74,
    "start_time": "2023-06-08T20:49:31.270Z"
   },
   {
    "duration": 30,
    "start_time": "2023-06-08T20:49:31.346Z"
   },
   {
    "duration": 27,
    "start_time": "2023-06-08T20:49:31.378Z"
   },
   {
    "duration": 48,
    "start_time": "2023-06-08T20:49:31.407Z"
   },
   {
    "duration": 3,
    "start_time": "2023-06-08T20:49:31.457Z"
   },
   {
    "duration": 41,
    "start_time": "2023-06-08T20:49:31.462Z"
   },
   {
    "duration": 23924,
    "start_time": "2023-06-08T20:49:31.505Z"
   },
   {
    "duration": 23313,
    "start_time": "2023-06-08T20:49:55.436Z"
   },
   {
    "duration": 4955,
    "start_time": "2023-06-08T20:50:18.829Z"
   },
   {
    "duration": 3461,
    "start_time": "2023-06-08T20:50:23.786Z"
   },
   {
    "duration": 1194,
    "start_time": "2023-06-08T20:50:27.249Z"
   },
   {
    "duration": 3,
    "start_time": "2023-06-08T20:50:28.449Z"
   },
   {
    "duration": 2241,
    "start_time": "2023-06-08T20:50:56.858Z"
   },
   {
    "duration": 1389,
    "start_time": "2023-06-08T20:50:59.102Z"
   },
   {
    "duration": 3,
    "start_time": "2023-06-08T20:51:00.492Z"
   },
   {
    "duration": 8293,
    "start_time": "2023-06-08T20:51:00.496Z"
   },
   {
    "duration": 79,
    "start_time": "2023-06-08T20:51:08.791Z"
   },
   {
    "duration": 13,
    "start_time": "2023-06-08T20:51:08.871Z"
   },
   {
    "duration": 16,
    "start_time": "2023-06-08T20:51:08.885Z"
   },
   {
    "duration": 12,
    "start_time": "2023-06-08T20:51:08.902Z"
   },
   {
    "duration": 293,
    "start_time": "2023-06-08T20:51:08.917Z"
   },
   {
    "duration": 34,
    "start_time": "2023-06-08T20:51:09.212Z"
   },
   {
    "duration": 123,
    "start_time": "2023-06-08T20:51:09.248Z"
   },
   {
    "duration": 32,
    "start_time": "2023-06-08T20:51:09.372Z"
   },
   {
    "duration": 54,
    "start_time": "2023-06-08T20:51:09.405Z"
   },
   {
    "duration": 997,
    "start_time": "2023-06-08T20:51:09.461Z"
   },
   {
    "duration": 11,
    "start_time": "2023-06-08T20:51:10.459Z"
   },
   {
    "duration": 9,
    "start_time": "2023-06-08T20:51:10.472Z"
   },
   {
    "duration": 21,
    "start_time": "2023-06-08T20:51:10.483Z"
   },
   {
    "duration": 52,
    "start_time": "2023-06-08T20:51:10.505Z"
   },
   {
    "duration": 50,
    "start_time": "2023-06-08T20:51:10.558Z"
   },
   {
    "duration": 27,
    "start_time": "2023-06-08T20:51:10.610Z"
   },
   {
    "duration": 14,
    "start_time": "2023-06-08T20:51:10.639Z"
   },
   {
    "duration": 10,
    "start_time": "2023-06-08T20:51:10.654Z"
   },
   {
    "duration": 9,
    "start_time": "2023-06-08T20:51:10.665Z"
   },
   {
    "duration": 20,
    "start_time": "2023-06-08T20:51:10.676Z"
   },
   {
    "duration": 52,
    "start_time": "2023-06-08T20:51:10.698Z"
   },
   {
    "duration": 9,
    "start_time": "2023-06-08T20:51:10.751Z"
   },
   {
    "duration": 8,
    "start_time": "2023-06-08T20:51:10.761Z"
   },
   {
    "duration": 6,
    "start_time": "2023-06-08T20:51:10.770Z"
   },
   {
    "duration": 9,
    "start_time": "2023-06-08T20:51:10.778Z"
   },
   {
    "duration": 12,
    "start_time": "2023-06-08T20:51:10.788Z"
   },
   {
    "duration": 79,
    "start_time": "2023-06-08T20:51:10.801Z"
   },
   {
    "duration": 1100,
    "start_time": "2023-06-08T20:51:10.881Z"
   },
   {
    "duration": 14,
    "start_time": "2023-06-08T20:51:11.983Z"
   },
   {
    "duration": 37,
    "start_time": "2023-06-08T20:51:11.999Z"
   },
   {
    "duration": 302,
    "start_time": "2023-06-08T20:51:12.046Z"
   },
   {
    "duration": 1596,
    "start_time": "2023-06-08T20:51:12.349Z"
   },
   {
    "duration": 6,
    "start_time": "2023-06-08T20:51:13.950Z"
   },
   {
    "duration": 494,
    "start_time": "2023-06-08T20:51:59.581Z"
   },
   {
    "duration": 2019,
    "start_time": "2023-06-08T20:53:40.650Z"
   },
   {
    "duration": 475,
    "start_time": "2023-06-08T20:54:40.415Z"
   },
   {
    "duration": 2063,
    "start_time": "2023-06-08T20:55:11.044Z"
   },
   {
    "duration": 453,
    "start_time": "2023-06-08T20:56:34.450Z"
   },
   {
    "duration": 406,
    "start_time": "2023-06-08T20:58:13.688Z"
   },
   {
    "duration": 2275,
    "start_time": "2023-06-08T20:59:49.158Z"
   },
   {
    "duration": 10,
    "start_time": "2023-06-08T20:59:51.435Z"
   },
   {
    "duration": 22,
    "start_time": "2023-06-08T20:59:51.446Z"
   },
   {
    "duration": 7918,
    "start_time": "2023-06-08T20:59:51.470Z"
   },
   {
    "duration": 90,
    "start_time": "2023-06-08T20:59:59.391Z"
   },
   {
    "duration": 12,
    "start_time": "2023-06-08T20:59:59.483Z"
   },
   {
    "duration": 13,
    "start_time": "2023-06-08T20:59:59.497Z"
   },
   {
    "duration": 31,
    "start_time": "2023-06-08T20:59:59.512Z"
   },
   {
    "duration": 264,
    "start_time": "2023-06-08T20:59:59.545Z"
   },
   {
    "duration": 31,
    "start_time": "2023-06-08T20:59:59.811Z"
   },
   {
    "duration": 21,
    "start_time": "2023-06-08T20:59:59.844Z"
   },
   {
    "duration": 14,
    "start_time": "2023-06-08T20:59:59.867Z"
   },
   {
    "duration": 8,
    "start_time": "2023-06-08T20:59:59.882Z"
   },
   {
    "duration": 162,
    "start_time": "2023-06-08T20:59:59.891Z"
   },
   {
    "duration": 11,
    "start_time": "2023-06-08T21:00:00.054Z"
   },
   {
    "duration": 34,
    "start_time": "2023-06-08T21:00:00.067Z"
   },
   {
    "duration": 50,
    "start_time": "2023-06-08T21:00:00.103Z"
   },
   {
    "duration": 41,
    "start_time": "2023-06-08T21:00:00.154Z"
   },
   {
    "duration": 98,
    "start_time": "2023-06-08T21:00:00.197Z"
   },
   {
    "duration": 14,
    "start_time": "2023-06-08T21:00:00.297Z"
   },
   {
    "duration": 118,
    "start_time": "2023-06-08T21:00:00.313Z"
   },
   {
    "duration": 34,
    "start_time": "2023-06-08T21:00:00.442Z"
   },
   {
    "duration": 45,
    "start_time": "2023-06-08T21:00:00.478Z"
   },
   {
    "duration": 79,
    "start_time": "2023-06-08T21:00:00.525Z"
   },
   {
    "duration": 86,
    "start_time": "2023-06-08T21:00:00.606Z"
   },
   {
    "duration": 10,
    "start_time": "2023-06-08T21:00:00.694Z"
   },
   {
    "duration": 76,
    "start_time": "2023-06-08T21:00:00.706Z"
   },
   {
    "duration": 62,
    "start_time": "2023-06-08T21:00:00.786Z"
   },
   {
    "duration": 33,
    "start_time": "2023-06-08T21:00:00.850Z"
   },
   {
    "duration": 47,
    "start_time": "2023-06-08T21:00:00.884Z"
   },
   {
    "duration": 112,
    "start_time": "2023-06-08T21:00:00.933Z"
   },
   {
    "duration": 1101,
    "start_time": "2023-06-08T21:00:01.046Z"
   },
   {
    "duration": 16,
    "start_time": "2023-06-08T21:00:02.149Z"
   },
   {
    "duration": 116,
    "start_time": "2023-06-08T21:00:02.167Z"
   },
   {
    "duration": 371,
    "start_time": "2023-06-08T21:00:02.285Z"
   },
   {
    "duration": 1453,
    "start_time": "2023-06-08T21:00:02.658Z"
   },
   {
    "duration": 20,
    "start_time": "2023-06-08T21:00:04.113Z"
   },
   {
    "duration": 554,
    "start_time": "2023-06-08T21:00:04.142Z"
   },
   {
    "duration": 469,
    "start_time": "2023-06-08T21:00:04.697Z"
   },
   {
    "duration": 393,
    "start_time": "2023-06-08T21:00:05.168Z"
   },
   {
    "duration": 14,
    "start_time": "2023-06-08T21:00:05.563Z"
   },
   {
    "duration": 10,
    "start_time": "2023-06-08T21:00:05.579Z"
   },
   {
    "duration": 58,
    "start_time": "2023-06-08T21:00:05.590Z"
   },
   {
    "duration": 35,
    "start_time": "2023-06-08T21:00:05.650Z"
   },
   {
    "duration": 11,
    "start_time": "2023-06-08T21:00:05.686Z"
   },
   {
    "duration": 44,
    "start_time": "2023-06-08T21:00:05.699Z"
   },
   {
    "duration": 205,
    "start_time": "2023-06-08T21:00:05.745Z"
   },
   {
    "duration": 4,
    "start_time": "2023-06-08T21:00:05.952Z"
   },
   {
    "duration": 26,
    "start_time": "2023-06-08T21:00:05.957Z"
   },
   {
    "duration": 1029,
    "start_time": "2023-06-08T21:00:05.985Z"
   },
   {
    "duration": 1047,
    "start_time": "2023-06-08T21:00:07.016Z"
   },
   {
    "duration": 12,
    "start_time": "2023-06-08T21:00:08.064Z"
   },
   {
    "duration": 14,
    "start_time": "2023-06-08T21:00:08.078Z"
   },
   {
    "duration": 14,
    "start_time": "2023-06-08T21:00:08.094Z"
   },
   {
    "duration": 45,
    "start_time": "2023-06-08T21:00:08.110Z"
   },
   {
    "duration": 19,
    "start_time": "2023-06-08T21:00:08.156Z"
   },
   {
    "duration": 11,
    "start_time": "2023-06-08T21:00:08.177Z"
   },
   {
    "duration": 12,
    "start_time": "2023-06-08T21:00:08.189Z"
   },
   {
    "duration": 47,
    "start_time": "2023-06-08T21:00:08.203Z"
   },
   {
    "duration": 41,
    "start_time": "2023-06-08T21:00:08.251Z"
   },
   {
    "duration": 12,
    "start_time": "2023-06-08T21:00:08.294Z"
   },
   {
    "duration": 29,
    "start_time": "2023-06-08T21:00:08.308Z"
   },
   {
    "duration": 31,
    "start_time": "2023-06-08T21:00:08.338Z"
   },
   {
    "duration": 14,
    "start_time": "2023-06-08T21:00:08.370Z"
   },
   {
    "duration": 59,
    "start_time": "2023-06-08T21:00:08.386Z"
   },
   {
    "duration": 27099,
    "start_time": "2023-06-08T21:00:08.446Z"
   },
   {
    "duration": 30099,
    "start_time": "2023-06-08T21:00:35.546Z"
   },
   {
    "duration": 5147,
    "start_time": "2023-06-08T21:01:05.653Z"
   },
   {
    "duration": 3570,
    "start_time": "2023-06-08T21:01:10.822Z"
   },
   {
    "duration": 1157,
    "start_time": "2023-06-08T21:01:14.393Z"
   },
   {
    "duration": 3,
    "start_time": "2023-06-08T21:01:15.554Z"
   },
   {
    "duration": 3376485,
    "start_time": "2023-06-08T21:01:15.558Z"
   },
   {
    "duration": 114,
    "start_time": "2023-06-08T21:57:32.045Z"
   },
   {
    "duration": 4,
    "start_time": "2023-06-08T21:57:32.163Z"
   },
   {
    "duration": 482,
    "start_time": "2023-06-08T21:57:39.066Z"
   },
   {
    "duration": 3996,
    "start_time": "2023-06-09T13:10:38.399Z"
   },
   {
    "duration": 3361,
    "start_time": "2023-06-09T13:10:42.403Z"
   },
   {
    "duration": 3,
    "start_time": "2023-06-09T13:10:45.765Z"
   },
   {
    "duration": 53661,
    "start_time": "2023-06-09T13:10:45.769Z"
   },
   {
    "duration": 106,
    "start_time": "2023-06-09T13:17:42.626Z"
   },
   {
    "duration": 28,
    "start_time": "2023-06-09T13:17:43.278Z"
   },
   {
    "duration": 11,
    "start_time": "2023-06-09T13:17:43.702Z"
   },
   {
    "duration": 20,
    "start_time": "2023-06-09T13:17:44.091Z"
   },
   {
    "duration": 140,
    "start_time": "2023-06-09T13:17:45.344Z"
   },
   {
    "duration": 11,
    "start_time": "2023-06-09T13:17:46.025Z"
   },
   {
    "duration": 10,
    "start_time": "2023-06-09T13:17:46.440Z"
   },
   {
    "duration": 4,
    "start_time": "2023-06-09T13:17:47.312Z"
   },
   {
    "duration": 7,
    "start_time": "2023-06-09T13:17:47.486Z"
   },
   {
    "duration": 58,
    "start_time": "2023-06-09T13:17:47.797Z"
   },
   {
    "duration": 17,
    "start_time": "2023-06-09T13:17:47.970Z"
   },
   {
    "duration": 9,
    "start_time": "2023-06-09T13:17:48.464Z"
   },
   {
    "duration": 13,
    "start_time": "2023-06-09T13:17:48.896Z"
   },
   {
    "duration": 15,
    "start_time": "2023-06-09T13:17:49.009Z"
   },
   {
    "duration": 98,
    "start_time": "2023-06-09T13:17:52.055Z"
   },
   {
    "duration": 12,
    "start_time": "2023-06-09T13:17:52.224Z"
   },
   {
    "duration": 12,
    "start_time": "2023-06-09T13:17:52.394Z"
   },
   {
    "duration": 14,
    "start_time": "2023-06-09T13:17:52.554Z"
   },
   {
    "duration": 6,
    "start_time": "2023-06-09T13:17:52.713Z"
   },
   {
    "duration": 32,
    "start_time": "2023-06-09T13:17:53.248Z"
   },
   {
    "duration": 35,
    "start_time": "2023-06-09T13:17:53.736Z"
   },
   {
    "duration": 20,
    "start_time": "2023-06-09T13:17:54.061Z"
   },
   {
    "duration": 18,
    "start_time": "2023-06-09T13:17:54.233Z"
   },
   {
    "duration": 13,
    "start_time": "2023-06-09T13:17:54.417Z"
   },
   {
    "duration": 8,
    "start_time": "2023-06-09T13:17:54.608Z"
   },
   {
    "duration": 13,
    "start_time": "2023-06-09T13:17:56.222Z"
   },
   {
    "duration": 65,
    "start_time": "2023-06-09T13:17:56.377Z"
   },
   {
    "duration": 825,
    "start_time": "2023-06-09T13:17:56.712Z"
   },
   {
    "duration": 17,
    "start_time": "2023-06-09T13:18:00.544Z"
   },
   {
    "duration": 11,
    "start_time": "2023-06-09T13:18:01.264Z"
   },
   {
    "duration": 185,
    "start_time": "2023-06-09T13:18:01.529Z"
   },
   {
    "duration": 1830,
    "start_time": "2023-06-09T13:18:02.217Z"
   },
   {
    "duration": 7,
    "start_time": "2023-06-09T13:18:04.050Z"
   },
   {
    "duration": 447,
    "start_time": "2023-06-09T13:18:04.059Z"
   },
   {
    "duration": 345,
    "start_time": "2023-06-09T13:18:04.510Z"
   },
   {
    "duration": 370,
    "start_time": "2023-06-09T13:18:13.048Z"
   },
   {
    "duration": 24,
    "start_time": "2023-06-09T13:18:14.703Z"
   },
   {
    "duration": 10,
    "start_time": "2023-06-09T13:18:16.128Z"
   },
   {
    "duration": 35,
    "start_time": "2023-06-09T13:18:16.448Z"
   },
   {
    "duration": 31,
    "start_time": "2023-06-09T13:18:17.168Z"
   },
   {
    "duration": 18,
    "start_time": "2023-06-09T13:18:17.921Z"
   },
   {
    "duration": 8,
    "start_time": "2023-06-09T13:18:18.400Z"
   },
   {
    "duration": 90,
    "start_time": "2023-06-09T13:18:19.848Z"
   },
   {
    "duration": 9,
    "start_time": "2023-06-09T13:18:21.288Z"
   },
   {
    "duration": 7,
    "start_time": "2023-06-09T13:18:21.424Z"
   },
   {
    "duration": 1263,
    "start_time": "2023-06-09T13:18:22.056Z"
   },
   {
    "duration": 1077,
    "start_time": "2023-06-09T13:18:24.824Z"
   },
   {
    "duration": 10,
    "start_time": "2023-06-09T13:18:25.907Z"
   },
   {
    "duration": 4,
    "start_time": "2023-06-09T13:18:27.536Z"
   },
   {
    "duration": 7,
    "start_time": "2023-06-09T13:18:27.706Z"
   },
   {
    "duration": 7,
    "start_time": "2023-06-09T13:18:29.336Z"
   },
   {
    "duration": 3,
    "start_time": "2023-06-09T13:18:29.502Z"
   },
   {
    "duration": 6,
    "start_time": "2023-06-09T13:18:31.367Z"
   },
   {
    "duration": 9,
    "start_time": "2023-06-09T13:18:31.544Z"
   },
   {
    "duration": 149,
    "start_time": "2023-06-09T13:18:31.712Z"
   },
   {
    "duration": 35,
    "start_time": "2023-06-09T13:18:31.896Z"
   },
   {
    "duration": 22,
    "start_time": "2023-06-09T13:18:32.039Z"
   },
   {
    "duration": 10,
    "start_time": "2023-06-09T13:18:32.212Z"
   },
   {
    "duration": 2,
    "start_time": "2023-06-09T13:34:33.618Z"
   },
   {
    "duration": 38,
    "start_time": "2023-06-09T13:34:36.923Z"
   },
   {
    "duration": 15,
    "start_time": "2023-06-09T13:35:35.265Z"
   },
   {
    "duration": 7,
    "start_time": "2023-06-09T13:35:36.727Z"
   },
   {
    "duration": 9,
    "start_time": "2023-06-09T13:35:38.198Z"
   },
   {
    "duration": 29,
    "start_time": "2023-06-09T13:35:43.337Z"
   },
   {
    "duration": 4,
    "start_time": "2023-06-09T13:35:54.110Z"
   },
   {
    "duration": 53,
    "start_time": "2023-06-09T13:35:54.472Z"
   },
   {
    "duration": 30121,
    "start_time": "2023-06-09T13:35:56.704Z"
   },
   {
    "duration": 27979,
    "start_time": "2023-06-09T13:36:26.830Z"
   },
   {
    "duration": 11577,
    "start_time": "2023-06-09T13:36:54.820Z"
   },
   {
    "duration": 9013,
    "start_time": "2023-06-09T13:37:25.319Z"
   },
   {
    "duration": 31,
    "start_time": "2023-06-09T13:38:13.711Z"
   },
   {
    "duration": 3159,
    "start_time": "2023-06-09T13:54:29.857Z"
   },
   {
    "duration": 1567,
    "start_time": "2023-06-09T13:54:33.018Z"
   },
   {
    "duration": 2,
    "start_time": "2023-06-09T13:54:34.586Z"
   },
   {
    "duration": 1506,
    "start_time": "2023-06-09T13:56:03.279Z"
   },
   {
    "duration": 2123,
    "start_time": "2023-06-09T13:59:12.828Z"
   },
   {
    "duration": 5,
    "start_time": "2023-06-09T13:59:14.953Z"
   },
   {
    "duration": 16,
    "start_time": "2023-06-09T13:59:14.959Z"
   },
   {
    "duration": 17050,
    "start_time": "2023-06-09T13:59:14.976Z"
   },
   {
    "duration": 208,
    "start_time": "2023-06-09T13:59:32.027Z"
   },
   {
    "duration": 12,
    "start_time": "2023-06-09T13:59:32.236Z"
   },
   {
    "duration": 62,
    "start_time": "2023-06-09T13:59:32.250Z"
   },
   {
    "duration": 12,
    "start_time": "2023-06-09T13:59:32.313Z"
   },
   {
    "duration": 225,
    "start_time": "2023-06-09T13:59:32.327Z"
   },
   {
    "duration": 8,
    "start_time": "2023-06-09T13:59:32.554Z"
   },
   {
    "duration": 11,
    "start_time": "2023-06-09T13:59:32.564Z"
   },
   {
    "duration": 12,
    "start_time": "2023-06-09T13:59:32.576Z"
   },
   {
    "duration": 8,
    "start_time": "2023-06-09T13:59:32.589Z"
   },
   {
    "duration": 56,
    "start_time": "2023-06-09T13:59:32.598Z"
   },
   {
    "duration": 10,
    "start_time": "2023-06-09T13:59:32.655Z"
   },
   {
    "duration": 13,
    "start_time": "2023-06-09T13:59:32.666Z"
   },
   {
    "duration": 11,
    "start_time": "2023-06-09T13:59:32.680Z"
   },
   {
    "duration": 22,
    "start_time": "2023-06-09T13:59:32.692Z"
   },
   {
    "duration": 42,
    "start_time": "2023-06-09T13:59:32.716Z"
   },
   {
    "duration": 10,
    "start_time": "2023-06-09T13:59:32.760Z"
   },
   {
    "duration": 13,
    "start_time": "2023-06-09T13:59:32.771Z"
   },
   {
    "duration": 9,
    "start_time": "2023-06-09T13:59:32.786Z"
   },
   {
    "duration": 5,
    "start_time": "2023-06-09T13:59:32.796Z"
   },
   {
    "duration": 22,
    "start_time": "2023-06-09T13:59:32.803Z"
   },
   {
    "duration": 85,
    "start_time": "2023-06-09T13:59:32.826Z"
   },
   {
    "duration": 10,
    "start_time": "2023-06-09T13:59:32.912Z"
   },
   {
    "duration": 10,
    "start_time": "2023-06-09T13:59:32.923Z"
   },
   {
    "duration": 12,
    "start_time": "2023-06-09T13:59:32.936Z"
   },
   {
    "duration": 9,
    "start_time": "2023-06-09T13:59:32.950Z"
   },
   {
    "duration": 15,
    "start_time": "2023-06-09T13:59:32.960Z"
   },
   {
    "duration": 62,
    "start_time": "2023-06-09T13:59:32.977Z"
   },
   {
    "duration": 729,
    "start_time": "2023-06-09T13:59:33.040Z"
   },
   {
    "duration": 14,
    "start_time": "2023-06-09T13:59:33.770Z"
   },
   {
    "duration": 8,
    "start_time": "2023-06-09T13:59:33.786Z"
   },
   {
    "duration": 147,
    "start_time": "2023-06-09T13:59:33.796Z"
   },
   {
    "duration": 1479,
    "start_time": "2023-06-09T13:59:33.944Z"
   },
   {
    "duration": 5,
    "start_time": "2023-06-09T13:59:35.425Z"
   },
   {
    "duration": 348,
    "start_time": "2023-06-09T13:59:35.431Z"
   },
   {
    "duration": 309,
    "start_time": "2023-06-09T13:59:35.781Z"
   },
   {
    "duration": 324,
    "start_time": "2023-06-09T13:59:36.091Z"
   },
   {
    "duration": 12,
    "start_time": "2023-06-09T13:59:36.417Z"
   },
   {
    "duration": 16,
    "start_time": "2023-06-09T13:59:36.431Z"
   },
   {
    "duration": 22,
    "start_time": "2023-06-09T13:59:36.448Z"
   },
   {
    "duration": 20,
    "start_time": "2023-06-09T13:59:36.472Z"
   },
   {
    "duration": 29,
    "start_time": "2023-06-09T13:59:36.493Z"
   },
   {
    "duration": 15,
    "start_time": "2023-06-09T13:59:36.523Z"
   },
   {
    "duration": 115,
    "start_time": "2023-06-09T13:59:36.539Z"
   },
   {
    "duration": 4,
    "start_time": "2023-06-09T13:59:36.656Z"
   },
   {
    "duration": 11,
    "start_time": "2023-06-09T13:59:36.661Z"
   },
   {
    "duration": 1016,
    "start_time": "2023-06-09T13:59:36.674Z"
   },
   {
    "duration": 981,
    "start_time": "2023-06-09T13:59:37.692Z"
   },
   {
    "duration": 8,
    "start_time": "2023-06-09T13:59:38.675Z"
   },
   {
    "duration": 7,
    "start_time": "2023-06-09T13:59:38.685Z"
   },
   {
    "duration": 8,
    "start_time": "2023-06-09T13:59:38.693Z"
   },
   {
    "duration": 16,
    "start_time": "2023-06-09T13:59:38.703Z"
   },
   {
    "duration": 5,
    "start_time": "2023-06-09T13:59:38.720Z"
   },
   {
    "duration": 9,
    "start_time": "2023-06-09T13:59:38.727Z"
   },
   {
    "duration": 15,
    "start_time": "2023-06-09T13:59:38.738Z"
   },
   {
    "duration": 122,
    "start_time": "2023-06-09T13:59:38.755Z"
   },
   {
    "duration": 0,
    "start_time": "2023-06-09T13:59:38.878Z"
   },
   {
    "duration": 0,
    "start_time": "2023-06-09T13:59:38.879Z"
   },
   {
    "duration": 0,
    "start_time": "2023-06-09T13:59:38.880Z"
   },
   {
    "duration": 0,
    "start_time": "2023-06-09T13:59:38.881Z"
   },
   {
    "duration": 0,
    "start_time": "2023-06-09T13:59:38.882Z"
   },
   {
    "duration": 0,
    "start_time": "2023-06-09T13:59:38.883Z"
   },
   {
    "duration": 3,
    "start_time": "2023-06-09T14:02:41.183Z"
   },
   {
    "duration": 29,
    "start_time": "2023-06-09T14:02:42.982Z"
   },
   {
    "duration": 15,
    "start_time": "2023-06-09T14:02:43.815Z"
   },
   {
    "duration": 6,
    "start_time": "2023-06-09T14:02:44.634Z"
   },
   {
    "duration": 7,
    "start_time": "2023-06-09T14:02:45.265Z"
   },
   {
    "duration": 2,
    "start_time": "2023-06-09T14:02:50.019Z"
   },
   {
    "duration": 33,
    "start_time": "2023-06-09T14:02:53.323Z"
   },
   {
    "duration": 2056,
    "start_time": "2023-06-09T15:11:52.654Z"
   },
   {
    "duration": 4,
    "start_time": "2023-06-09T15:11:54.712Z"
   },
   {
    "duration": 18,
    "start_time": "2023-06-09T15:11:54.718Z"
   },
   {
    "duration": 7664,
    "start_time": "2023-06-09T15:11:54.738Z"
   },
   {
    "duration": 79,
    "start_time": "2023-06-09T15:12:02.404Z"
   },
   {
    "duration": 12,
    "start_time": "2023-06-09T15:12:02.484Z"
   },
   {
    "duration": 63,
    "start_time": "2023-06-09T15:12:02.497Z"
   },
   {
    "duration": 24,
    "start_time": "2023-06-09T15:12:02.562Z"
   },
   {
    "duration": 110,
    "start_time": "2023-06-09T15:12:02.588Z"
   },
   {
    "duration": 9,
    "start_time": "2023-06-09T15:12:02.699Z"
   },
   {
    "duration": 31,
    "start_time": "2023-06-09T15:12:02.709Z"
   },
   {
    "duration": 23,
    "start_time": "2023-06-09T15:12:02.742Z"
   },
   {
    "duration": 29,
    "start_time": "2023-06-09T15:12:02.767Z"
   },
   {
    "duration": 74,
    "start_time": "2023-06-09T15:12:02.799Z"
   },
   {
    "duration": 10,
    "start_time": "2023-06-09T15:12:02.875Z"
   },
   {
    "duration": 38,
    "start_time": "2023-06-09T15:12:02.886Z"
   },
   {
    "duration": 26,
    "start_time": "2023-06-09T15:12:02.925Z"
   },
   {
    "duration": 21,
    "start_time": "2023-06-09T15:12:02.953Z"
   },
   {
    "duration": 75,
    "start_time": "2023-06-09T15:12:02.975Z"
   },
   {
    "duration": 10,
    "start_time": "2023-06-09T15:12:03.052Z"
   },
   {
    "duration": 33,
    "start_time": "2023-06-09T15:12:03.064Z"
   },
   {
    "duration": 33,
    "start_time": "2023-06-09T15:12:03.099Z"
   },
   {
    "duration": 29,
    "start_time": "2023-06-09T15:12:03.134Z"
   },
   {
    "duration": 38,
    "start_time": "2023-06-09T15:12:03.165Z"
   },
   {
    "duration": 41,
    "start_time": "2023-06-09T15:12:03.205Z"
   },
   {
    "duration": 9,
    "start_time": "2023-06-09T15:12:03.248Z"
   },
   {
    "duration": 32,
    "start_time": "2023-06-09T15:12:03.259Z"
   },
   {
    "duration": 22,
    "start_time": "2023-06-09T15:12:03.292Z"
   },
   {
    "duration": 28,
    "start_time": "2023-06-09T15:12:03.316Z"
   },
   {
    "duration": 15,
    "start_time": "2023-06-09T15:12:03.345Z"
   },
   {
    "duration": 53,
    "start_time": "2023-06-09T15:12:03.361Z"
   },
   {
    "duration": 716,
    "start_time": "2023-06-09T15:12:03.416Z"
   },
   {
    "duration": 13,
    "start_time": "2023-06-09T15:12:04.134Z"
   },
   {
    "duration": 13,
    "start_time": "2023-06-09T15:12:04.149Z"
   },
   {
    "duration": 165,
    "start_time": "2023-06-09T15:12:04.163Z"
   },
   {
    "duration": 1491,
    "start_time": "2023-06-09T15:12:04.329Z"
   },
   {
    "duration": 6,
    "start_time": "2023-06-09T15:12:05.822Z"
   },
   {
    "duration": 367,
    "start_time": "2023-06-09T15:12:05.829Z"
   },
   {
    "duration": 300,
    "start_time": "2023-06-09T15:12:06.197Z"
   },
   {
    "duration": 393,
    "start_time": "2023-06-09T15:12:06.498Z"
   },
   {
    "duration": 21,
    "start_time": "2023-06-09T15:12:06.895Z"
   },
   {
    "duration": 14,
    "start_time": "2023-06-09T15:12:06.921Z"
   },
   {
    "duration": 22,
    "start_time": "2023-06-09T15:12:06.937Z"
   },
   {
    "duration": 24,
    "start_time": "2023-06-09T15:12:06.960Z"
   },
   {
    "duration": 9,
    "start_time": "2023-06-09T15:12:06.985Z"
   },
   {
    "duration": 21,
    "start_time": "2023-06-09T15:12:06.996Z"
   },
   {
    "duration": 85,
    "start_time": "2023-06-09T15:12:07.018Z"
   },
   {
    "duration": 4,
    "start_time": "2023-06-09T15:12:07.104Z"
   },
   {
    "duration": 20,
    "start_time": "2023-06-09T15:12:07.109Z"
   },
   {
    "duration": 937,
    "start_time": "2023-06-09T15:12:07.131Z"
   },
   {
    "duration": 929,
    "start_time": "2023-06-09T15:12:08.069Z"
   },
   {
    "duration": 8,
    "start_time": "2023-06-09T15:12:08.999Z"
   },
   {
    "duration": 20,
    "start_time": "2023-06-09T15:12:09.009Z"
   },
   {
    "duration": 17,
    "start_time": "2023-06-09T15:12:09.030Z"
   },
   {
    "duration": 16,
    "start_time": "2023-06-09T15:12:09.048Z"
   },
   {
    "duration": 31,
    "start_time": "2023-06-09T15:12:09.065Z"
   },
   {
    "duration": 7,
    "start_time": "2023-06-09T15:12:09.097Z"
   },
   {
    "duration": 41,
    "start_time": "2023-06-09T15:12:09.106Z"
   },
   {
    "duration": 11,
    "start_time": "2023-06-09T15:12:09.149Z"
   },
   {
    "duration": 10,
    "start_time": "2023-06-09T15:12:09.162Z"
   },
   {
    "duration": 9,
    "start_time": "2023-06-09T15:12:09.174Z"
   },
   {
    "duration": 0,
    "start_time": "2023-06-09T15:12:09.184Z"
   },
   {
    "duration": 0,
    "start_time": "2023-06-09T15:12:09.185Z"
   },
   {
    "duration": 0,
    "start_time": "2023-06-09T15:12:09.186Z"
   },
   {
    "duration": 0,
    "start_time": "2023-06-09T15:12:09.187Z"
   },
   {
    "duration": 0,
    "start_time": "2023-06-09T15:12:09.188Z"
   },
   {
    "duration": 0,
    "start_time": "2023-06-09T15:12:09.189Z"
   },
   {
    "duration": 0,
    "start_time": "2023-06-09T15:12:09.190Z"
   },
   {
    "duration": 0,
    "start_time": "2023-06-09T15:12:09.190Z"
   },
   {
    "duration": 0,
    "start_time": "2023-06-09T15:12:09.191Z"
   },
   {
    "duration": 0,
    "start_time": "2023-06-09T15:12:09.192Z"
   },
   {
    "duration": 0,
    "start_time": "2023-06-09T15:12:09.193Z"
   },
   {
    "duration": 0,
    "start_time": "2023-06-09T15:12:09.193Z"
   },
   {
    "duration": 0,
    "start_time": "2023-06-09T15:12:09.194Z"
   },
   {
    "duration": 0,
    "start_time": "2023-06-09T15:12:09.195Z"
   },
   {
    "duration": 0,
    "start_time": "2023-06-09T15:12:09.196Z"
   },
   {
    "duration": 0,
    "start_time": "2023-06-09T15:12:09.197Z"
   },
   {
    "duration": 2091,
    "start_time": "2023-06-09T15:12:48.696Z"
   },
   {
    "duration": 4,
    "start_time": "2023-06-09T15:12:50.790Z"
   },
   {
    "duration": 21,
    "start_time": "2023-06-09T15:12:50.796Z"
   },
   {
    "duration": 7622,
    "start_time": "2023-06-09T15:12:50.820Z"
   },
   {
    "duration": 69,
    "start_time": "2023-06-09T15:12:58.445Z"
   },
   {
    "duration": 15,
    "start_time": "2023-06-09T15:12:58.522Z"
   },
   {
    "duration": 16,
    "start_time": "2023-06-09T15:12:58.539Z"
   },
   {
    "duration": 11,
    "start_time": "2023-06-09T15:12:58.556Z"
   },
   {
    "duration": 104,
    "start_time": "2023-06-09T15:12:58.569Z"
   },
   {
    "duration": 10,
    "start_time": "2023-06-09T15:12:58.675Z"
   },
   {
    "duration": 22,
    "start_time": "2023-06-09T15:12:58.686Z"
   },
   {
    "duration": 27,
    "start_time": "2023-06-09T15:12:58.709Z"
   },
   {
    "duration": 7,
    "start_time": "2023-06-09T15:12:58.738Z"
   },
   {
    "duration": 45,
    "start_time": "2023-06-09T15:12:58.747Z"
   },
   {
    "duration": 10,
    "start_time": "2023-06-09T15:12:58.793Z"
   },
   {
    "duration": 10,
    "start_time": "2023-06-09T15:12:58.805Z"
   },
   {
    "duration": 19,
    "start_time": "2023-06-09T15:12:58.816Z"
   },
   {
    "duration": 15,
    "start_time": "2023-06-09T15:12:58.837Z"
   },
   {
    "duration": 38,
    "start_time": "2023-06-09T15:12:58.853Z"
   },
   {
    "duration": 11,
    "start_time": "2023-06-09T15:12:58.892Z"
   },
   {
    "duration": 11,
    "start_time": "2023-06-09T15:12:58.904Z"
   },
   {
    "duration": 13,
    "start_time": "2023-06-09T15:12:58.917Z"
   },
   {
    "duration": 15,
    "start_time": "2023-06-09T15:12:58.932Z"
   },
   {
    "duration": 24,
    "start_time": "2023-06-09T15:12:58.948Z"
   },
   {
    "duration": 38,
    "start_time": "2023-06-09T15:12:58.973Z"
   },
   {
    "duration": 12,
    "start_time": "2023-06-09T15:12:59.013Z"
   },
   {
    "duration": 16,
    "start_time": "2023-06-09T15:12:59.027Z"
   },
   {
    "duration": 14,
    "start_time": "2023-06-09T15:12:59.047Z"
   },
   {
    "duration": 18,
    "start_time": "2023-06-09T15:12:59.063Z"
   },
   {
    "duration": 16,
    "start_time": "2023-06-09T15:12:59.082Z"
   },
   {
    "duration": 68,
    "start_time": "2023-06-09T15:12:59.099Z"
   },
   {
    "duration": 733,
    "start_time": "2023-06-09T15:12:59.168Z"
   },
   {
    "duration": 31,
    "start_time": "2023-06-09T15:12:59.902Z"
   },
   {
    "duration": 12,
    "start_time": "2023-06-09T15:12:59.935Z"
   },
   {
    "duration": 158,
    "start_time": "2023-06-09T15:12:59.948Z"
   },
   {
    "duration": 1479,
    "start_time": "2023-06-09T15:13:00.108Z"
   },
   {
    "duration": 6,
    "start_time": "2023-06-09T15:13:01.588Z"
   },
   {
    "duration": 520,
    "start_time": "2023-06-09T15:13:01.595Z"
   },
   {
    "duration": 286,
    "start_time": "2023-06-09T15:13:02.117Z"
   },
   {
    "duration": 318,
    "start_time": "2023-06-09T15:13:02.415Z"
   },
   {
    "duration": 12,
    "start_time": "2023-06-09T15:13:02.735Z"
   },
   {
    "duration": 9,
    "start_time": "2023-06-09T15:13:02.748Z"
   },
   {
    "duration": 22,
    "start_time": "2023-06-09T15:13:02.758Z"
   },
   {
    "duration": 269,
    "start_time": "2023-06-09T15:13:02.781Z"
   },
   {
    "duration": 9,
    "start_time": "2023-06-09T15:13:03.052Z"
   },
   {
    "duration": 20,
    "start_time": "2023-06-09T15:13:03.062Z"
   },
   {
    "duration": 93,
    "start_time": "2023-06-09T15:13:03.083Z"
   },
   {
    "duration": 4,
    "start_time": "2023-06-09T15:13:03.178Z"
   },
   {
    "duration": 17,
    "start_time": "2023-06-09T15:13:03.183Z"
   },
   {
    "duration": 986,
    "start_time": "2023-06-09T15:13:03.202Z"
   },
   {
    "duration": 932,
    "start_time": "2023-06-09T15:13:04.189Z"
   },
   {
    "duration": 10,
    "start_time": "2023-06-09T15:13:05.122Z"
   },
   {
    "duration": 13,
    "start_time": "2023-06-09T15:13:05.134Z"
   },
   {
    "duration": 19,
    "start_time": "2023-06-09T15:13:05.148Z"
   },
   {
    "duration": 17,
    "start_time": "2023-06-09T15:13:05.170Z"
   },
   {
    "duration": 27,
    "start_time": "2023-06-09T15:13:05.188Z"
   },
   {
    "duration": 39,
    "start_time": "2023-06-09T15:13:05.216Z"
   },
   {
    "duration": 40,
    "start_time": "2023-06-09T15:13:05.257Z"
   },
   {
    "duration": 38,
    "start_time": "2023-06-09T15:13:05.299Z"
   },
   {
    "duration": 21,
    "start_time": "2023-06-09T15:13:05.339Z"
   },
   {
    "duration": 19,
    "start_time": "2023-06-09T15:13:05.362Z"
   },
   {
    "duration": 0,
    "start_time": "2023-06-09T15:13:05.383Z"
   },
   {
    "duration": 0,
    "start_time": "2023-06-09T15:13:05.384Z"
   },
   {
    "duration": 0,
    "start_time": "2023-06-09T15:13:05.386Z"
   },
   {
    "duration": 0,
    "start_time": "2023-06-09T15:13:05.387Z"
   },
   {
    "duration": 0,
    "start_time": "2023-06-09T15:13:05.388Z"
   },
   {
    "duration": 0,
    "start_time": "2023-06-09T15:13:05.389Z"
   },
   {
    "duration": 0,
    "start_time": "2023-06-09T15:13:05.391Z"
   },
   {
    "duration": 0,
    "start_time": "2023-06-09T15:13:05.392Z"
   },
   {
    "duration": 0,
    "start_time": "2023-06-09T15:13:05.394Z"
   },
   {
    "duration": 0,
    "start_time": "2023-06-09T15:13:05.395Z"
   },
   {
    "duration": 0,
    "start_time": "2023-06-09T15:13:05.396Z"
   },
   {
    "duration": 0,
    "start_time": "2023-06-09T15:13:05.398Z"
   },
   {
    "duration": 0,
    "start_time": "2023-06-09T15:13:05.399Z"
   },
   {
    "duration": 0,
    "start_time": "2023-06-09T15:13:05.401Z"
   },
   {
    "duration": 0,
    "start_time": "2023-06-09T15:13:05.405Z"
   },
   {
    "duration": 0,
    "start_time": "2023-06-09T15:13:05.416Z"
   },
   {
    "duration": 2288,
    "start_time": "2023-06-09T15:13:54.206Z"
   },
   {
    "duration": 1533,
    "start_time": "2023-06-09T15:13:56.496Z"
   },
   {
    "duration": 3,
    "start_time": "2023-06-09T15:13:58.032Z"
   },
   {
    "duration": 7966,
    "start_time": "2023-06-09T15:13:58.037Z"
   },
   {
    "duration": 77,
    "start_time": "2023-06-09T15:14:06.005Z"
   },
   {
    "duration": 14,
    "start_time": "2023-06-09T15:14:06.084Z"
   },
   {
    "duration": 30,
    "start_time": "2023-06-09T15:14:06.100Z"
   },
   {
    "duration": 16,
    "start_time": "2023-06-09T15:14:06.131Z"
   },
   {
    "duration": 295,
    "start_time": "2023-06-09T15:14:06.148Z"
   },
   {
    "duration": 8,
    "start_time": "2023-06-09T15:14:06.445Z"
   },
   {
    "duration": 33,
    "start_time": "2023-06-09T15:14:06.454Z"
   },
   {
    "duration": 14,
    "start_time": "2023-06-09T15:14:06.489Z"
   },
   {
    "duration": 21,
    "start_time": "2023-06-09T15:14:06.504Z"
   },
   {
    "duration": 74,
    "start_time": "2023-06-09T15:14:06.527Z"
   },
   {
    "duration": 10,
    "start_time": "2023-06-09T15:14:06.602Z"
   },
   {
    "duration": 33,
    "start_time": "2023-06-09T15:14:06.614Z"
   },
   {
    "duration": 35,
    "start_time": "2023-06-09T15:14:06.648Z"
   },
   {
    "duration": 29,
    "start_time": "2023-06-09T15:14:06.685Z"
   },
   {
    "duration": 48,
    "start_time": "2023-06-09T15:14:06.720Z"
   },
   {
    "duration": 12,
    "start_time": "2023-06-09T15:14:06.770Z"
   },
   {
    "duration": 27,
    "start_time": "2023-06-09T15:14:06.783Z"
   },
   {
    "duration": 16,
    "start_time": "2023-06-09T15:14:06.812Z"
   },
   {
    "duration": 21,
    "start_time": "2023-06-09T15:14:06.830Z"
   },
   {
    "duration": 25,
    "start_time": "2023-06-09T15:14:06.852Z"
   },
   {
    "duration": 39,
    "start_time": "2023-06-09T15:14:06.878Z"
   },
   {
    "duration": 12,
    "start_time": "2023-06-09T15:14:06.919Z"
   },
   {
    "duration": 15,
    "start_time": "2023-06-09T15:14:06.932Z"
   },
   {
    "duration": 8,
    "start_time": "2023-06-09T15:14:06.951Z"
   },
   {
    "duration": 14,
    "start_time": "2023-06-09T15:14:06.960Z"
   },
   {
    "duration": 16,
    "start_time": "2023-06-09T15:14:06.975Z"
   },
   {
    "duration": 61,
    "start_time": "2023-06-09T15:14:06.992Z"
   },
   {
    "duration": 1119,
    "start_time": "2023-06-09T15:14:07.055Z"
   },
   {
    "duration": 13,
    "start_time": "2023-06-09T15:14:08.176Z"
   },
   {
    "duration": 9,
    "start_time": "2023-06-09T15:14:08.190Z"
   },
   {
    "duration": 303,
    "start_time": "2023-06-09T15:14:08.200Z"
   },
   {
    "duration": 1529,
    "start_time": "2023-06-09T15:14:08.504Z"
   },
   {
    "duration": 5,
    "start_time": "2023-06-09T15:14:10.034Z"
   },
   {
    "duration": 471,
    "start_time": "2023-06-09T15:14:10.041Z"
   },
   {
    "duration": 471,
    "start_time": "2023-06-09T15:14:10.514Z"
   },
   {
    "duration": 377,
    "start_time": "2023-06-09T15:14:10.986Z"
   },
   {
    "duration": 13,
    "start_time": "2023-06-09T15:14:11.365Z"
   },
   {
    "duration": 8,
    "start_time": "2023-06-09T15:14:11.379Z"
   },
   {
    "duration": 44,
    "start_time": "2023-06-09T15:14:11.389Z"
   },
   {
    "duration": 23,
    "start_time": "2023-06-09T15:14:11.434Z"
   },
   {
    "duration": 19,
    "start_time": "2023-06-09T15:14:11.458Z"
   },
   {
    "duration": 8,
    "start_time": "2023-06-09T15:14:11.479Z"
   },
   {
    "duration": 239,
    "start_time": "2023-06-09T15:14:11.488Z"
   },
   {
    "duration": 4,
    "start_time": "2023-06-09T15:14:11.729Z"
   },
   {
    "duration": 10,
    "start_time": "2023-06-09T15:14:11.734Z"
   },
   {
    "duration": 950,
    "start_time": "2023-06-09T15:14:11.745Z"
   },
   {
    "duration": 924,
    "start_time": "2023-06-09T15:14:12.697Z"
   },
   {
    "duration": 9,
    "start_time": "2023-06-09T15:14:13.629Z"
   },
   {
    "duration": 7,
    "start_time": "2023-06-09T15:14:13.639Z"
   },
   {
    "duration": 8,
    "start_time": "2023-06-09T15:14:13.647Z"
   },
   {
    "duration": 10,
    "start_time": "2023-06-09T15:14:13.657Z"
   },
   {
    "duration": 6,
    "start_time": "2023-06-09T15:14:13.668Z"
   },
   {
    "duration": 5,
    "start_time": "2023-06-09T15:14:13.675Z"
   },
   {
    "duration": 14,
    "start_time": "2023-06-09T15:14:13.681Z"
   },
   {
    "duration": 11,
    "start_time": "2023-06-09T15:14:13.696Z"
   },
   {
    "duration": 23,
    "start_time": "2023-06-09T15:14:13.708Z"
   },
   {
    "duration": 8,
    "start_time": "2023-06-09T15:14:13.733Z"
   },
   {
    "duration": 10,
    "start_time": "2023-06-09T15:14:13.742Z"
   },
   {
    "duration": 14,
    "start_time": "2023-06-09T15:14:13.753Z"
   },
   {
    "duration": 9,
    "start_time": "2023-06-09T15:14:13.769Z"
   },
   {
    "duration": 37,
    "start_time": "2023-06-09T15:14:13.779Z"
   },
   {
    "duration": 7,
    "start_time": "2023-06-09T15:14:13.818Z"
   },
   {
    "duration": 16,
    "start_time": "2023-06-09T15:14:13.826Z"
   },
   {
    "duration": 29,
    "start_time": "2023-06-09T15:14:13.843Z"
   },
   {
    "duration": 1255,
    "start_time": "2023-06-09T15:14:13.874Z"
   },
   {
    "duration": 986,
    "start_time": "2023-06-09T15:14:15.132Z"
   },
   {
    "duration": 4853,
    "start_time": "2023-06-09T15:14:16.120Z"
   },
   {
    "duration": 3311,
    "start_time": "2023-06-09T15:14:21.016Z"
   },
   {
    "duration": 1021,
    "start_time": "2023-06-09T15:14:24.329Z"
   },
   {
    "duration": 4,
    "start_time": "2023-06-09T15:14:25.352Z"
   },
   {
    "duration": 2025,
    "start_time": "2023-06-09T15:17:21.280Z"
   },
   {
    "duration": 1279,
    "start_time": "2023-06-09T15:17:23.306Z"
   },
   {
    "duration": 2,
    "start_time": "2023-06-09T15:17:24.587Z"
   },
   {
    "duration": 7622,
    "start_time": "2023-06-09T15:17:24.590Z"
   },
   {
    "duration": 73,
    "start_time": "2023-06-09T15:17:32.215Z"
   },
   {
    "duration": 12,
    "start_time": "2023-06-09T15:17:32.290Z"
   },
   {
    "duration": 48,
    "start_time": "2023-06-09T15:17:32.303Z"
   },
   {
    "duration": 68,
    "start_time": "2023-06-09T15:17:32.353Z"
   },
   {
    "duration": 319,
    "start_time": "2023-06-09T15:17:32.422Z"
   },
   {
    "duration": 8,
    "start_time": "2023-06-09T15:17:32.742Z"
   },
   {
    "duration": 33,
    "start_time": "2023-06-09T15:17:32.751Z"
   },
   {
    "duration": 13,
    "start_time": "2023-06-09T15:17:32.785Z"
   },
   {
    "duration": 38,
    "start_time": "2023-06-09T15:17:32.799Z"
   },
   {
    "duration": 73,
    "start_time": "2023-06-09T15:17:32.839Z"
   },
   {
    "duration": 15,
    "start_time": "2023-06-09T15:17:32.914Z"
   },
   {
    "duration": 35,
    "start_time": "2023-06-09T15:17:32.931Z"
   },
   {
    "duration": 17,
    "start_time": "2023-06-09T15:17:32.967Z"
   },
   {
    "duration": 26,
    "start_time": "2023-06-09T15:17:32.985Z"
   },
   {
    "duration": 83,
    "start_time": "2023-06-09T15:17:33.012Z"
   },
   {
    "duration": 9,
    "start_time": "2023-06-09T15:17:33.096Z"
   },
   {
    "duration": 38,
    "start_time": "2023-06-09T15:17:33.106Z"
   },
   {
    "duration": 35,
    "start_time": "2023-06-09T15:17:33.146Z"
   },
   {
    "duration": 24,
    "start_time": "2023-06-09T15:17:33.183Z"
   },
   {
    "duration": 46,
    "start_time": "2023-06-09T15:17:33.208Z"
   },
   {
    "duration": 46,
    "start_time": "2023-06-09T15:17:33.256Z"
   },
   {
    "duration": 10,
    "start_time": "2023-06-09T15:17:33.303Z"
   },
   {
    "duration": 103,
    "start_time": "2023-06-09T15:17:33.315Z"
   },
   {
    "duration": 27,
    "start_time": "2023-06-09T15:17:33.420Z"
   },
   {
    "duration": 24,
    "start_time": "2023-06-09T15:17:33.448Z"
   },
   {
    "duration": 28,
    "start_time": "2023-06-09T15:17:33.473Z"
   },
   {
    "duration": 97,
    "start_time": "2023-06-09T15:17:33.503Z"
   },
   {
    "duration": 1121,
    "start_time": "2023-06-09T15:17:33.602Z"
   },
   {
    "duration": 16,
    "start_time": "2023-06-09T15:17:34.725Z"
   },
   {
    "duration": 9,
    "start_time": "2023-06-09T15:17:34.743Z"
   },
   {
    "duration": 346,
    "start_time": "2023-06-09T15:17:34.754Z"
   },
   {
    "duration": 1491,
    "start_time": "2023-06-09T15:17:35.102Z"
   },
   {
    "duration": 5,
    "start_time": "2023-06-09T15:17:36.595Z"
   },
   {
    "duration": 484,
    "start_time": "2023-06-09T15:17:36.602Z"
   },
   {
    "duration": 491,
    "start_time": "2023-06-09T15:17:37.088Z"
   },
   {
    "duration": 392,
    "start_time": "2023-06-09T15:17:37.581Z"
   },
   {
    "duration": 13,
    "start_time": "2023-06-09T15:17:37.978Z"
   },
   {
    "duration": 24,
    "start_time": "2023-06-09T15:17:37.992Z"
   },
   {
    "duration": 21,
    "start_time": "2023-06-09T15:17:38.018Z"
   },
   {
    "duration": 25,
    "start_time": "2023-06-09T15:17:38.040Z"
   },
   {
    "duration": 12,
    "start_time": "2023-06-09T15:17:38.066Z"
   },
   {
    "duration": 22,
    "start_time": "2023-06-09T15:17:38.079Z"
   },
   {
    "duration": 226,
    "start_time": "2023-06-09T15:17:38.102Z"
   },
   {
    "duration": 4,
    "start_time": "2023-06-09T15:17:38.330Z"
   },
   {
    "duration": 19,
    "start_time": "2023-06-09T15:17:38.335Z"
   },
   {
    "duration": 924,
    "start_time": "2023-06-09T15:17:38.355Z"
   },
   {
    "duration": 888,
    "start_time": "2023-06-09T15:17:39.280Z"
   },
   {
    "duration": 8,
    "start_time": "2023-06-09T15:17:40.169Z"
   },
   {
    "duration": 6,
    "start_time": "2023-06-09T15:17:40.178Z"
   },
   {
    "duration": 10,
    "start_time": "2023-06-09T15:17:40.185Z"
   },
   {
    "duration": 7,
    "start_time": "2023-06-09T15:17:40.196Z"
   },
   {
    "duration": 12,
    "start_time": "2023-06-09T15:17:40.204Z"
   },
   {
    "duration": 29,
    "start_time": "2023-06-09T15:17:40.218Z"
   },
   {
    "duration": 8,
    "start_time": "2023-06-09T15:17:40.248Z"
   },
   {
    "duration": 15,
    "start_time": "2023-06-09T15:17:40.257Z"
   },
   {
    "duration": 21,
    "start_time": "2023-06-09T15:17:40.273Z"
   },
   {
    "duration": 5,
    "start_time": "2023-06-09T15:17:40.295Z"
   },
   {
    "duration": 16,
    "start_time": "2023-06-09T15:17:40.301Z"
   },
   {
    "duration": 31,
    "start_time": "2023-06-09T15:17:40.318Z"
   },
   {
    "duration": 110,
    "start_time": "2023-06-09T15:17:40.351Z"
   },
   {
    "duration": 0,
    "start_time": "2023-06-09T15:17:40.462Z"
   },
   {
    "duration": 0,
    "start_time": "2023-06-09T15:17:40.463Z"
   },
   {
    "duration": 0,
    "start_time": "2023-06-09T15:17:40.464Z"
   },
   {
    "duration": 0,
    "start_time": "2023-06-09T15:17:40.465Z"
   },
   {
    "duration": 0,
    "start_time": "2023-06-09T15:17:40.466Z"
   },
   {
    "duration": 0,
    "start_time": "2023-06-09T15:17:40.467Z"
   },
   {
    "duration": 0,
    "start_time": "2023-06-09T15:17:40.467Z"
   },
   {
    "duration": 0,
    "start_time": "2023-06-09T15:17:40.468Z"
   },
   {
    "duration": 0,
    "start_time": "2023-06-09T15:17:40.469Z"
   },
   {
    "duration": 0,
    "start_time": "2023-06-09T15:17:40.470Z"
   },
   {
    "duration": 0,
    "start_time": "2023-06-09T15:17:40.471Z"
   },
   {
    "duration": 0,
    "start_time": "2023-06-09T15:17:40.472Z"
   },
   {
    "duration": 0,
    "start_time": "2023-06-09T15:17:40.473Z"
   },
   {
    "duration": 8,
    "start_time": "2023-06-09T15:18:04.503Z"
   },
   {
    "duration": 27,
    "start_time": "2023-06-09T15:18:04.512Z"
   },
   {
    "duration": 47,
    "start_time": "2023-06-09T15:18:04.540Z"
   },
   {
    "duration": 10,
    "start_time": "2023-06-09T15:18:04.589Z"
   },
   {
    "duration": 14,
    "start_time": "2023-06-09T15:18:04.600Z"
   },
   {
    "duration": 41,
    "start_time": "2023-06-09T15:18:04.619Z"
   },
   {
    "duration": 1068,
    "start_time": "2023-06-09T15:18:04.662Z"
   },
   {
    "duration": 1101,
    "start_time": "2023-06-09T15:18:05.736Z"
   },
   {
    "duration": 4553,
    "start_time": "2023-06-09T15:18:06.916Z"
   },
   {
    "duration": 3278,
    "start_time": "2023-06-09T15:18:11.471Z"
   },
   {
    "duration": 1010,
    "start_time": "2023-06-09T15:18:14.750Z"
   },
   {
    "duration": 3,
    "start_time": "2023-06-09T15:18:15.761Z"
   },
   {
    "duration": 3074367,
    "start_time": "2023-06-09T15:18:15.765Z"
   },
   {
    "duration": 94,
    "start_time": "2023-06-09T16:09:30.134Z"
   },
   {
    "duration": 494,
    "start_time": "2023-06-09T16:09:30.230Z"
   }
  ],
  "kernelspec": {
   "display_name": "Python 3 (ipykernel)",
   "language": "python",
   "name": "python3"
  },
  "language_info": {
   "codemirror_mode": {
    "name": "ipython",
    "version": 3
   },
   "file_extension": ".py",
   "mimetype": "text/x-python",
   "name": "python",
   "nbconvert_exporter": "python",
   "pygments_lexer": "ipython3",
   "version": "3.9.13"
  },
  "toc": {
   "base_numbering": 1,
   "nav_menu": {},
   "number_sections": true,
   "sideBar": true,
   "skip_h1_title": true,
   "title_cell": "Table of Contents",
   "title_sidebar": "Contents",
   "toc_cell": false,
   "toc_position": {},
   "toc_section_display": true,
   "toc_window_display": false
  },
  "vscode": {
   "interpreter": {
    "hash": "aee8b7b246df8f9039afb4144a1f6fd8d2ca17a180786b69acc140d282b71a49"
   }
  }
 },
 "nbformat": 4,
 "nbformat_minor": 2
}
